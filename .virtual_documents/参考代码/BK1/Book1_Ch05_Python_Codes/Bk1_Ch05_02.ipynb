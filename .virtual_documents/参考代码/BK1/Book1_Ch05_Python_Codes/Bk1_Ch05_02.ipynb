


x = 88.8
y = 8


# 将浮点数转换为整数
x_to_int = int(x)
print(x_to_int)  # 88


# 将整数转换为浮点数
y_to_float = float(y)
print(y_to_float)  # 8.0


# 将整数转换为复数
y_to_complex = complex(y)
print(y_to_complex)  # (8+0j)


# 将数字转换为字符串
x_to_str = str(x)
print(x_to_str)  # '88.8'



