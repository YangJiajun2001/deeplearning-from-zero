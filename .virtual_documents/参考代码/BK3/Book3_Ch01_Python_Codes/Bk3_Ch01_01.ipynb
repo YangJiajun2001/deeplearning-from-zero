








import math  # 导入math库





print('pi = ', math.pi)  # 输出π的值


print('e = ', math.e)  # 输出自然常数e的值


print('sqrt(2) = ', math.sqrt(2))  # 输出2的平方根






