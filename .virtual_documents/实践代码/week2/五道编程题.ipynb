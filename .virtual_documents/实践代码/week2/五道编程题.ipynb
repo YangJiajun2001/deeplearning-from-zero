





def digital_root(n):
    return n if n < 10 else digital_root(sum(map(int,str(n))))








def add_binary(a,b):
    return bin(a+b)[2:]








def validate_pin(pin):
    return len(pin) in (4, 6) and pin.isdigit()








def find_short(s):
    return min(len(x) for x in s.split())








def sort_array(arr):
  odds = sorted((x for x in arr if x%2 != 0), reverse=True)
  return [x if x%2==0 else odds.pop() for x in arr]
