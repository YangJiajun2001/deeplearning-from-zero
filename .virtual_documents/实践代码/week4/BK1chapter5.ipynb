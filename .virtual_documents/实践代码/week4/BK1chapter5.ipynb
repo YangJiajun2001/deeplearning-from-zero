x = 88     # 整数
y = -8.88  # 浮点数
z = 8 + 8j # 复数


print(type(x))


print(type(y))


print(type(z))



