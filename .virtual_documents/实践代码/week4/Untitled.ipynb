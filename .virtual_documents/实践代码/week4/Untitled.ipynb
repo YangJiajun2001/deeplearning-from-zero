# 根据提示猜测秘密数字

import random

def askForGuess():
    while True:
        Quess = input('> ')#输入猜测数字
        if guess.isdecimal():
            return int(guess) #将输入的字符串转换为整数
            print('Please enter a number between 1 and 100.')

print('Quess the Number, by AI Sweigart al@inventwithpython.com')
print()

secretNumber = random.randint(1, 100)
print('I am thinking of aa number betreen 1 ans 100.')

for i in range(10):#给玩家10茨机会
    print('You have {} guesses left. Takke a guess.'.format(10 - 1))

    guess = askForGuess()
    if guess == secretNumber:
        break #如果猜测正确，则结束循环

    #给出一个提示
    if guess < secretNumber:
        print('Your guess is too low.')
    if guess > secretNumber:
        print('Your guess is too big.')

#显示结果
if guess == secretNumber:
    print('Yay! You guessed my number!')
else:
    print('Game over. The number Iwas thinking of was', secretNumber)







