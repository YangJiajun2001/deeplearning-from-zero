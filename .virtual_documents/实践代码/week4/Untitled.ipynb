





def breakChocolate(n, m):
    return max(n*m-1,0)








def arithmetic(a, b, operator):
    return {
        'add': a + b,
        'subtract': a - b,
        'multiply': a * b,
        'divide': a / b,
    }[operator]








def two_oldest_ages(ages):
    return sorted(ages)[-2:]








def sumDigits(number):
    return sum(int(d) for d in str(abs(number)))


















