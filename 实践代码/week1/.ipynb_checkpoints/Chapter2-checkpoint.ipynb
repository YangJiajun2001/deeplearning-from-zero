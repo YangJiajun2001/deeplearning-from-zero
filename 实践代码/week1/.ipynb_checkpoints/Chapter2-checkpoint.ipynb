{
 "cells": [
  {
   "cell_type": "markdown",
   "id": "40eb3ab1-04e2-4841-8bd4-b69c391ce569",
   "metadata": {},
   "source": [
    "# 检查Python常用库版本号"
   ]
  },
  {
   "cell_type": "code",
   "execution_count": 3,
   "id": "cd3c5921-ea8d-49d9-b2aa-5c7083b6275d",
   "metadata": {},
   "outputs": [
    {
     "name": "stdout",
     "output_type": "stream",
     "text": [
      "scipy: 1.13.1\n"
     ]
    }
   ],
   "source": [
    "import scipy\n",
    "print(\"scipy: %s\" % scipy.__version__)"
   ]
  },
  {
   "cell_type": "code",
   "execution_count": 5,
   "id": "3c2a2b46-02ef-4b73-942e-b56d3da2f2ba",
   "metadata": {},
   "outputs": [
    {
     "name": "stdout",
     "output_type": "stream",
     "text": [
      "numpy: 1.26.4\n"
     ]
    }
   ],
   "source": [
    "import numpy\n",
    "print(\"numpy: %s\" % numpy.__version__)"
   ]
  },
  {
   "cell_type": "code",
   "execution_count": 9,
   "id": "414c771c-3eb3-4cb3-8b7e-7721ec205c0d",
   "metadata": {},
   "outputs": [
    {
     "name": "stdout",
     "output_type": "stream",
     "text": [
      "matplotlib: 3.9.2\n"
     ]
    }
   ],
   "source": [
    "import matplotlib\n",
    "print(\"matplotlib: %s\" % matplotlib.__version__)"
   ]
  },
  {
   "cell_type": "code",
   "execution_count": 11,
   "id": "df6b9324-8bf7-4dc5-8dbd-de38c256d9a4",
   "metadata": {},
   "outputs": [
    {
     "name": "stdout",
     "output_type": "stream",
     "text": [
      "pandas: 2.2.2\n"
     ]
    }
   ],
   "source": [
    "import pandas\n",
    "print(\"pandas: %s\" % pandas.__version__)"
   ]
  },
  {
   "cell_type": "code",
   "execution_count": 15,
   "id": "f7a4eba7-0005-4492-bf4f-abebc6e2e1ff",
   "metadata": {},
   "outputs": [
    {
     "name": "stdout",
     "output_type": "stream",
     "text": [
      "statsmodels: 0.14.2\n"
     ]
    }
   ],
   "source": [
    "import statsmodels\n",
    "print(\"statsmodels: %s\" % statsmodels.__version__)"
   ]
  },
  {
   "cell_type": "code",
   "execution_count": 17,
   "id": "370a5f05-e379-414a-9957-2e8ad14a8587",
   "metadata": {},
   "outputs": [
    {
     "name": "stdout",
     "output_type": "stream",
     "text": [
      "sklearn: 1.5.1\n"
     ]
    }
   ],
   "source": [
    "import sklearn\n",
    "print(\"sklearn: %s\" % sklearn.__version__)"
   ]
  }
 ],
 "metadata": {
  "kernelspec": {
   "display_name": "Python [conda env:base] *",
   "language": "python",
   "name": "conda-base-py"
  },
  "language_info": {
   "codemirror_mode": {
    "name": "ipython",
    "version": 3
   },
   "file_extension": ".py",
   "mimetype": "text/x-python",
   "name": "python",
   "nbconvert_exporter": "python",
   "pygments_lexer": "ipython3",
   "version": "3.12.7"
  }
 },
 "nbformat": 4,
 "nbformat_minor": 5
}
