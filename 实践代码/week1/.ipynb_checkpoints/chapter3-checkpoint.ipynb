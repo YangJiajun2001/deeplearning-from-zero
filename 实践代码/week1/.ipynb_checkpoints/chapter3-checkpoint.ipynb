{
 "cells": [
  {
   "cell_type": "markdown",
   "id": "283f1004-575d-4b54-86ad-dd37d6ee85d6",
   "metadata": {},
   "source": [
    "# jupyterLab常用功能"
   ]
  },
  {
   "cell_type": "markdown",
   "id": "e12fac30-4cf0-43ce-972c-31b48d9aead0",
   "metadata": {},
   "source": [
    "## 0.导入库"
   ]
  },
  {
   "cell_type": "code",
   "execution_count": 3,
   "id": "8fb0cd56-8649-4c26-b942-fc13fd857330",
   "metadata": {},
   "outputs": [],
   "source": [
    "# 导入常用包\n",
    "import numpy as np\n",
    "import matplotlib.pyplot as plt\n",
    "import plotly.express as ps\n",
    "import seaborn as sns"
   ]
  },
  {
   "cell_type": "markdown",
   "id": "4ede9178-3b2d-4590-b604-60e32521f234",
   "metadata": {},
   "source": [
    "## 1.代码"
   ]
  },
  {
   "cell_type": "markdown",
   "id": "61b21ace-f591-4766-8c06-a4b414d23b7c",
   "metadata": {},
   "source": [
    "### 1.1生成等差数列"
   ]
  },
  {
   "cell_type": "code",
   "execution_count": 8,
   "id": "02e06336-ee59-4ede-ac56-b2e1309dad54",
   "metadata": {},
   "outputs": [
    {
     "name": "stdout",
     "output_type": "stream",
     "text": [
      "打印等差数列\n"
     ]
    },
    {
     "data": {
      "text/plain": [
       "array([ 1,  3,  5,  7,  9, 11, 13, 15, 17, 19])"
      ]
     },
     "execution_count": 8,
     "metadata": {},
     "output_type": "execute_result"
    }
   ],
   "source": [
    "a0 = 1\n",
    "n = 10\n",
    "d = 2\n",
    "a_array = np.arange(a0, a0 + n*d, d)\n",
    "print(\"打印等差数列\")\n",
    "a_array"
   ]
  },
  {
   "cell_type": "markdown",
   "id": "44ef4288-8ddc-4d8c-b7c0-291e0549eceb",
   "metadata": {},
   "source": [
    "### 1.3生成二元函数数据"
   ]
  },
  {
   "cell_type": "code",
   "execution_count": 16,
   "id": "6e698b2c-8718-4e9e-a79d-62b8bbf39e36",
   "metadata": {},
   "outputs": [],
   "source": [
    "x1_array = np.linspace(-3, 3, 301)\n",
    "x2_array = np.linspace(-3, 3, 301)\n",
    "xx1, xx2 = np.meshgrid(x1_array, x2_array)"
   ]
  },
  {
   "cell_type": "code",
   "execution_count": 18,
   "id": "ca1af3f1-19c7-4e4c-ae74-db22845b421f",
   "metadata": {},
   "outputs": [
    {
     "data": {
      "text/plain": [
       "array([[-3.  , -2.98, -2.96, ...,  2.96,  2.98,  3.  ],\n",
       "       [-3.  , -2.98, -2.96, ...,  2.96,  2.98,  3.  ],\n",
       "       [-3.  , -2.98, -2.96, ...,  2.96,  2.98,  3.  ],\n",
       "       ...,\n",
       "       [-3.  , -2.98, -2.96, ...,  2.96,  2.98,  3.  ],\n",
       "       [-3.  , -2.98, -2.96, ...,  2.96,  2.98,  3.  ],\n",
       "       [-3.  , -2.98, -2.96, ...,  2.96,  2.98,  3.  ]])"
      ]
     },
     "execution_count": 18,
     "metadata": {},
     "output_type": "execute_result"
    }
   ],
   "source": [
    "xx1"
   ]
  },
  {
   "cell_type": "code",
   "execution_count": 20,
   "id": "11c4f363-cfd2-49f8-9842-bf93a968d50d",
   "metadata": {},
   "outputs": [
    {
     "data": {
      "text/plain": [
       "array([[-3.  , -3.  , -3.  , ..., -3.  , -3.  , -3.  ],\n",
       "       [-2.98, -2.98, -2.98, ..., -2.98, -2.98, -2.98],\n",
       "       [-2.96, -2.96, -2.96, ..., -2.96, -2.96, -2.96],\n",
       "       ...,\n",
       "       [ 2.96,  2.96,  2.96, ...,  2.96,  2.96,  2.96],\n",
       "       [ 2.98,  2.98,  2.98, ...,  2.98,  2.98,  2.98],\n",
       "       [ 3.  ,  3.  ,  3.  , ...,  3.  ,  3.  ,  3.  ]])"
      ]
     },
     "execution_count": 20,
     "metadata": {},
     "output_type": "execute_result"
    }
   ],
   "source": [
    "xx2"
   ]
  },
  {
   "cell_type": "markdown",
   "id": "a7ef6124-34c4-4e45-87c6-d88c6b2421e5",
   "metadata": {},
   "source": [
    "## 2.Latex公式"
   ]
  },
  {
   "cell_type": "markdown",
   "id": "29de8a43-e465-4d71-8cb0-3d012a9627d4",
   "metadata": {},
   "source": [
    "### 2.1多项式"
   ]
  },
  {
   "cell_type": "markdown",
   "id": "0ed66632-e622-4aa2-84fa-f7c3199c05b8",
   "metadata": {},
   "source": [
    "$x^{2}-y^{2} = \\left(x+y\\right)\\left(x-y\\right)$"
   ]
  },
  {
   "cell_type": "markdown",
   "id": "cf32615d-59b5-49ef-931e-7795d6514695",
   "metadata": {},
   "source": [
    "$a_{n}x^{n}+a_{n-1}x^{n-1}+\\dotsb+a_{2}x^{2}+a_{1}x^{1}+a_{0}$"
   ]
  },
  {
   "cell_type": "markdown",
   "id": "b6781f42-e263-45f6-b451-153990065c88",
   "metadata": {},
   "source": [
    "$\\sum_{k=0}^{n}a_{k}x^{k}$"
   ]
  },
  {
   "cell_type": "markdown",
   "id": "a9cf52c7-fb39-4bd1-88bb-a23a2755eb18",
   "metadata": {},
   "source": [
    "$ax^{2}+bx+c=0(a\\neq 0)$"
   ]
  },
  {
   "cell_type": "markdown",
   "id": "f23a7e73-2e03-4021-aecd-06c1e42c2a00",
   "metadata": {},
   "source": [
    "### 2.2根式"
   ]
  },
  {
   "cell_type": "markdown",
   "id": "bca54e68-de1e-4d11-8ba9-e7bc42ac7068",
   "metadata": {},
   "source": [
    "${\\sqrt[{n}]{a^{m}}}=(a^{m})^{1/n}=a^{m/n}=(a^{1/n})^{m}=({\\sqrt[{n}]{a}})^{m}$"
   ]
  },
  {
   "cell_type": "markdown",
   "id": "ecb6ccd3-34cb-4610-8fc0-30abc9a521bf",
   "metadata": {},
   "source": [
    "$x-{1,2}={\\frac{-b\\pm{\\sqrt{b^{2}-4ac}}}{2a}}$"
   ]
  },
  {
   "cell_type": "markdown",
   "id": "6f8e8a64-f1f1-4d99-88c0-074ffc52908b",
   "metadata": {},
   "source": [
    "### 2.3函数"
   ]
  },
  {
   "cell_type": "markdown",
   "id": "fd6fb840-6c00-4e8c-90e7-85109834e0c1",
   "metadata": {},
   "source": [
    "$f(x)=ax^{2}+bx+c~~{\\text{with}}~~a,b,c\\in\\mathbb{R}, a\\neq 0$"
   ]
  },
  {
   "cell_type": "markdown",
   "id": "ef49a3b8-26d8-40cf-93c9-6a112f6ab55a",
   "metadata": {},
   "source": [
    "$f(x_1, x_2)=x_1^2+x_2^2+2x_1x_2$"
   ]
  },
  {
   "cell_type": "markdown",
   "id": "592c84f5-94b2-43e8-a7d8-94d4e52941e2",
   "metadata": {},
   "source": [
    "$\\log_{b}(xy)=\\log_{b}x+\\log_{b}y$"
   ]
  },
  {
   "cell_type": "markdown",
   "id": "112860d1-f864-4d2f-b4ae-db0157e7a801",
   "metadata": {},
   "source": [
    "$\\ln(xy)=\\ln x+\\ln y{\\text{ for }} x>0{\\text{ and }} y>0$"
   ]
  },
  {
   "cell_type": "markdown",
   "id": "96efa33a-a2f4-4a91-95fa-ad653dc0ad30",
   "metadata": {},
   "source": [
    "$f(x)=a\\exp \\left(-{\\frac {(x-b)^{2}}{2c^{2}}}\\right)$"
   ]
  },
  {
   "cell_type": "markdown",
   "id": "ec607a85-2a0f-4d6b-a8e3-c3f7c59f89ee",
   "metadata": {},
   "source": [
    "### 2.4三角恒等式"
   ]
  },
  {
   "cell_type": "markdown",
   "id": "342f3b96-1870-4ea9-9f67-8c763384099d",
   "metadata": {},
   "source": [
    "$\\sin ^{2}\\theta +\\cos ^{2}\\theta=1$"
   ]
  },
  {
   "cell_type": "markdown",
   "id": "f14e0e2a-ec5c-4c2b-98a8-6cc749caacf2",
   "metadata": {},
   "source": [
    "$\\sin 2\\theta =2\\sin \\theta \\cos \\theta$"
   ]
  },
  {
   "cell_type": "markdown",
   "id": "a94c3d5a-f9e1-4a95-af7c-7eff07195bb6",
   "metadata": {},
   "source": [
    "$\\sin(\\alpha \\pm \\beta)=\\sin \\alpha \\cos \\beta \\pm \\cos \\alpha \\sin \\beta$"
   ]
  },
  {
   "cell_type": "markdown",
   "id": "b4bb135f-9180-4ede-b155-a3b4994822be",
   "metadata": {},
   "source": [
    "$\\tan (\\alpha \\pm \\beta)=\\frac{\\tan \\alpha \\pm \\tan \\beta}{1\\mp \\tan \\alpha \\tan \\beta}$"
   ]
  },
  {
   "cell_type": "markdown",
   "id": "cf02a9c3-f0ff-4c09-9e68-6ee1c03b3a31",
   "metadata": {},
   "source": [
    "### 2.5微积分"
   ]
  },
  {
   "cell_type": "markdown",
   "id": "3b962f83-98a1-45d0-ad2f-c3fe84e149a4",
   "metadata": {},
   "source": [
    "$\\exp(x)=\\sum_{k=0}^{\\infty}{\\frac{x^{k}}{k!}}=1+x+{\\frac{x^{2}}{2}}+{\\frac{x^{3}}{6}}+{\\frac{x^{4}}{24}}+\\cdots$"
   ]
  },
  {
   "cell_type": "markdown",
   "id": "52a6c760-59ce-49af-815a-2e6f89dfa751",
   "metadata": {},
   "source": [
    "$\\left(\\sum_{i=0}^{n}a_{i}\\right)\\left(\\sum_{j=0}^{n}b_{j}\\right)=\\sum_{i=0}^{n}\\sum_{j=0}^{n}a_{i}b_{j}$"
   ]
  },
  {
   "cell_type": "markdown",
   "id": "0b471e49-5942-41fd-981d-abbe214e8dd3",
   "metadata": {},
   "source": [
    "$\\exp(x) = \\lim_{n\\to \\infty}\\left(1+{\\frac{x}{n}}\\right)^{n}$"
   ]
  },
  {
   "cell_type": "markdown",
   "id": "079cd1ba-6541-464a-99a1-4929096c10f5",
   "metadata": {},
   "source": [
    "$\\frac {\\mathrm{d}}{\\mathrm{d}x}\\exp(f(x))=f'(x)\\exp(f(x))$"
   ]
  },
  {
   "cell_type": "markdown",
   "id": "52efdafe-4e43-4177-b166-5216861310ff",
   "metadata": {},
   "source": [
    "$\\int_{a}^{b}f(x)\\mathrm{d}x$"
   ]
  },
  {
   "cell_type": "markdown",
   "id": "3a7d1de5-9c4f-43c9-845d-4dee902568ee",
   "metadata": {},
   "source": [
    "$\\int _{-\\infty}^{\\infty}\\exp(-x^{2})\\mathrm{d}x={\\sqrt{\\mathrm{\\pi}}}$"
   ]
  },
  {
   "cell_type": "markdown",
   "id": "50db374f-0a36-4f9b-9778-a1665c6d6343",
   "metadata": {},
   "source": [
    "$\\int _{-\\infty}^{\\infty}\\int_{-\\infty}^{\\infty}\\exp\\left({-\\left(x^{2}+y^{2}\\right)}\\right){\\mathrm{d}x}{\\mathrm{d}y}=\\pi$"
   ]
  },
  {
   "cell_type": "markdown",
   "id": "18a6dd84-b845-4672-b37f-38bb4e6dc871",
   "metadata": {},
   "source": [
    "$\\frac {\\partial ^{2}f}{\\partial x^{2}}=f''_{xx}=\\partial_{xx}f=\\partial_{x}^{2}f$"
   ]
  },
  {
   "cell_type": "markdown",
   "id": "944aec5a-f164-4ad2-a08f-3e1304cc2e00",
   "metadata": {},
   "source": [
    "${\\frac{\\partial ^{2}f}{\\partial y\\partial x}}={\\frac {\\partial}{\\partial y}}\\left({\\frac{\\partial f}{\\partial x}}\\right)=f''_{xy}$"
   ]
  },
  {
   "cell_type": "markdown",
   "id": "e6098d66-fe0d-4c6c-8f37-90da08ac5033",
   "metadata": {},
   "source": [
    "### 2.6向量"
   ]
  },
  {
   "cell_type": "markdown",
   "id": "3a487df4-f189-4d30-ac26-d4188008f595",
   "metadata": {},
   "source": [
    "$\\mathbf{a}=={\\begin{bmatrix}a_{1}\\\\a_{2}\\\\a_{3}\\end{bmatrix}}=[a_{1}\\ a_{2}\\ a_{3}]^{\\operatorname{T}}$"
   ]
  },
  {
   "cell_type": "markdown",
   "id": "978d8811-a608-46e6-9d8c-1e44455edf27",
   "metadata": {},
   "source": [
    "$\\left\\|\\mathbf{a}\\right\\|=\\sqrt{a_{1}^{2}+a_{2}^{2}+a_{3}^{2}}$"
   ]
  },
  {
   "cell_type": "markdown",
   "id": "eb577d81-4ce6-4184-9da1-25913839abc3",
   "metadata": {},
   "source": [
    "$\\mathbf{a} \\cdot \\mathbf{b}=a_{1}b_{1}+a_{2}b_{2}+a_{3}b_{3}$"
   ]
  },
  {
   "cell_type": "markdown",
   "id": "16653b3e-49dd-4db6-ba20-2a04268f9c55",
   "metadata": {},
   "source": [
    "$\\mathbf {a} \\cdot \\mathbf {b} = \\left\\|\\mathbf{a}\\right\\|\\left\\|\\mathbf{b}\\right\\|\\cos \\theta$"
   ]
  },
  {
   "cell_type": "markdown",
   "id": "54bff3dd-a94c-4213-8d2e-35d3708451ee",
   "metadata": {},
   "source": [
    "$\\|\\mathbf{x}\\|_{p}=\\left(\\sum_{i=1}^{n}\\left|x_{i}\\right|^{p}\\right)^{1/p}$"
   ]
  },
  {
   "cell_type": "markdown",
   "id": "f87a03c4-0a44-4c5a-965c-05175c43117e",
   "metadata": {},
   "source": [
    "### 2.7矩阵"
   ]
  },
  {
   "cell_type": "markdown",
   "id": "a6392e9c-d9d8-4da1-a9a9-82d1bfbde6e7",
   "metadata": {},
   "source": [
    "$\\mathbf {A}={\\begin{bmatrix}1&2\\\\ 3&4\\\\ 5&6 \\end{bmatrix}}$"
   ]
  },
  {
   "cell_type": "markdown",
   "id": "d5949122-9fd1-4436-afdb-49b0352e3451",
   "metadata": {},
   "source": [
    "$\\mathbf {A}\n",
    "={\\begin{bmatrix}\n",
    "a_{11}&a_{12}&\\cdots &a_{1n}\\\\\n",
    "a_{21}&a_{22}&\\cdots &a_{2n}\\\\\n",
    "\\vdots &\\vdots &\\ddots &\\vdots \\\\\n",
    "a_{m1}&a_{m2}&\\cdots &a_{mn}\n",
    "\\end{bmatrix}}\n",
    "$"
   ]
  },
  {
   "cell_type": "markdown",
   "id": "5b61ed92-1fe6-4f5c-9449-7b6e9dbaf48c",
   "metadata": {},
   "source": [
    "$\\left(\\mathbf {A} +\\mathbf {B}\\right)^{\\operatorname{T}}=\\mathbf {A}^{\\operatorname{T}}+\\mathbf {B}^{\\operatorname{T}}$"
   ]
  },
  {
   "cell_type": "markdown",
   "id": "6cbc6b09-01c9-4c88-bacd-ec6bf3681729",
   "metadata": {},
   "source": [
    "$\\left(\\mathbf{AB}\\right)^{\\operatorname{T}}=\\mathbf{B^{\\operatorname{T}}\\mathbf{A}^{\\operatorname{T}}}$"
   ]
  },
  {
   "cell_type": "markdown",
   "id": "7639888d-43d6-45ee-9102-049386d74b48",
   "metadata": {},
   "source": [
    "$\\left(\\mathbf{A}^{\\operatorname{T}}\\right)^{-1}=\\left(\\mathbf{A}^{-1}\\right)^{\\operatorname{T}}$"
   ]
  },
  {
   "cell_type": "markdown",
   "id": "a2dedf91-c177-42db-bf0d-af066361e0b9",
   "metadata": {},
   "source": [
    "$\\mathbf {u}\\otimes \\mathbf {v}=\n",
    "\\mathbf {u}\\mathbf {v}^{\\operatorname{T}}=\n",
    "{\\begin{bmatrix}u_{1}\\\\ u_{2}\\\\ u_{3}\\\\ u_{4}\\end{bmatrix}}{\\begin{bmatrix}v_{1}& v_{2}& v_{3}\\end{bmatrix}}=\n",
    "{\\begin{bmatrix}\n",
    "u_{1}v_{1}&u_{1}v_{2}&u_{1}v_{3}\\\\\n",
    "u_{2}v_{1}&u_{2}v_{2}&u_{2}v_{3}\\\\\n",
    "u_{3}v_{1}&u_{3}v_{2}&u_{3}v_{3}\\\\\n",
    "u_{4}v_{1}&u_{4}v_{2}&u_{4}v_{3}\n",
    "\\end{bmatrix}}$"
   ]
  },
  {
   "cell_type": "markdown",
   "id": "bc7e4913-25c7-44bf-8f17-14f0bf6b21bd",
   "metadata": {},
   "source": [
    "$\\det {\\begin{bmatrix}a&b\\\\ c&d\\end{bmatrix}}=ad-bc$"
   ]
  },
  {
   "cell_type": "markdown",
   "id": "b66a43f4-dcc7-4518-9d3f-2da3722d49e5",
   "metadata": {},
   "source": [
    "### 2.8概率统计"
   ]
  },
  {
   "cell_type": "markdown",
   "id": "6501deba-1a3d-4d81-8423-44cea7998d43",
   "metadata": {},
   "source": [
    "$\\Pr (A\\vert B)={\\frac{\\Pr(B\\vert A)\\Pr(A)}{\\Pr(B)}}$"
   ]
  },
  {
   "cell_type": "markdown",
   "id": "ba4cc832-cc43-4e9a-9152-06e4c76eb4c1",
   "metadata": {},
   "source": [
    "$f_{X\\vert Y=y}(x)={\\frac{f_{X,Y}(x,y)}{f_{Y}(y)}}$"
   ]
  },
  {
   "cell_type": "markdown",
   "id": "d0586023-6511-453a-b34a-cbe337859fe7",
   "metadata": {},
   "source": [
    "$\\operatorname {var}(X) = \\operatorname{E}\\left[X^{2}\\right]-\\operatorname{E}[X]^{2}$"
   ]
  },
  {
   "cell_type": "markdown",
   "id": "fae8a554-e738-4ce9-9d31-df31bed7e34f",
   "metadata": {},
   "source": [
    "$\\operatorname{var}(aX+bY)=a^{2}\\operatorname{var}{X}+b^(2)\\operatorname{var}(Y)+2ab\\operatorname{cov}(X,Y)$"
   ]
  },
  {
   "cell_type": "markdown",
   "id": "f779bef1-bb0b-4fb9-9561-67caac39136d",
   "metadata": {},
   "source": [
    "$\\operatorname{E}[X]=\\int _{-\\infty}^{\\infty}xf_{X}(x)\\operatorname{d}x$"
   ]
  },
  {
   "cell_type": "markdown",
   "id": "238e3e06-7032-4c45-964c-34df5121a116",
   "metadata": {},
   "source": [
    "$X\\sim N(\\mu, \\sigma ^{2})$"
   ]
  },
  {
   "cell_type": "markdown",
   "id": "7e2923fa-3b61-4997-bb7a-a15c7e2ad439",
   "metadata": {},
   "source": [
    "$\\frac{\\exp \\left(-{\\frac{1}{2}}\\left({\\mathbf {x}}-{\\boldsymbol{\\mu}}\\right)^{\\mathrm {T}}{\\boldsymbol{\\Sigma}}^{-1}\\left({\\mathrm {x}}={\\boldsymbol {\\mu}}\\right)\\right)}{\\sqrt{(2/pi)^{k}|{\\boldsymbol{\\Sigma}}|}}$"
   ]
  }
 ],
 "metadata": {
  "kernelspec": {
   "display_name": "Python [conda env:base] *",
   "language": "python",
   "name": "conda-base-py"
  },
  "language_info": {
   "codemirror_mode": {
    "name": "ipython",
    "version": 3
   },
   "file_extension": ".py",
   "mimetype": "text/x-python",
   "name": "python",
   "nbconvert_exporter": "python",
   "pygments_lexer": "ipython3",
   "version": "3.12.7"
  }
 },
 "nbformat": 4,
 "nbformat_minor": 5
}
