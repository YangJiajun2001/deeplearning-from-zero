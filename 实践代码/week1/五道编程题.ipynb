{
 "cells": [
  {
   "cell_type": "markdown",
   "id": "6cbc384b-8f4f-4ff1-b891-15a094921938",
   "metadata": {},
   "source": [
    "# 1.\n",
    "我们需要一个可以将字符串转换为数字的函数。您知道哪些实现此目的的方法？\n",
    "注意：别担心，所有输入都是字符串，并且每个字符串都是整数的完全有效表示。"
   ]
  },
  {
   "cell_type": "markdown",
   "id": "94bcc9c0-08ca-4138-8a33-5dcd93afe10b",
   "metadata": {},
   "source": [
    "**我的**"
   ]
  },
  {
   "cell_type": "code",
   "execution_count": null,
   "id": "10edc6c6-279f-41b2-a38b-84753bc9dda8",
   "metadata": {},
   "outputs": [],
   "source": [
    "def string_to_number(s):\n",
    "    # your code here\n",
    "    r = int(s)\n",
    "    return r\n",
    "    pass"
   ]
  },
  {
   "cell_type": "markdown",
   "id": "44b32d08-8332-4973-8e47-638c8a7adb16",
   "metadata": {},
   "source": [
    "**更好的解决方案**"
   ]
  },
  {
   "cell_type": "code",
   "execution_count": null,
   "id": "5e66bfc1-b519-4d76-92c5-b07d64c3a7fa",
   "metadata": {},
   "outputs": [],
   "source": [
    "def string_to_number(s):\n",
    "    return int(s)"
   ]
  },
  {
   "cell_type": "code",
   "execution_count": null,
   "id": "ae230018-c095-4f77-bec3-72156a59c402",
   "metadata": {},
   "outputs": [],
   "source": [
    "def string_to_number(s):\n",
    "    # ... your code here\n",
    "    try:\n",
    "        return int(s)\n",
    "    except (ValueError):\n",
    "        return \"Input is not valid \" "
   ]
  },
  {
   "cell_type": "markdown",
   "id": "8e510f19-7535-4f37-8774-3f8ad5932bdd",
   "metadata": {},
   "source": [
    "# 2.\n",
    "实现一个函数，将给定的布尔值转换为其字符串表示形式。\n",
    "注意：将仅提供有效的输入。"
   ]
  },
  {
   "cell_type": "markdown",
   "id": "0d97040b-e5db-467f-a82e-e7ca897d5885",
   "metadata": {},
   "source": [
    "**我的**"
   ]
  },
  {
   "cell_type": "code",
   "execution_count": null,
   "id": "dca74c54-8485-4c2b-99f6-6e659e6dec9f",
   "metadata": {},
   "outputs": [],
   "source": [
    "def boolean_to_string(b):\n",
    "    #your code here\n",
    "    return str(b)"
   ]
  },
  {
   "cell_type": "markdown",
   "id": "fd348c1b-f00a-4075-a01c-5cf14f48f15f",
   "metadata": {},
   "source": [
    "**更好的解决方案**"
   ]
  },
  {
   "cell_type": "markdown",
   "id": "9c13586e-dbbd-44bc-9339-8769422551b6",
   "metadata": {},
   "source": [
    "无"
   ]
  },
  {
   "cell_type": "markdown",
   "id": "0f5fbf94-602a-4f8c-8720-23cc29c36ea0",
   "metadata": {},
   "source": [
    "# 3.\n",
    "给定一个整数数组，您的解决方案应找到最小的整数。\n",
    "例如：\n",
    "给定 [34， 15， 88， 2]，您的解决方案将返回 2\n",
    "给定 [34， -345， -1， 100]，您的解决方案将返回 -345\n",
    "为了这个 kata，你可以假设提供的数组不会为空。"
   ]
  },
  {
   "cell_type": "markdown",
   "id": "acc0a370-c11e-4974-8da0-9b4b10ff9188",
   "metadata": {},
   "source": [
    "**更好的解决方案**"
   ]
  },
  {
   "cell_type": "code",
   "execution_count": null,
   "id": "988ac734-6185-448b-ac31-5def8d27e06f",
   "metadata": {},
   "outputs": [],
   "source": [
    "def findSmallestInt(arr):\n",
    "    return min(arr)"
   ]
  },
  {
   "cell_type": "markdown",
   "id": "1f7774e2-a331-4ec7-b039-19f16d7f0f52",
   "metadata": {},
   "source": [
    "# 4.\n",
    "您的任务是制作两个函数（ max 和 min，或最大和最小等，具体取决于语言 ），它们接收整数列表作为输入，并分别返回该列表中的最大和最小数字。每个函数返回一个数字。\n",
    "您可以考虑不会有任何空数组/向量。"
   ]
  },
  {
   "cell_type": "markdown",
   "id": "f0296cdc-1e9e-4775-bd2f-a98fc07ee8dd",
   "metadata": {},
   "source": [
    "**我的**"
   ]
  },
  {
   "cell_type": "code",
   "execution_count": null,
   "id": "e559047d-88f6-422f-9357-d0850446dacf",
   "metadata": {},
   "outputs": [],
   "source": [
    "def minimum(arr):\n",
    "    return min(arr)\n",
    "\n",
    "def maximum(arr):\n",
    "    return max(arr)"
   ]
  },
  {
   "cell_type": "markdown",
   "id": "06a655c6-12f4-43da-8644-1310c2a363b7",
   "metadata": {},
   "source": [
    "**更好的解决方案**"
   ]
  },
  {
   "cell_type": "markdown",
   "id": "682bdd74-e3f1-4426-8db3-46d36c3baea6",
   "metadata": {},
   "source": [
    "无"
   ]
  },
  {
   "cell_type": "markdown",
   "id": "4aaee432-4739-4655-9537-3f594313163c",
   "metadata": {},
   "source": [
    "# 5.\n",
    "编写一个函数来计算给定数组中数字的平均值。\n",
    "注意： 空数组应返回 0。"
   ]
  },
  {
   "cell_type": "markdown",
   "id": "f33ab20d-e5f2-4ba2-8c4b-eddaf8e060c8",
   "metadata": {},
   "source": [
    "**更好的解决方案**"
   ]
  },
  {
   "cell_type": "code",
   "execution_count": null,
   "id": "396d1665-97b6-4c8b-82ed-2eaceb4c066d",
   "metadata": {},
   "outputs": [],
   "source": [
    "def find_average(array):\n",
    "    return sum(array) / len(array) if array else 0"
   ]
  },
  {
   "cell_type": "code",
   "execution_count": null,
   "id": "b50cf835-9d1a-46b2-9328-310ebd76af72",
   "metadata": {},
   "outputs": [],
   "source": []
  }
 ],
 "metadata": {
  "kernelspec": {
   "display_name": "Python [conda env:base] *",
   "language": "python",
   "name": "conda-base-py"
  },
  "language_info": {
   "codemirror_mode": {
    "name": "ipython",
    "version": 3
   },
   "file_extension": ".py",
   "mimetype": "text/x-python",
   "name": "python",
   "nbconvert_exporter": "python",
   "pygments_lexer": "ipython3",
   "version": "3.12.7"
  }
 },
 "nbformat": 4,
 "nbformat_minor": 5
}
