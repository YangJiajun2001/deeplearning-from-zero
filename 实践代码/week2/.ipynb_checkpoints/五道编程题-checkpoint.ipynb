{
 "cells": [
  {
   "cell_type": "markdown",
   "id": "3b1cc551-2086-4385-b8f8-f3ef7967da04",
   "metadata": {},
   "source": [
    "# 1.位数和\n",
    "数字根是一个数字中所有数字的递归和。\n",
    "\n",
    "给定n，取n的位数之和 。如果该值具有多位数字，请继续以这种方式减少，直到生成一位数。输入将是一个非负整数。"
   ]
  },
  {
   "cell_type": "markdown",
   "id": "aeb87ef7-41ad-464c-9441-fdd513a7cb63",
   "metadata": {},
   "source": [
    "更好的解决方案"
   ]
  },
  {
   "cell_type": "code",
   "execution_count": null,
   "id": "6fce2cbb-f7ff-473e-8250-2220d4584d41",
   "metadata": {},
   "outputs": [],
   "source": [
    "def digital_root(n):\n",
    "    return n if n < 10 else digital_root(sum(map(int,str(n))))"
   ]
  },
  {
   "cell_type": "markdown",
   "id": "61bb7123-f483-4b52-9617-83043b852122",
   "metadata": {},
   "source": [
    "# 2.二进制加法\n",
    "实现一个函数，将两个数字相加并以二进制形式返回它们的和。转换可以在添加之前或之后完成。\n",
    "\n",
    "返回的二进制数应为字符串。"
   ]
  },
  {
   "cell_type": "markdown",
   "id": "4a64e27e-45f1-4ac2-b33b-af299c9e3996",
   "metadata": {},
   "source": [
    "更好的解决方案"
   ]
  },
  {
   "cell_type": "code",
   "execution_count": null,
   "id": "f93d117e-6f28-4214-875a-6235d55bf05e",
   "metadata": {},
   "outputs": [],
   "source": [
    "def add_binary(a,b):\n",
    "    return bin(a+b)[2:]"
   ]
  },
  {
   "cell_type": "markdown",
   "id": "cec7c53c-e161-4df5-9678-11b785a01777",
   "metadata": {},
   "source": [
    "# 3.正则表达式验证 PIN 码\n",
    "ATM 机允许 4 位或 6 位 PIN 码，并且 PIN 码只能包含 4 位或 6 位。\n",
    "如果向函数传递了有效的 PIN 字符串，则返回ture，否则返回false。"
   ]
  },
  {
   "cell_type": "markdown",
   "id": "4054cc54-fe81-4032-bbbd-ac9ae7758765",
   "metadata": {},
   "source": [
    "更好的解决方案"
   ]
  },
  {
   "cell_type": "code",
   "execution_count": null,
   "id": "3d2d71c0-0458-42de-8c3b-b2bf66f73856",
   "metadata": {},
   "outputs": [],
   "source": [
    "def validate_pin(pin):\n",
    "    return len(pin) in (4, 6) and pin.isdigit()"
   ]
  },
  {
   "cell_type": "markdown",
   "id": "7c6cdd65-f5d7-4ca1-90ac-e53f67301357",
   "metadata": {},
   "source": [
    "# 4.最短的字\n",
    "简单，给定一个单词字符串，返回最短单词的长度。\n",
    "String 永远不会为空，并且您不需要考虑不同的数据类型。"
   ]
  },
  {
   "cell_type": "markdown",
   "id": "bf33917c-20f9-4ec1-b897-4ea2c3bd2134",
   "metadata": {},
   "source": [
    "更好的解决方案"
   ]
  },
  {
   "cell_type": "code",
   "execution_count": null,
   "id": "0e3ee675-8add-470c-92c0-ec13c553647c",
   "metadata": {},
   "outputs": [],
   "source": [
    "def find_short(s):\n",
    "    return min(len(x) for x in s.split())"
   ]
  },
  {
   "cell_type": "markdown",
   "id": "52209ca0-f397-4009-98a2-2aa0f2527c8c",
   "metadata": {},
   "source": [
    "# 5.对奇数进行排序\n",
    "您将获得一个数字数组。您必须按升序对奇数进行排序，同时将偶数保留在其原始位置。"
   ]
  },
  {
   "cell_type": "markdown",
   "id": "c18ea57b-cfd3-44fc-a10a-e8b54625182a",
   "metadata": {},
   "source": [
    "更好的解决方案"
   ]
  },
  {
   "cell_type": "code",
   "execution_count": null,
   "id": "6652566a-451a-4e43-84d8-e05636a9967e",
   "metadata": {},
   "outputs": [],
   "source": [
    "def sort_array(arr):\n",
    "  odds = sorted((x for x in arr if x%2 != 0), reverse=True)\n",
    "  return [x if x%2==0 else odds.pop() for x in arr]"
   ]
  }
 ],
 "metadata": {
  "kernelspec": {
   "display_name": "Python [conda env:base] *",
   "language": "python",
   "name": "conda-base-py"
  },
  "language_info": {
   "codemirror_mode": {
    "name": "ipython",
    "version": 3
   },
   "file_extension": ".py",
   "mimetype": "text/x-python",
   "name": "python",
   "nbconvert_exporter": "python",
   "pygments_lexer": "ipython3",
   "version": "3.12.7"
  }
 },
 "nbformat": 4,
 "nbformat_minor": 5
}
