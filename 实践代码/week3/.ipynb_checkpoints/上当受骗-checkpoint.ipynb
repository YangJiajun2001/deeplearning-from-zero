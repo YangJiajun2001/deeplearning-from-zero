{
 "cells": [
  {
   "cell_type": "code",
   "execution_count": 17,
   "id": "1f85de6e-cbcf-4c19-80c1-0a6547da2667",
   "metadata": {},
   "outputs": [
    {
     "name": "stdout",
     "output_type": "stream",
     "text": [
      "Gullible, by AI Sweigart al@inventwithpython.com\n",
      "Do you want to know how to keep a gullible person busy for hours? Y/N\n"
     ]
    },
    {
     "name": "stdin",
     "output_type": "stream",
     "text": [
      ">  n\n"
     ]
    },
    {
     "name": "stdout",
     "output_type": "stream",
     "text": [
      "Thank you.Have a nice day\n"
     ]
    }
   ],
   "source": [
    "print('Gullible, by AI Sweigart al@inventwithpython.com')\n",
    "\n",
    "while True: # 主循环\n",
    "    print('Do you want to know how to keep a gullible person busy for hours? Y/N')\n",
    "    response = input('> ') # 获取用户输入\n",
    "    if response.lower() == 'no' or response.lower() =='n':\n",
    "        break # 如果玩家回答‘no’，则结束循环\n",
    "    if response.lower() == 'yes' or response.lower() == 'y':\n",
    "        continue # 如果玩家回答‘yes’，则回到循环开始\n",
    "    print('\"{}\" is not a valid yes/no response.'.format(response))\n",
    "\n",
    "print('Thank you.Have a nice day')"
   ]
  },
  {
   "cell_type": "code",
   "execution_count": 19,
   "id": "73c548f8-1643-4ebc-9c6f-9c896ade5557",
   "metadata": {},
   "outputs": [
    {
     "name": "stdout",
     "output_type": "stream",
     "text": [
      "Gullible, by AI Sweigart al@inventwithpython.com\n",
      "Do you want to know how to keep a gullible person busy for hours? Y/N\n"
     ]
    },
    {
     "name": "stdin",
     "output_type": "stream",
     "text": [
      ">  no\n"
     ]
    },
    {
     "name": "stdout",
     "output_type": "stream",
     "text": [
      "\"no\" is not a valid yes/no response.\n",
      "Do you want to know how to keep a gullible person busy for hours? Y/N\n"
     ]
    },
    {
     "name": "stdin",
     "output_type": "stream",
     "text": [
      ">  n\n"
     ]
    },
    {
     "name": "stdout",
     "output_type": "stream",
     "text": [
      "Thank you.Have a nice day\n"
     ]
    }
   ],
   "source": [
    "print('Gullible, by AI Sweigart al@inventwithpython.com')\n",
    "\n",
    "while True: # 主循环\n",
    "    print('Do you want to know how to keep a gullible person busy for hours? Y/N')\n",
    "    response = input('> ') # 获取用户输入\n",
    "    if response.lower() != 'no' or response.lower() =='n':\n",
    "        break # 如果玩家回答‘no’，则结束循环\n",
    "    if response.lower() == 'yes' or response.lower() == 'y':\n",
    "        continue # 如果玩家回答‘yes’，则回到循环开始\n",
    "    print('\"{}\" is not a valid yes/no response.'.format(response))\n",
    "\n",
    "print('Thank you.Have a nice day')"
   ]
  },
  {
   "cell_type": "code",
   "execution_count": 23,
   "id": "aaf06535-03cb-4612-9764-8d90e56fd882",
   "metadata": {},
   "outputs": [
    {
     "name": "stdout",
     "output_type": "stream",
     "text": [
      "Gullible, by AI Sweigart al@inventwithpython.com\n",
      "Thank you.Have a nice day\n"
     ]
    }
   ],
   "source": [
    "print('Gullible, by AI Sweigart al@inventwithpython.com')\n",
    "\n",
    "while False: # 主循环\n",
    "    print('Do you want to know how to keep a gullible person busy for hours? Y/N')\n",
    "    response = input('> ') # 获取用户输入\n",
    "    if response.lower() == 'no' or response.lower() =='n':\n",
    "        break # 如果玩家回答‘no’，则结束循环\n",
    "    if response.lower() == 'yes' or response.lower() == 'y':\n",
    "        continue # 如果玩家回答‘yes’，则回到循环开始\n",
    "    print('\"{}\" is not a valid yes/no response.'.format(response))\n",
    "\n",
    "print('Thank you.Have a nice day')"
   ]
  },
  {
   "cell_type": "code",
   "execution_count": null,
   "id": "ca0b3d24-de5f-45bd-b399-8116e81eb514",
   "metadata": {},
   "outputs": [],
   "source": []
  }
 ],
 "metadata": {
  "kernelspec": {
   "display_name": "Python [conda env:base] *",
   "language": "python",
   "name": "conda-base-py"
  },
  "language_info": {
   "codemirror_mode": {
    "name": "ipython",
    "version": 3
   },
   "file_extension": ".py",
   "mimetype": "text/x-python",
   "name": "python",
   "nbconvert_exporter": "python",
   "pygments_lexer": "ipython3",
   "version": "3.12.7"
  }
 },
 "nbformat": 4,
 "nbformat_minor": 5
}
