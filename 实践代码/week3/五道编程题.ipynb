{
 "cells": [
  {
   "cell_type": "markdown",
   "id": "54711341-2ccf-4ff2-8849-9a081b0d3cd8",
   "metadata": {},
   "source": [
    "# 1.等值线\n",
    "等位图是一个没有重复字母、连续或非连续字母的单词。实现一个函数，用于确定仅包含字母的字符串是否为 isogram。假设空字符串是一个 isogram。忽略字母大小写。"
   ]
  },
  {
   "cell_type": "markdown",
   "id": "a3e4ecb8-2b19-48d9-9e98-d08e6629a801",
   "metadata": {},
   "source": [
    "更好的解决方案"
   ]
  },
  {
   "cell_type": "code",
   "execution_count": null,
   "id": "0c0b698c-341e-4671-9621-9f217b1d9d5b",
   "metadata": {},
   "outputs": [],
   "source": [
    "def is_isogram(string):\n",
    "    return len(string) == len(set(string.lower()))"
   ]
  },
  {
   "cell_type": "markdown",
   "id": "8033f5c2-f21a-497b-9273-bf8bb470a39c",
   "metadata": {},
   "source": [
    "# 2.最高和最低\n",
    "在这个小作业中，你会得到一串以空格分隔的数字，并且必须返回最高和最低的数字。"
   ]
  },
  {
   "cell_type": "markdown",
   "id": "7ddaf81e-73fe-4372-955d-ef83199140c1",
   "metadata": {},
   "source": [
    "更好的解决方案"
   ]
  },
  {
   "cell_type": "code",
   "execution_count": null,
   "id": "31949e18-5a55-4261-8f8e-8a57262633ea",
   "metadata": {},
   "outputs": [],
   "source": [
    "def high_and_low(numbers): #z.\n",
    "    nn = [int(s) for s in numbers.split(\" \")]\n",
    "    return \"%i %i\" % (max(nn),min(nn))"
   ]
  },
  {
   "cell_type": "markdown",
   "id": "7fda8e75-7b4c-4a33-b227-7e356292131a",
   "metadata": {},
   "source": [
    "# 3.检测 Pangram\n",
    "pangram 是一个句子，它至少包含字母表的每个字母一次。例如，句子 “The quick brown fox jumps over the lazy dog” 是一个 pangram，因为它至少使用了一次字母 A-Z（大小写无关紧要）。\n",
    "\n",
    "给定一个字符串，检测它是否为 pangram。如果是，则返回 True，否则返回 False。忽略数字和标点符号。"
   ]
  },
  {
   "cell_type": "markdown",
   "id": "9e295df7-effb-45e6-ab96-d4c991a9a459",
   "metadata": {},
   "source": [
    "更好的解决方案"
   ]
  },
  {
   "cell_type": "code",
   "execution_count": null,
   "id": "782ffd6d-fdc1-4286-a469-a6927fdfd978",
   "metadata": {},
   "outputs": [],
   "source": [
    "import string\n",
    "\n",
    "def is_pangram(s):\n",
    "    s = s.lower()\n",
    "    for char in 'abcdefghijklmnopqrstuvwxyz':\n",
    "        if char not in s:\n",
    "            return False\n",
    "    return True"
   ]
  },
  {
   "cell_type": "markdown",
   "id": "3a3e7dc1-482d-43cf-9dcc-bb269b0acf49",
   "metadata": {},
   "source": [
    "# 4.降序\n",
    "您的任务是创建一个函数，该函数可以将任何非负整数作为参数，并按降序返回它及其数字。从本质上讲，重新排列数字以创建尽可能大的数字。"
   ]
  },
  {
   "cell_type": "markdown",
   "id": "2a45c590-f6b1-4192-8e60-bb844f465f1f",
   "metadata": {},
   "source": [
    "更好的解决方案"
   ]
  },
  {
   "cell_type": "code",
   "execution_count": null,
   "id": "7a84b27c-09e3-4ab7-a781-29b00bdb9815",
   "metadata": {},
   "outputs": [],
   "source": [
    "def Descending_Order(num):\n",
    "    return int(\"\".join(sorted(str(num), reverse=True)))"
   ]
  },
  {
   "cell_type": "markdown",
   "id": "cef089c1-5318-4eb1-a8c2-62fd91fb3b97",
   "metadata": {},
   "source": [
    "# 5.这是三角形吗？\n",
    "实现一个接受 3 个整数值 a、b、c 的函数。如果三角形可以构建给定长度的边，则该函数应返回 true，在任何其他情况下应返回 false。\n",
    "\n",
    "（在这种情况下，所有三角形的表面都必须大于 0 才能被接受）。"
   ]
  },
  {
   "cell_type": "markdown",
   "id": "54a04f7d-1ef5-49c6-99a2-5c57808c4022",
   "metadata": {},
   "source": [
    "def is_triangle(a, b, c):\n",
    "    return (a<b+c) and (b<a+c) and (c<a+b)"
   ]
  },
  {
   "cell_type": "code",
   "execution_count": null,
   "id": "72a42539-c209-46a2-910b-13a220f39f06",
   "metadata": {},
   "outputs": [],
   "source": []
  }
 ],
 "metadata": {
  "kernelspec": {
   "display_name": "Python [conda env:base] *",
   "language": "python",
   "name": "conda-base-py"
  },
  "language_info": {
   "codemirror_mode": {
    "name": "ipython",
    "version": 3
   },
   "file_extension": ".py",
   "mimetype": "text/x-python",
   "name": "python",
   "nbconvert_exporter": "python",
   "pygments_lexer": "ipython3",
   "version": "3.12.7"
  }
 },
 "nbformat": 4,
 "nbformat_minor": 5
}
