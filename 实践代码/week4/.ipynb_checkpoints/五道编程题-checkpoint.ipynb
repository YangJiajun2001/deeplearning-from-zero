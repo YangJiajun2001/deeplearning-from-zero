{
 "cells": [
  {
   "cell_type": "markdown",
   "id": "9de62858-9c74-4207-9a1b-549fd73170a5",
   "metadata": {},
   "source": [
    "# 1.打破巧克力问题\n",
    "您的任务是将给定维度nxm的巧克力棒分割成小方块。 每个正方形的大小为 1x1 且牢不可破。 实现一个函数，该函数将返回所需的最小中断数。\n",
    "例如，如果你得到一块2x1大小的巧克力棒，你可以一次性将其分成单个方块，但对于3x1大小，你必须做两次休息。\n",
    "\n",
    "如果 input data 无效，则应返回 0 （因为如果我们没有任何要拆分的 chocolate，则不需要换行）。Input 将始终为非负整数。"
   ]
  },
  {
   "cell_type": "markdown",
   "id": "23410a52-5796-44c1-b062-01ce94363ba2",
   "metadata": {},
   "source": [
    "更好的解决方案"
   ]
  },
  {
   "cell_type": "code",
   "execution_count": null,
   "id": "61df4c08-866e-49b9-abc2-a971342c3dfb",
   "metadata": {},
   "outputs": [],
   "source": [
    "def breakChocolate(n, m):\n",
    "    return max(n*m-1,0)"
   ]
  },
  {
   "cell_type": "markdown",
   "id": "df3021c1-367b-4774-92b7-4ce7ea52d860",
   "metadata": {},
   "source": [
    "# 2.制作一个执行算术的函数！\n",
    "给定两个数字和一个算术运算符（其名称，以字符串形式），返回使用该运算符的两个数字的结果。\n",
    "\n",
    "a和b将是正整数，并且a始终是运算中的第一个数字，并且b始终是第二个数字。\n",
    "\n",
    "这四个运算符是 “add”， “subtract”， “divide” 和 “multiply”。"
   ]
  },
  {
   "cell_type": "markdown",
   "id": "5d3d2d2c-8dde-4545-9915-a74c3ed763ed",
   "metadata": {},
   "source": [
    "更好的解决方案"
   ]
  },
  {
   "cell_type": "code",
   "execution_count": null,
   "id": "6e0b5e74-67fe-4627-bb25-e13c0bb7f014",
   "metadata": {},
   "outputs": [],
   "source": [
    "def arithmetic(a, b, operator):\n",
    "    return {\n",
    "        'add': a + b,\n",
    "        'subtract': a - b,\n",
    "        'multiply': a * b,\n",
    "        'divide': a / b,\n",
    "    }[operator]"
   ]
  },
  {
   "cell_type": "markdown",
   "id": "f3b6a889-3e3e-4435-b0a3-6a7d27744a3c",
   "metadata": {},
   "source": [
    "# 3.两个最古老的时代\n",
    "需要完成两个最旧的 Ages 函数/方法。它应该将一个数字数组作为其参数，并返回数组中最高的两个数字。返回值应为格式为 .[second oldest age,  oldest age]\n",
    "传入的数字的顺序可以是任何顺序。该数组将始终包含至少 2 个项目。如果有两个或多个最年长的年龄，则以数组格式返回它们。"
   ]
  },
  {
   "cell_type": "markdown",
   "id": "ef3fc548-8f84-4e15-80a5-86140a6ec059",
   "metadata": {},
   "source": [
    "更好的解决方案"
   ]
  },
  {
   "cell_type": "code",
   "execution_count": null,
   "id": "a25266a1-3ff4-4f6a-9aa5-a6db8f116206",
   "metadata": {},
   "outputs": [],
   "source": [
    "def two_oldest_ages(ages):\n",
    "    return sorted(ages)[-2:]"
   ]
  },
  {
   "cell_type": "markdown",
   "id": "f346f143-1285-4883-bd4f-793c5a733ebb",
   "metadata": {},
   "source": [
    "# 4.对数字的数字求和\n",
    "编写一个函数，将数字作为输入，并返回数字的每个十进制数字的绝对值之和。"
   ]
  },
  {
   "cell_type": "markdown",
   "id": "520af4ce-cc18-4325-8665-9cbe8fbe999c",
   "metadata": {},
   "source": [
    "更好的解决方案"
   ]
  },
  {
   "cell_type": "code",
   "execution_count": null,
   "id": "fda1057b-67b6-4f3d-aafd-0d48dbea0add",
   "metadata": {},
   "outputs": [],
   "source": [
    "def sumDigits(number):\n",
    "    return sum(int(d) for d in str(abs(number)))"
   ]
  },
  {
   "cell_type": "markdown",
   "id": "20bd9c9e-616b-4f62-a88e-9e5b9a3f786e",
   "metadata": {},
   "source": [
    "# 5.别给我五个！\n",
    "在这个 kata 中，你会得到一个区域的起始编号和结束编号，并且应该返回除 5 中的数字之外的所有数字的计数。开始和结束数字都包含在内！结果可能包含 5。\n",
    "开始编号将始终小于结束编号。这两个数字也可以是负数！"
   ]
  },
  {
   "cell_type": "markdown",
   "id": "1fb61aa8-c449-44b7-b327-577cedd999b7",
   "metadata": {},
   "source": [
    "更好的解决方案"
   ]
  },
  {
   "cell_type": "code",
   "execution_count": null,
   "id": "586851f3-e6af-4d99-9059-0794e6368506",
   "metadata": {},
   "outputs": [],
   "source": [
    "def dont_give_me_five(start, end):\n",
    "    return sum('5' not in str(i) for i in range(start, end + 1))"
   ]
  },
  {
   "cell_type": "code",
   "execution_count": null,
   "id": "d187fa60-3227-40c0-ae5c-32ca5c68fd25",
   "metadata": {},
   "outputs": [],
   "source": []
  },
  {
   "cell_type": "code",
   "execution_count": null,
   "id": "b1e08573-24dc-4adb-a64b-140ce77de5c2",
   "metadata": {},
   "outputs": [],
   "source": []
  },
  {
   "cell_type": "code",
   "execution_count": null,
   "id": "5953fc0e-2432-44ee-9f0d-595e653b308d",
   "metadata": {},
   "outputs": [],
   "source": []
  }
 ],
 "metadata": {
  "kernelspec": {
   "display_name": "Python [conda env:base] *",
   "language": "python",
   "name": "conda-base-py"
  },
  "language_info": {
   "codemirror_mode": {
    "name": "ipython",
    "version": 3
   },
   "file_extension": ".py",
   "mimetype": "text/x-python",
   "name": "python",
   "nbconvert_exporter": "python",
   "pygments_lexer": "ipython3",
   "version": "3.12.7"
  }
 },
 "nbformat": 4,
 "nbformat_minor": 5
}
