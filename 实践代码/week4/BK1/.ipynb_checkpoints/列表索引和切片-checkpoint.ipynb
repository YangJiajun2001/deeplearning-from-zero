{
 "cells": [
  {
   "cell_type": "code",
   "execution_count": 17,
   "id": "bd766dfa-63dc-4d70-a12f-c5d2dc2800d8",
   "metadata": {},
   "outputs": [
    {
     "name": "stdout",
     "output_type": "stream",
     "text": [
      "打印列表长度为\n",
      "7\n"
     ]
    }
   ],
   "source": [
    "# 创建一个混合列表\n",
    "my_list = [1, 1.0, '1', True, [1, 1.0, '1'], {1}, {1:1.0}]\n",
    "print('打印列表长度为')\n",
    "print(len(my_list))"
   ]
  },
  {
   "cell_type": "code",
   "execution_count": 34,
   "id": "89ef1b87-ea79-4a54-8be4-dd50d43b9957",
   "metadata": {},
   "outputs": [
    {
     "name": "stdout",
     "output_type": "stream",
     "text": [
      "元素:1, 索引:0, 类型:<class 'int'>\n",
      "元素:1.0, 索引:1, 类型:<class 'float'>\n",
      "元素:1, 索引:2, 类型:<class 'str'>\n",
      "元素:True, 索引:3, 类型:<class 'bool'>\n",
      "元素:[1, 1.0, '1'], 索引:4, 类型:<class 'list'>\n",
      "元素:{1}, 索引:5, 类型:<class 'set'>\n",
      "元素:{1: 1.0}, 索引:6, 类型:<class 'dict'>\n"
     ]
    }
   ],
   "source": [
    "# 打印每个元素和对应的序号\n",
    "for index, item in enumerate(my_list):\n",
    "    type_i = type(item)\n",
    "    print(f'元素:{item}, 索引:{index}, 类型:{type_i}')"
   ]
  },
  {
   "cell_type": "code",
   "execution_count": 40,
   "id": "4df59c5f-6543-414b-9e8b-aa8eea64e5e5",
   "metadata": {},
   "outputs": [
    {
     "name": "stdout",
     "output_type": "stream",
     "text": [
      "1\n",
      "1.0\n"
     ]
    }
   ],
   "source": [
    "# 列表索引\n",
    "print(my_list[0])\n",
    "print(my_list[1])"
   ]
  },
  {
   "cell_type": "code",
   "execution_count": 45,
   "id": "efa29151-6197-453e-984a-ad3349e2bd9f",
   "metadata": {},
   "outputs": [
    {
     "name": "stdout",
     "output_type": "stream",
     "text": [
      "{1: 1.0}\n",
      "{1}\n"
     ]
    }
   ],
   "source": [
    "print(my_list[-1])\n",
    "print(my_list[-2])"
   ]
  },
  {
   "cell_type": "code",
   "execution_count": 52,
   "id": "e5ab6add-85ee-42ca-83f2-d876eb5e6493",
   "metadata": {},
   "outputs": [
    {
     "name": "stdout",
     "output_type": "stream",
     "text": [
      "[1.0, '1', True]\n"
     ]
    }
   ],
   "source": [
    "# 列表切片\n",
    "# 取出前三个元素，索引为0，1，2\n",
    "print(my_list[1:4])"
   ]
  },
  {
   "cell_type": "code",
   "execution_count": 67,
   "id": "c0d8506a-96ce-412d-8695-fd755d3b3202",
   "metadata": {},
   "outputs": [
    {
     "name": "stdout",
     "output_type": "stream",
     "text": [
      "[1.0, '1', True]\n"
     ]
    }
   ],
   "source": [
    "# 取出索引1，2，3，不含0，不含4\n",
    "print(my_list[1:4])"
   ]
  },
  {
   "cell_type": "code",
   "execution_count": 60,
   "id": "eb5f34ac-e559-49d8-b6fc-23ee34e6d883",
   "metadata": {},
   "outputs": [
    {
     "name": "stdout",
     "output_type": "stream",
     "text": [
      "[1, '1', [1, 1.0, '1'], {1: 1.0}]\n"
     ]
    }
   ],
   "source": [
    "# 指定步长2，取出第0，2，4，6\n",
    "print(my_list[::2])"
   ]
  },
  {
   "cell_type": "code",
   "execution_count": 73,
   "id": "97337b4f-2896-4dbf-8f0b-1c4de13a41c9",
   "metadata": {},
   "outputs": [
    {
     "name": "stdout",
     "output_type": "stream",
     "text": [
      "[{1: 1.0}, {1}, [1, 1.0, '1'], True, '1', 1.0, 1]\n"
     ]
    }
   ],
   "source": [
    "# 指定步长-1，倒序\n",
    "print(my_list[::-1])"
   ]
  },
  {
   "cell_type": "code",
   "execution_count": 79,
   "id": "ea7688b5-ae3a-4653-b2e0-229edfc83de2",
   "metadata": {},
   "outputs": [
    {
     "name": "stdout",
     "output_type": "stream",
     "text": [
      "1.0\n"
     ]
    }
   ],
   "source": [
    "# 提取列表中的列表某个元素\n",
    "print(my_list[4][1])"
   ]
  },
  {
   "cell_type": "code",
   "execution_count": null,
   "id": "43aa858e-75e9-48f8-9301-3e4b7e9161d2",
   "metadata": {},
   "outputs": [],
   "source": []
  }
 ],
 "metadata": {
  "kernelspec": {
   "display_name": "Python [conda env:base] *",
   "language": "python",
   "name": "conda-base-py"
  },
  "language_info": {
   "codemirror_mode": {
    "name": "ipython",
    "version": 3
   },
   "file_extension": ".py",
   "mimetype": "text/x-python",
   "name": "python",
   "nbconvert_exporter": "python",
   "pygments_lexer": "ipython3",
   "version": "3.12.7"
  }
 },
 "nbformat": 4,
 "nbformat_minor": 5
}
