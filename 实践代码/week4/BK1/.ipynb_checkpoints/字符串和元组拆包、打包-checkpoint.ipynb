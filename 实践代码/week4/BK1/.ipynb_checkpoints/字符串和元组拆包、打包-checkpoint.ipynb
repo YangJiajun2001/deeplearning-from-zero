{
 "cells": [
  {
   "cell_type": "code",
   "execution_count": 8,
   "id": "73bb4180-34b8-45e5-a73c-f0032ab78df7",
   "metadata": {},
   "outputs": [
    {
     "name": "stdout",
     "output_type": "stream",
     "text": [
      "['b', 'c']\n"
     ]
    }
   ],
   "source": [
    "# 定义字符串\n",
    "string_0 = 'abcd'\n",
    "first, *str_rest, last = string_0\n",
    "print(str_rest)"
   ]
  },
  {
   "cell_type": "code",
   "execution_count": 15,
   "id": "9fbb0350-1fa8-4f87-b3b5-19cbad1cf2e0",
   "metadata": {},
   "outputs": [
    {
     "name": "stdout",
     "output_type": "stream",
     "text": [
      "[2, 3]\n"
     ]
    }
   ],
   "source": [
    "# 定义元组\n",
    "tuple_0 = (1, 2, 3, 4)\n",
    "first, *tuple_rest, last = tuple_0\n",
    "print(tuple_rest)"
   ]
  },
  {
   "cell_type": "code",
   "execution_count": 23,
   "id": "ce2d8524-fb58-45b4-b461-5f2854f43f49",
   "metadata": {},
   "outputs": [],
   "source": [
    "list1 = [1, 2, 3, 4]"
   ]
  },
  {
   "cell_type": "code",
   "execution_count": 29,
   "id": "d82a9e53-d610-48b0-8ce0-b4ec72f151ef",
   "metadata": {},
   "outputs": [],
   "source": [
    "# 赋值、视图\n",
    "list2 = list1"
   ]
  },
  {
   "cell_type": "code",
   "execution_count": 35,
   "id": "02c452bd-f528-44ed-981f-a6f0cf091014",
   "metadata": {},
   "outputs": [],
   "source": [
    "# 拷贝、副本（浅拷贝）\n",
    "list3 = list1.copy()"
   ]
  },
  {
   "cell_type": "code",
   "execution_count": 39,
   "id": "18414b02-9379-438a-87ba-fe12d3a96762",
   "metadata": {},
   "outputs": [],
   "source": [
    "list2[0] = \"a\"\n",
    "list2[1] = \"b\"\n",
    "list3[2] = \"c\"\n",
    "list3[3] = \"d\""
   ]
  },
  {
   "cell_type": "code",
   "execution_count": 42,
   "id": "83ae51f8-c659-4e12-ae9a-bd9d52c721d6",
   "metadata": {},
   "outputs": [
    {
     "name": "stdout",
     "output_type": "stream",
     "text": [
      "['a', 'b', 3, 4]\n",
      "['a', 'b', 3, 4]\n",
      "[1, 2, 'c', 'd']\n"
     ]
    }
   ],
   "source": [
    "print(list1)\n",
    "print(list2)\n",
    "print(list3)"
   ]
  },
  {
   "cell_type": "code",
   "execution_count": null,
   "id": "c8ffae3e-fa44-4a05-a0f6-e6c196f66df1",
   "metadata": {},
   "outputs": [],
   "source": []
  }
 ],
 "metadata": {
  "kernelspec": {
   "display_name": "Python [conda env:base] *",
   "language": "python",
   "name": "conda-base-py"
  },
  "language_info": {
   "codemirror_mode": {
    "name": "ipython",
    "version": 3
   },
   "file_extension": ".py",
   "mimetype": "text/x-python",
   "name": "python",
   "nbconvert_exporter": "python",
   "pygments_lexer": "ipython3",
   "version": "3.12.7"
  }
 },
 "nbformat": 4,
 "nbformat_minor": 5
}
