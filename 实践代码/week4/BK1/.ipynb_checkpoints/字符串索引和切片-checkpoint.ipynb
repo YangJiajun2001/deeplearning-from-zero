{
 "cells": [
  {
   "cell_type": "code",
   "execution_count": 32,
   "id": "02a33664-0703-4345-91fa-14bf4e1a6653",
   "metadata": {},
   "outputs": [
    {
     "name": "stdout",
     "output_type": "stream",
     "text": [
      "字符串的长度为：\n",
      "11\n"
     ]
    }
   ],
   "source": [
    "greeting_str = 'Hey, James!'\n",
    "# 打印字符串长度\n",
    "print('字符串的长度为：')\n",
    "print(len(greeting_str))"
   ]
  },
  {
   "cell_type": "code",
   "execution_count": 34,
   "id": "d219f7ca-f85f-4ec5-93be-fff64e6a4239",
   "metadata": {},
   "outputs": [
    {
     "name": "stdout",
     "output_type": "stream",
     "text": [
      "字符：H,索引:0\n",
      "字符：e,索引:1\n",
      "字符：y,索引:2\n",
      "字符：,,索引:3\n",
      "字符： ,索引:4\n",
      "字符：J,索引:5\n",
      "字符：a,索引:6\n",
      "字符：m,索引:7\n",
      "字符：e,索引:8\n",
      "字符：s,索引:9\n",
      "字符：!,索引:10\n"
     ]
    }
   ],
   "source": [
    "# 打印每个字符和对应的索引\n",
    "for index, char in enumerate(greeting_str):\n",
    "    print(f\"字符：{char},索引:{index}\")"
   ]
  },
  {
   "cell_type": "code",
   "execution_count": 38,
   "id": "fb20f121-badc-468d-9884-0d56566ba3bc",
   "metadata": {},
   "outputs": [
    {
     "name": "stdout",
     "output_type": "stream",
     "text": [
      "H\n",
      "e\n"
     ]
    }
   ],
   "source": [
    "# 单个字符索引\n",
    "print(greeting_str[0])\n",
    "print(greeting_str[1])"
   ]
  },
  {
   "cell_type": "code",
   "execution_count": 41,
   "id": "f0502705-5449-4de0-b5c8-b7386eecadc1",
   "metadata": {},
   "outputs": [
    {
     "name": "stdout",
     "output_type": "stream",
     "text": [
      "!\n",
      "s\n"
     ]
    }
   ],
   "source": [
    "print(greeting_str[-1])\n",
    "print(greeting_str[-2])"
   ]
  },
  {
   "cell_type": "code",
   "execution_count": 46,
   "id": "3785560c-c736-4967-9c5c-798eb9491ccd",
   "metadata": {},
   "outputs": [
    {
     "name": "stdout",
     "output_type": "stream",
     "text": [
      "Hey\n"
     ]
    }
   ],
   "source": [
    "# 切片\n",
    "# 取出前三个字符，索引为0，1，2\n",
    "print(greeting_str[:3])"
   ]
  },
  {
   "cell_type": "code",
   "execution_count": 57,
   "id": "557aa64e-a69f-4956-9ef8-863a68985124",
   "metadata": {},
   "outputs": [
    {
     "name": "stdout",
     "output_type": "stream",
     "text": [
      "ey, J\n"
     ]
    }
   ],
   "source": [
    "# 取出索引1，2，3，4，5，不包含0，不包含6\n",
    "print(greeting_str[1:6])"
   ]
  },
  {
   "cell_type": "code",
   "execution_count": 63,
   "id": "2c9339e4-2207-4788-916f-23808a8b7b56",
   "metadata": {},
   "outputs": [
    {
     "name": "stdout",
     "output_type": "stream",
     "text": [
      "Hy ae!\n"
     ]
    }
   ],
   "source": [
    "# 指定步长2，取出第0，2，4...\n",
    "print(greeting_str[::2])"
   ]
  },
  {
   "cell_type": "code",
   "execution_count": 68,
   "id": "d473fc6f-b0f4-4f00-b89f-0a7d3e3b571e",
   "metadata": {},
   "outputs": [
    {
     "name": "stdout",
     "output_type": "stream",
     "text": [
      "!semaJ ,yeH\n"
     ]
    }
   ],
   "source": [
    "# 指定步长-1，倒序\n",
    "print(greeting_str[::-1])"
   ]
  },
  {
   "cell_type": "code",
   "execution_count": null,
   "id": "c309b608-c98f-4fd2-b0e4-21f71965d85a",
   "metadata": {},
   "outputs": [],
   "source": []
  }
 ],
 "metadata": {
  "kernelspec": {
   "display_name": "Python [conda env:base] *",
   "language": "python",
   "name": "conda-base-py"
  },
  "language_info": {
   "codemirror_mode": {
    "name": "ipython",
    "version": 3
   },
   "file_extension": ".py",
   "mimetype": "text/x-python",
   "name": "python",
   "nbconvert_exporter": "python",
   "pygments_lexer": "ipython3",
   "version": "3.12.7"
  }
 },
 "nbformat": 4,
 "nbformat_minor": 5
}
