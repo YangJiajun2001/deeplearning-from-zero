{
 "cells": [
  {
   "cell_type": "code",
   "execution_count": 6,
   "id": "a633978a-c7a1-40fc-a906-d232a8a3d76b",
   "metadata": {},
   "outputs": [
    {
     "name": "stdout",
     "output_type": "stream",
     "text": [
      "原始list\n",
      "[1, 2, 3, [4, 5]]\n"
     ]
    }
   ],
   "source": [
    "import copy\n",
    "list1 = [1, 2, 3, [4, 5]]\n",
    "print('原始list')\n",
    "print(list1)"
   ]
  },
  {
   "cell_type": "code",
   "execution_count": 11,
   "id": "f4529665-d83e-4752-8149-593ce789d3bc",
   "metadata": {},
   "outputs": [],
   "source": [
    "# 深复制，适用于嵌套列表\n",
    "list_deep = copy.deepcopy(list1)"
   ]
  },
  {
   "cell_type": "code",
   "execution_count": 17,
   "id": "7373f030-32b9-42dc-9224-7af09f20b8fb",
   "metadata": {},
   "outputs": [],
   "source": [
    "# 只深复制一层\n",
    "list2 = list1.copy()"
   ]
  },
  {
   "cell_type": "code",
   "execution_count": 21,
   "id": "e11bfd77-584f-4c45-b8c6-a410958cd2ad",
   "metadata": {},
   "outputs": [],
   "source": [
    "list3 = list1[:]"
   ]
  },
  {
   "cell_type": "code",
   "execution_count": 23,
   "id": "5696b6a0-3d04-48a6-9d9b-357a72146cb2",
   "metadata": {},
   "outputs": [],
   "source": [
    "list4 = list(list1)"
   ]
  },
  {
   "cell_type": "code",
   "execution_count": 27,
   "id": "246234bd-e96c-4ee7-9e2f-7ab398aeff12",
   "metadata": {},
   "outputs": [],
   "source": [
    "list5 = [*list1]"
   ]
  },
  {
   "cell_type": "code",
   "execution_count": 35,
   "id": "dd288390-a0e2-44cf-bb64-573e2e0be070",
   "metadata": {},
   "outputs": [],
   "source": [
    "# 修改元素\n",
    "list_deep[3][0] = 'deep'\n",
    "list_deep[2] = 'worked_0'"
   ]
  },
  {
   "cell_type": "code",
   "execution_count": 39,
   "id": "50e23078-e2e2-4f17-ae4d-2cd3432e7d73",
   "metadata": {},
   "outputs": [],
   "source": [
    "list2[3][0] = 'abc'\n",
    "list2[2] = 'worked_1'"
   ]
  },
  {
   "cell_type": "code",
   "execution_count": 48,
   "id": "c2b52154-e5b8-4ed3-b7dc-ccc2221ef29c",
   "metadata": {},
   "outputs": [],
   "source": [
    "list3[3][0] = 'X1'\n",
    "list3[2] = 'worked_2'"
   ]
  },
  {
   "cell_type": "code",
   "execution_count": 53,
   "id": "7fe23949-ca57-427a-b69c-81fc587b1550",
   "metadata": {},
   "outputs": [],
   "source": [
    "list4[3][0] = 'X2'\n",
    "list4[2] = 'worked_3'"
   ]
  },
  {
   "cell_type": "code",
   "execution_count": 56,
   "id": "59bb75db-da06-4b2a-860c-766a790a09ba",
   "metadata": {},
   "outputs": [],
   "source": [
    "list5[3][0] = 'X3'\n",
    "list5[2] = 'worked_4'"
   ]
  },
  {
   "cell_type": "code",
   "execution_count": 61,
   "id": "d45b5d59-4ef0-4695-8a27-18e6c3abcd1a",
   "metadata": {},
   "outputs": [
    {
     "name": "stdout",
     "output_type": "stream",
     "text": [
      "新list\n",
      "[1, 2, 3, ['X3', 5]]\n",
      "[1, 2, 'worked_0', ['deep', 5]]\n"
     ]
    }
   ],
   "source": [
    "print('新list')\n",
    "print(list1)\n",
    "print(list_deep)"
   ]
  },
  {
   "cell_type": "code",
   "execution_count": 64,
   "id": "71c29e04-3cda-4267-b42e-104ecdd2adb8",
   "metadata": {},
   "outputs": [
    {
     "name": "stdout",
     "output_type": "stream",
     "text": [
      "[1, 2, 'worked_1', ['X3', 5]]\n",
      "[1, 2, 'worked_2', ['X3', 5]]\n",
      "[1, 2, 'worked_3', ['X3', 5]]\n",
      "[1, 2, 'worked_4', ['X3', 5]]\n"
     ]
    }
   ],
   "source": [
    "print(list2)\n",
    "print(list3)\n",
    "print(list4)\n",
    "print(list5)"
   ]
  },
  {
   "cell_type": "code",
   "execution_count": null,
   "id": "e3233916-7837-4c54-b527-cb0c2dd07df0",
   "metadata": {},
   "outputs": [],
   "source": []
  }
 ],
 "metadata": {
  "kernelspec": {
   "display_name": "Python [conda env:base] *",
   "language": "python",
   "name": "conda-base-py"
  },
  "language_info": {
   "codemirror_mode": {
    "name": "ipython",
    "version": 3
   },
   "file_extension": ".py",
   "mimetype": "text/x-python",
   "name": "python",
   "nbconvert_exporter": "python",
   "pygments_lexer": "ipython3",
   "version": "3.12.7"
  }
 },
 "nbformat": 4,
 "nbformat_minor": 5
}
