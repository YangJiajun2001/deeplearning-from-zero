{
 "cells": [
  {
   "cell_type": "code",
   "execution_count": 8,
   "id": "73bb4180-34b8-45e5-a73c-f0032ab78df7",
   "metadata": {},
   "outputs": [
    {
     "name": "stdout",
     "output_type": "stream",
     "text": [
      "['b', 'c']\n"
     ]
    }
   ],
   "source": [
    "# 定义字符串\n",
    "string_0 = 'abcd'\n",
    "first, *str_rest, last = string_0\n",
    "print(str_rest)"
   ]
  },
  {
   "cell_type": "code",
   "execution_count": 15,
   "id": "9fbb0350-1fa8-4f87-b3b5-19cbad1cf2e0",
   "metadata": {},
   "outputs": [
    {
     "name": "stdout",
     "output_type": "stream",
     "text": [
      "[2, 3]\n"
     ]
    }
   ],
   "source": [
    "# 定义元组\n",
    "tuple_0 = (1, 2, 3, 4)\n",
    "first, *tuple_rest, last = tuple_0\n",
    "print(tuple_rest)"
   ]
  },
  {
   "cell_type": "code",
   "execution_count": null,
   "id": "ce2d8524-fb58-45b4-b461-5f2854f43f49",
   "metadata": {},
   "outputs": [],
   "source": []
  }
 ],
 "metadata": {
  "kernelspec": {
   "display_name": "Python [conda env:base] *",
   "language": "python",
   "name": "conda-base-py"
  },
  "language_info": {
   "codemirror_mode": {
    "name": "ipython",
    "version": 3
   },
   "file_extension": ".py",
   "mimetype": "text/x-python",
   "name": "python",
   "nbconvert_exporter": "python",
   "pygments_lexer": "ipython3",
   "version": "3.12.7"
  }
 },
 "nbformat": 4,
 "nbformat_minor": 5
}
