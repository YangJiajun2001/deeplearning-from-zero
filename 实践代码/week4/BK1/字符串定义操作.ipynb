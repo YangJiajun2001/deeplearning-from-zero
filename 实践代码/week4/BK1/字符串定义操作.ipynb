{
 "cells": [
  {
   "cell_type": "code",
   "execution_count": 5,
   "id": "f4e7cbd2-c48d-44a1-8aba-4f5a259c5455",
   "metadata": {},
   "outputs": [
    {
     "name": "stdout",
     "output_type": "stream",
     "text": [
      "I am learning Python 101!\n"
     ]
    }
   ],
   "source": [
    "str1 = 'I am learning Python 101!'\n",
    "print(str1)"
   ]
  },
  {
   "cell_type": "code",
   "execution_count": 9,
   "id": "92f8a292-bb38-4d4b-8827-7ff574bd7963",
   "metadata": {},
   "outputs": [
    {
     "name": "stdout",
     "output_type": "stream",
     "text": [
      "Python is fun.Machine learning is fun too.\n"
     ]
    }
   ],
   "source": [
    "str2 = 'Python is fun.Machine learning is fun too.'\n",
    "print(str2)"
   ]
  },
  {
   "cell_type": "code",
   "execution_count": 17,
   "id": "b05ed88b-5a07-48fb-a28d-c6ca9980f467",
   "metadata": {},
   "outputs": [
    {
     "name": "stdout",
     "output_type": "stream",
     "text": [
      "Hay,James!\n"
     ]
    }
   ],
   "source": [
    "# 使用加号+将多个字符串连接起来\n",
    "str4 = 'Hay,'+'James!'\n",
    "print(str4)"
   ]
  },
  {
   "cell_type": "code",
   "execution_count": 25,
   "id": "cc8d2710-6d1c-444d-bd26-053ae295d5df",
   "metadata": {},
   "outputs": [
    {
     "name": "stdout",
     "output_type": "stream",
     "text": [
      "Python is fun! Python is fun! Python is fun! \n"
     ]
    }
   ],
   "source": [
    "# 使用称号*将一个字符串复制多次\n",
    "str5 = 'Python is fun! '# 字符串最后有一个空格\n",
    "str6 = str5 * 3\n",
    "print(str6)"
   ]
  },
  {
   "cell_type": "code",
   "execution_count": 29,
   "id": "4a55bfb5-3a82-4e89-9caa-1bc4d49bec26",
   "metadata": {},
   "outputs": [
    {
     "name": "stdout",
     "output_type": "stream",
     "text": [
      "123123123\n"
     ]
    }
   ],
   "source": [
    "# 字符串中的数字仅仅是字符\n",
    "str7 = '123'\n",
    "str8 = str7 * 3\n",
    "print(str8)"
   ]
  },
  {
   "cell_type": "code",
   "execution_count": 34,
   "id": "581ef4d9-db3c-4aee-a41b-58a9b0cb2e6c",
   "metadata": {},
   "outputs": [
    {
     "name": "stdout",
     "output_type": "stream",
     "text": [
      "123456\n",
      "<class 'str'>\n"
     ]
    }
   ],
   "source": [
    "str9 = '456'\n",
    "str10 = str7 + str9\n",
    "print(str10)\n",
    "print(type(str10))"
   ]
  },
  {
   "cell_type": "code",
   "execution_count": null,
   "id": "3797b431-e5e7-4680-bfbb-2940cb57452f",
   "metadata": {},
   "outputs": [],
   "source": []
  }
 ],
 "metadata": {
  "kernelspec": {
   "display_name": "Python [conda env:base] *",
   "language": "python",
   "name": "conda-base-py"
  },
  "language_info": {
   "codemirror_mode": {
    "name": "ipython",
    "version": 3
   },
   "file_extension": ".py",
   "mimetype": "text/x-python",
   "name": "python",
   "nbconvert_exporter": "python",
   "pygments_lexer": "ipython3",
   "version": "3.12.7"
  }
 },
 "nbformat": 4,
 "nbformat_minor": 5
}
