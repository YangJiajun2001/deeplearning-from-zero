{
 "cells": [
  {
   "cell_type": "code",
   "execution_count": 4,
   "id": "1c0d917e-73c4-4ef4-82ba-299c73e5c9fc",
   "metadata": {},
   "outputs": [
    {
     "data": {
      "text/plain": [
       "'3.14'"
      ]
     },
     "execution_count": 4,
     "metadata": {},
     "output_type": "execute_result"
    }
   ],
   "source": [
    "\"{:.2f}\".format(3.1415926)"
   ]
  },
  {
   "cell_type": "code",
   "execution_count": 11,
   "id": "4ef23cba-12ec-4528-96a0-e01b7e6608ea",
   "metadata": {},
   "outputs": [
    {
     "data": {
      "text/plain": [
       "'314.159260%'"
      ]
     },
     "execution_count": 11,
     "metadata": {},
     "output_type": "execute_result"
    }
   ],
   "source": [
    "\"{:%}\".format(3.1415926)"
   ]
  },
  {
   "cell_type": "code",
   "execution_count": 27,
   "id": "622e148c-9747-4143-9edd-16ed2513d625",
   "metadata": {},
   "outputs": [
    {
     "data": {
      "text/plain": [
       "'314.16%'"
      ]
     },
     "execution_count": 27,
     "metadata": {},
     "output_type": "execute_result"
    }
   ],
   "source": [
    "\"{:.2%}\".format(3.1415926)"
   ]
  },
  {
   "cell_type": "code",
   "execution_count": 19,
   "id": "e6287218-db74-42b0-9b83-1d049fa21029",
   "metadata": {},
   "outputs": [
    {
     "data": {
      "text/plain": [
       "'3.14e+00'"
      ]
     },
     "execution_count": 19,
     "metadata": {},
     "output_type": "execute_result"
    }
   ],
   "source": [
    "\"{:.2e}\".format(3.1415926)"
   ]
  },
  {
   "cell_type": "code",
   "execution_count": 25,
   "id": "42d0b0a2-0cff-4538-99b7-580979d31535",
   "metadata": {},
   "outputs": [
    {
     "data": {
      "text/plain": [
       "'3,141.5926'"
      ]
     },
     "execution_count": 25,
     "metadata": {},
     "output_type": "execute_result"
    }
   ],
   "source": [
    "\"{:,}\".format(3.1415926*1000)"
   ]
  },
  {
   "cell_type": "code",
   "execution_count": null,
   "id": "286f5b90-509e-4354-8827-4bae4e30168f",
   "metadata": {},
   "outputs": [],
   "source": []
  }
 ],
 "metadata": {
  "kernelspec": {
   "display_name": "Python [conda env:base] *",
   "language": "python",
   "name": "conda-base-py"
  },
  "language_info": {
   "codemirror_mode": {
    "name": "ipython",
    "version": 3
   },
   "file_extension": ".py",
   "mimetype": "text/x-python",
   "name": "python",
   "nbconvert_exporter": "python",
   "pygments_lexer": "ipython3",
   "version": "3.12.7"
  }
 },
 "nbformat": 4,
 "nbformat_minor": 5
}
