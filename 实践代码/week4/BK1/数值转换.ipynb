{
 "cells": [
  {
   "cell_type": "code",
   "execution_count": 4,
   "id": "0ef7c039-5e93-4597-b521-bbd2e1772d4e",
   "metadata": {},
   "outputs": [],
   "source": [
    "x = 88.8\n",
    "y = 8"
   ]
  },
  {
   "cell_type": "code",
   "execution_count": 9,
   "id": "fce0b388-4ce4-4935-ae9e-12848f30acb9",
   "metadata": {},
   "outputs": [
    {
     "name": "stdout",
     "output_type": "stream",
     "text": [
      "88\n"
     ]
    }
   ],
   "source": [
    "# 将浮点数转化为整数\n",
    "x_to_int = int(x)\n",
    "print(x_to_int)"
   ]
  },
  {
   "cell_type": "code",
   "execution_count": 12,
   "id": "98e91995-8a68-4701-b2c2-94dc4e7ce6bf",
   "metadata": {},
   "outputs": [
    {
     "name": "stdout",
     "output_type": "stream",
     "text": [
      "8.0\n"
     ]
    }
   ],
   "source": [
    "#  将整数转化为浮点数\n",
    "y_to_float = float(y)\n",
    "print(y_to_float)"
   ]
  },
  {
   "cell_type": "code",
   "execution_count": 15,
   "id": "89db3445-254a-4034-862c-9956e6c68229",
   "metadata": {},
   "outputs": [
    {
     "name": "stdout",
     "output_type": "stream",
     "text": [
      "(8+0j)\n"
     ]
    }
   ],
   "source": [
    "# 将整数转化为复数\n",
    "y_to_complex = complex(y)\n",
    "print(y_to_complex)"
   ]
  },
  {
   "cell_type": "code",
   "execution_count": 19,
   "id": "dbaa5cb6-0305-4b34-b3e7-fea644cfed55",
   "metadata": {},
   "outputs": [
    {
     "name": "stdout",
     "output_type": "stream",
     "text": [
      "88.8\n"
     ]
    }
   ],
   "source": [
    "# 将数字转化为字符串\n",
    "x_to_str = str(x)\n",
    "print(x_to_str)"
   ]
  },
  {
   "cell_type": "code",
   "execution_count": null,
   "id": "67fbc40c-9b4d-401c-8e0b-c4e98f470b22",
   "metadata": {},
   "outputs": [],
   "source": []
  }
 ],
 "metadata": {
  "kernelspec": {
   "display_name": "Python [conda env:base] *",
   "language": "python",
   "name": "conda-base-py"
  },
  "language_info": {
   "codemirror_mode": {
    "name": "ipython",
    "version": 3
   },
   "file_extension": ".py",
   "mimetype": "text/x-python",
   "name": "python",
   "nbconvert_exporter": "python",
   "pygments_lexer": "ipython3",
   "version": "3.12.7"
  }
 },
 "nbformat": 4,
 "nbformat_minor": 5
}
