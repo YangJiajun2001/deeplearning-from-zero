{
 "cells": [
  {
   "cell_type": "code",
   "execution_count": 4,
   "id": "3b481094-1d8b-4316-8737-ffdb7c183e19",
   "metadata": {},
   "outputs": [],
   "source": [
    "# 用嵌套列表构造矩阵\n",
    "A = [[0, 5],\n",
    "     [3, 4],\n",
    "    [5, 0]]"
   ]
  },
  {
   "cell_type": "code",
   "execution_count": 11,
   "id": "5286e995-280e-48a3-a8ae-cd2515a305af",
   "metadata": {},
   "outputs": [
    {
     "name": "stdout",
     "output_type": "stream",
     "text": [
      "[0, 5]\n",
      "[[0, 5]]\n"
     ]
    }
   ],
   "source": [
    "# 取出行向量\n",
    "print(A[0])\n",
    "print([A[0]])"
   ]
  },
  {
   "cell_type": "code",
   "execution_count": 14,
   "id": "71b6e0c6-7701-464e-badc-d16d4e7d2f13",
   "metadata": {},
   "outputs": [
    {
     "name": "stdout",
     "output_type": "stream",
     "text": [
      "[3, 4]\n",
      "[[3, 4]]\n"
     ]
    }
   ],
   "source": [
    "print(A[1])\n",
    "print([A[1]])"
   ]
  },
  {
   "cell_type": "code",
   "execution_count": 17,
   "id": "20481a58-a1da-4667-bca9-c22485bc5e2e",
   "metadata": {},
   "outputs": [
    {
     "name": "stdout",
     "output_type": "stream",
     "text": [
      "[5, 0]\n",
      "[[5, 0]]\n"
     ]
    }
   ],
   "source": [
    "print(A[2])\n",
    "print([A[2]])"
   ]
  },
  {
   "cell_type": "code",
   "execution_count": 26,
   "id": "f1e52e13-c3cc-442f-bc07-07a8e204c118",
   "metadata": {},
   "outputs": [
    {
     "name": "stdout",
     "output_type": "stream",
     "text": [
      "[0, 3, 5]\n",
      "[[0], [3], [5]]\n"
     ]
    }
   ],
   "source": [
    "# 取出列向量\n",
    "print([row[0] for row in A])\n",
    "print([[row[0]] for row in A])\n"
   ]
  },
  {
   "cell_type": "code",
   "execution_count": 32,
   "id": "61574c88-2519-4a8e-941a-08e801713441",
   "metadata": {},
   "outputs": [
    {
     "name": "stdout",
     "output_type": "stream",
     "text": [
      "[5, 4, 0]\n",
      "[[5], [4], [0]]\n"
     ]
    }
   ],
   "source": [
    "print([row[1] for row in A])\n",
    "print([[row[1]] for row in A])"
   ]
  },
  {
   "cell_type": "code",
   "execution_count": null,
   "id": "3c5e2ab4-982f-40c9-ba80-59087fb6fb94",
   "metadata": {},
   "outputs": [],
   "source": []
  }
 ],
 "metadata": {
  "kernelspec": {
   "display_name": "Python [conda env:base] *",
   "language": "python",
   "name": "conda-base-py"
  },
  "language_info": {
   "codemirror_mode": {
    "name": "ipython",
    "version": 3
   },
   "file_extension": ".py",
   "mimetype": "text/x-python",
   "name": "python",
   "nbconvert_exporter": "python",
   "pygments_lexer": "ipython3",
   "version": "3.12.7"
  }
 },
 "nbformat": 4,
 "nbformat_minor": 5
}
