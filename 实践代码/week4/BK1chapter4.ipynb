{
 "cells": [
  {
   "cell_type": "markdown",
   "id": "119fddd6-3179-4824-9659-f0de91cfa599",
   "metadata": {},
   "source": [
    "# 代码注释"
   ]
  },
  {
   "cell_type": "code",
   "execution_count": 4,
   "id": "417454c4-4af0-43f6-9034-60ebdefb7f0a",
   "metadata": {},
   "outputs": [
    {
     "name": "stdout",
     "output_type": "stream",
     "text": [
      "[0 1 2 3 4 5 6 7 8 9]\n"
     ]
    }
   ],
   "source": [
    "import numpy as np\n",
    "#导入numpy三方库，并重命名为np\n",
    "\n",
    "x_array = np.arange(10)\n",
    "\n",
    "print(x_array)"
   ]
  },
  {
   "cell_type": "code",
   "execution_count": 31,
   "id": "4086c881-5171-4535-9bb2-18f1a20fca50",
   "metadata": {},
   "outputs": [
    {
     "data": {
      "text/plain": [
       "3.5"
      ]
     },
     "execution_count": 31,
     "metadata": {},
     "output_type": "execute_result"
    }
   ],
   "source": [
    "def my_function(x, y):\n",
    "    '''\n",
    "    注释整块\n",
    "    '''\n",
    "    return x + y\n",
    "\n",
    "\n",
    "# 打印结果\n",
    "my_function(1.5, 2)"
   ]
  },
  {
   "cell_type": "code",
   "execution_count": 60,
   "id": "d93b2af0-093b-4799-8418-3fa046d7cfa7",
   "metadata": {},
   "outputs": [
    {
     "name": "stdin",
     "output_type": "stream",
     "text": [
      "请输入一个数值: 9\n"
     ]
    },
    {
     "name": "stdout",
     "output_type": "stream",
     "text": [
      "x is positive\n",
      "计算该数值的绝对值为： 9.0\n"
     ]
    }
   ],
   "source": [
    "# 定义x并从输入中获取数值\n",
    "x = float(input(\"请输入一个数值:\"))\n",
    "\n",
    "# 定义变量abs_x存放绝对值\n",
    "abs_x = x\n",
    "# 如果x为正数\n",
    "if x > 0:\n",
    "    print(\"x is positive\")\n",
    "#x为零\n",
    "elif x==0:\n",
    "    print(\"x is zero\")\n",
    "#x为负数\n",
    "else:\n",
    "    print(\"x is negative\")\n",
    "#计算负数绝对值\n",
    "    abs_x = -x\n",
    "\n",
    "print(\"计算该数值的绝对值为：\", abs_x)"
   ]
  },
  {
   "cell_type": "code",
   "execution_count": 69,
   "id": "c0b56927-9a87-4bda-981c-b1a17a868bfd",
   "metadata": {},
   "outputs": [
    {
     "name": "stdout",
     "output_type": "stream",
     "text": [
      "P\n",
      "y\n",
      "t\n",
      "h\n",
      "o\n",
      "n\n",
      " \n",
      "i\n",
      "s\n",
      " \n",
      "F\n",
      "U\n",
      "N\n",
      "!\n"
     ]
    }
   ],
   "source": [
    "x_string = \"Python is FUN!\"\n",
    "\n",
    "# 利用for循环打印每个字符\n",
    "for i_str in x_string:\n",
    "    print(i_str)"
   ]
  }
 ],
 "metadata": {
  "kernelspec": {
   "display_name": "Python [conda env:base] *",
   "language": "python",
   "name": "conda-base-py"
  },
  "language_info": {
   "codemirror_mode": {
    "name": "ipython",
    "version": 3
   },
   "file_extension": ".py",
   "mimetype": "text/x-python",
   "name": "python",
   "nbconvert_exporter": "python",
   "pygments_lexer": "ipython3",
   "version": "3.12.7"
  }
 },
 "nbformat": 4,
 "nbformat_minor": 5
}
