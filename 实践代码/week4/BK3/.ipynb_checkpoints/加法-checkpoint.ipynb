{
 "cells": [
  {
   "cell_type": "markdown",
   "id": "90394b99-3733-44f9-8827-13683486a717",
   "metadata": {},
   "source": [
    "# 加法"
   ]
  },
  {
   "cell_type": "markdown",
   "id": "a455d455-2189-4f5e-bc71-77ccc06fcbe8",
   "metadata": {},
   "source": [
    "## 定义两个数字并计算其和"
   ]
  },
  {
   "cell_type": "code",
   "execution_count": 11,
   "id": "a36ffdd7-4c94-4f42-855a-5c8515107a9d",
   "metadata": {},
   "outputs": [],
   "source": [
    "num1 = 2# 定义第一个数字\n",
    "num2 = 3# 定义第二个数字"
   ]
  },
  {
   "cell_type": "markdown",
   "id": "36910d39-328c-4441-8d27-32bc5bb13294",
   "metadata": {},
   "source": [
    "## 计算两个数字的和"
   ]
  },
  {
   "cell_type": "code",
   "execution_count": 17,
   "id": "ef1a83b1-c0cd-439e-9bbe-9cdbed9eafad",
   "metadata": {},
   "outputs": [],
   "source": [
    "sum_2_num = num1 + num2"
   ]
  },
  {
   "cell_type": "markdown",
   "id": "07ca3d14-42f3-490a-8773-7c4c4dc78f4d",
   "metadata": {},
   "source": [
    "## 显示计算结果"
   ]
  },
  {
   "cell_type": "code",
   "execution_count": 31,
   "id": "198deaed-f228-4fcf-9568-c9f6263ecac4",
   "metadata": {},
   "outputs": [
    {
     "name": "stdout",
     "output_type": "stream",
     "text": [
      "The sum of 2 and 3 is 5\n"
     ]
    }
   ],
   "source": [
    "print(\"The sum of {0} and {1} is {2}\".format(num1, num2, sum_2_num))# 输出两个数字的和"
   ]
  },
  {
   "cell_type": "markdown",
   "id": "d082b5ee-31e9-4a89-8d8a-0d1a69776217",
   "metadata": {},
   "source": [
    "## 用户输入两个数字并计算其和"
   ]
  },
  {
   "cell_type": "code",
   "execution_count": 41,
   "id": "0452a55e-f0a0-4775-8d2a-b8457446b5fe",
   "metadata": {},
   "outputs": [
    {
     "name": "stdin",
     "output_type": "stream",
     "text": [
      "Enter first number: 2.5\n"
     ]
    }
   ],
   "source": [
    "num3 = input(\"Enter first number:\")"
   ]
  },
  {
   "cell_type": "code",
   "execution_count": 45,
   "id": "a860420b-7e08-450f-b48d-afd15b5ea94f",
   "metadata": {},
   "outputs": [
    {
     "name": "stdin",
     "output_type": "stream",
     "text": [
      "Enter second number: 3.7\n"
     ]
    }
   ],
   "source": [
    "num4 = input(\"Enter second number:\")"
   ]
  },
  {
   "cell_type": "markdown",
   "id": "0ee18ab7-3e18-4696-8ba0-af68533d0d2e",
   "metadata": {},
   "source": [
    "## 计算两个数字的和"
   ]
  },
  {
   "cell_type": "code",
   "execution_count": 56,
   "id": "3fa0dded-1ef2-49fd-b9f0-5f58b7da7221",
   "metadata": {},
   "outputs": [],
   "source": [
    "sum_2_num2 = float(num3) + float(num4)"
   ]
  },
  {
   "cell_type": "markdown",
   "id": "5c0920db-2927-42bc-b769-0d736870ee15",
   "metadata": {},
   "source": [
    "## 显示计算结果"
   ]
  },
  {
   "cell_type": "code",
   "execution_count": 62,
   "id": "996bfb09-c92c-4d71-9d26-6fcfd50ffe54",
   "metadata": {},
   "outputs": [
    {
     "name": "stdout",
     "output_type": "stream",
     "text": [
      "The sum of 2.5 and 3.7 is 6.2\n"
     ]
    }
   ],
   "source": [
    "print(\"The sum of {0} and {1} is {2}\".format(num3, num4, sum_2_num2))"
   ]
  },
  {
   "cell_type": "code",
   "execution_count": null,
   "id": "5e5199e7-0f66-4263-8a2c-cd1ee20e46c3",
   "metadata": {},
   "outputs": [],
   "source": []
  }
 ],
 "metadata": {
  "kernelspec": {
   "display_name": "Python [conda env:base] *",
   "language": "python",
   "name": "conda-base-py"
  },
  "language_info": {
   "codemirror_mode": {
    "name": "ipython",
    "version": 3
   },
   "file_extension": ".py",
   "mimetype": "text/x-python",
   "name": "python",
   "nbconvert_exporter": "python",
   "pygments_lexer": "ipython3",
   "version": "3.12.7"
  }
 },
 "nbformat": 4,
 "nbformat_minor": 5
}
