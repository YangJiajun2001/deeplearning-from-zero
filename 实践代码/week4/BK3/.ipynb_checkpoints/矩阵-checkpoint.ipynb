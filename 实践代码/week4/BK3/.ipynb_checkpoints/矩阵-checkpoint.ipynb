{
 "cells": [
  {
   "cell_type": "markdown",
   "id": "a2950987-f4be-4d17-8667-75fc5685d61d",
   "metadata": {},
   "source": [
    "# 使用numpy提取矩阵的不同列和行"
   ]
  },
  {
   "cell_type": "code",
   "execution_count": 4,
   "id": "cd8f9662-b3ed-43f7-b8f8-52d08c379a9f",
   "metadata": {},
   "outputs": [],
   "source": [
    "import numpy as np"
   ]
  },
  {
   "cell_type": "markdown",
   "id": "b44357cb-3d93-40b0-a808-35446aa540ab",
   "metadata": {},
   "source": [
    "## 定义矩阵A"
   ]
  },
  {
   "cell_type": "code",
   "execution_count": 11,
   "id": "bb8f5cab-413a-4c8e-a689-e8f19f4ab820",
   "metadata": {},
   "outputs": [
    {
     "data": {
      "text/plain": [
       "array([[1, 2, 3],\n",
       "       [4, 5, 6]])"
      ]
     },
     "execution_count": 11,
     "metadata": {},
     "output_type": "execute_result"
    }
   ],
   "source": [
    "A = np.array([[1,2,3],\n",
    "             [4,5,6]])\n",
    "A"
   ]
  },
  {
   "cell_type": "markdown",
   "id": "bdbd0543-24fc-4ede-bd6c-80bcaa901918",
   "metadata": {},
   "source": [
    "## 提取矩阵的不同列"
   ]
  },
  {
   "cell_type": "code",
   "execution_count": 25,
   "id": "ac717d42-e711-4236-81c4-15c0def18f1e",
   "metadata": {},
   "outputs": [
    {
     "data": {
      "text/plain": [
       "array([1, 4])"
      ]
     },
     "execution_count": 25,
     "metadata": {},
     "output_type": "execute_result"
    }
   ],
   "source": [
    "A_first_col = A[:,0]# 提取矩阵A的第一列（存储为一维行向量）\n",
    "A_first_col"
   ]
  },
  {
   "cell_type": "code",
   "execution_count": 31,
   "id": "066c523c-21df-4598-9a12-3a856e7c5d11",
   "metadata": {},
   "outputs": [
    {
     "data": {
      "text/plain": [
       "array([[1],\n",
       "       [4]])"
      ]
     },
     "execution_count": 31,
     "metadata": {},
     "output_type": "execute_result"
    }
   ],
   "source": [
    "A_first_col_V2 = A[:,[0]]# 提取矩阵A的第一列（存储为列向量）\n",
    "A_first_col_V2"
   ]
  },
  {
   "cell_type": "code",
   "execution_count": 39,
   "id": "48b847d4-973d-44e9-82d9-5f0e4398aa5c",
   "metadata": {},
   "outputs": [
    {
     "data": {
      "text/plain": [
       "array([[1, 2],\n",
       "       [4, 5]])"
      ]
     },
     "execution_count": 39,
     "metadata": {},
     "output_type": "execute_result"
    }
   ],
   "source": [
    "A_first_second_col_V2 = A[:,[0,1]] # 提取矩阵A的第一列和第二列\n",
    "A_first_second_col_V2"
   ]
  },
  {
   "cell_type": "code",
   "execution_count": 47,
   "id": "e902c9d4-0a5a-4369-a4cd-ba31e8054bad",
   "metadata": {},
   "outputs": [
    {
     "data": {
      "text/plain": [
       "array([[1, 3],\n",
       "       [4, 6]])"
      ]
     },
     "execution_count": 47,
     "metadata": {},
     "output_type": "execute_result"
    }
   ],
   "source": [
    "A_first_third_col_V2 = A[:,[0, 2]]# 提取矩阵A的第一列和第三列\n",
    "A_first_third_col_V2"
   ]
  },
  {
   "cell_type": "markdown",
   "id": "bd7d0253-b220-4410-9ecd-fbd61c5a7749",
   "metadata": {},
   "source": [
    "## 提取矩阵的不同行"
   ]
  },
  {
   "cell_type": "code",
   "execution_count": 53,
   "id": "542c6cf9-f638-4bca-a63b-74491541d192",
   "metadata": {},
   "outputs": [
    {
     "data": {
      "text/plain": [
       "array([[1, 2, 3]])"
      ]
     },
     "execution_count": 53,
     "metadata": {},
     "output_type": "execute_result"
    }
   ],
   "source": [
    "A_first_row = A[[0],:]\n",
    "A_first_row"
   ]
  },
  {
   "cell_type": "code",
   "execution_count": 58,
   "id": "e8a97343-3b8e-416f-8ab4-36f11c2a5e86",
   "metadata": {},
   "outputs": [
    {
     "data": {
      "text/plain": [
       "array([[4, 5, 6]])"
      ]
     },
     "execution_count": 58,
     "metadata": {},
     "output_type": "execute_result"
    }
   ],
   "source": [
    "A_second_row = A[[1],:]\n",
    "A_second_row"
   ]
  },
  {
   "cell_type": "markdown",
   "id": "a0b349a1-662a-440b-8447-803dce6abd12",
   "metadata": {},
   "source": [
    "## 提取矩阵A中第二行的第一列元素"
   ]
  },
  {
   "cell_type": "code",
   "execution_count": 65,
   "id": "9c69f739-8ab6-48b4-a810-d4a932c30c8d",
   "metadata": {},
   "outputs": [
    {
     "data": {
      "text/plain": [
       "array([4])"
      ]
     },
     "execution_count": 65,
     "metadata": {},
     "output_type": "execute_result"
    }
   ],
   "source": [
    "A_second_row_first_col = A[[1],[0]]\n",
    "A_second_row_first_col"
   ]
  },
  {
   "cell_type": "code",
   "execution_count": null,
   "id": "bb39214c-339b-4203-a127-1043bf5cc0fa",
   "metadata": {},
   "outputs": [],
   "source": []
  }
 ],
 "metadata": {
  "kernelspec": {
   "display_name": "Python [conda env:base] *",
   "language": "python",
   "name": "conda-base-py"
  },
  "language_info": {
   "codemirror_mode": {
    "name": "ipython",
    "version": 3
   },
   "file_extension": ".py",
   "mimetype": "text/x-python",
   "name": "python",
   "nbconvert_exporter": "python",
   "pygments_lexer": "ipython3",
   "version": "3.12.7"
  }
 },
 "nbformat": 4,
 "nbformat_minor": 5
}
