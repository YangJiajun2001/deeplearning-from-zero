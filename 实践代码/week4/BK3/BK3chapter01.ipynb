{
 "cells": [
  {
   "cell_type": "markdown",
   "id": "79c98cc8-cfc9-44fa-b329-36fc6870d782",
   "metadata": {},
   "source": [
    "# 导入数学库"
   ]
  },
  {
   "cell_type": "code",
   "execution_count": 7,
   "id": "09be64e7-7078-4e2c-91db-dae428921d45",
   "metadata": {},
   "outputs": [],
   "source": [
    "import math #导入数学库"
   ]
  },
  {
   "cell_type": "markdown",
   "id": "141af4c3-8559-424a-acff-4e917afaaaae",
   "metadata": {},
   "source": [
    "## 打印数学常量"
   ]
  },
  {
   "cell_type": "code",
   "execution_count": 14,
   "id": "3fb52eea-705a-4fe0-86c5-43b25c8b5eb8",
   "metadata": {},
   "outputs": [
    {
     "name": "stdout",
     "output_type": "stream",
     "text": [
      "pi: 3.141592653589793\n"
     ]
    }
   ],
   "source": [
    "print(\"pi:\", math.pi)"
   ]
  },
  {
   "cell_type": "code",
   "execution_count": 21,
   "id": "1c2920c2-6faa-42d2-96ef-d91d65f4c47c",
   "metadata": {},
   "outputs": [
    {
     "name": "stdout",
     "output_type": "stream",
     "text": [
      "e= 2.718281828459045\n"
     ]
    }
   ],
   "source": [
    "print(\"e=\",math.e)"
   ]
  },
  {
   "cell_type": "code",
   "execution_count": 25,
   "id": "ce30d9e5-a309-4237-b051-645f192c1018",
   "metadata": {},
   "outputs": [
    {
     "name": "stdout",
     "output_type": "stream",
     "text": [
      "sqrt(2)= 1.4142135623730951\n"
     ]
    }
   ],
   "source": [
    "print(\"sqrt(2)=\", math.sqrt(2))"
   ]
  },
  {
   "cell_type": "code",
   "execution_count": null,
   "id": "2d473bba-4724-4bca-a2b9-3afa37f269a0",
   "metadata": {},
   "outputs": [],
   "source": []
  }
 ],
 "metadata": {
  "kernelspec": {
   "display_name": "Python [conda env:base] *",
   "language": "python",
   "name": "conda-base-py"
  },
  "language_info": {
   "codemirror_mode": {
    "name": "ipython",
    "version": 3
   },
   "file_extension": ".py",
   "mimetype": "text/x-python",
   "name": "python",
   "nbconvert_exporter": "python",
   "pygments_lexer": "ipython3",
   "version": "3.12.7"
  }
 },
 "nbformat": 4,
 "nbformat_minor": 5
}
