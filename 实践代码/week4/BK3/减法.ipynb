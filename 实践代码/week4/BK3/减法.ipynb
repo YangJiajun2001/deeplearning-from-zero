{
 "cells": [
  {
   "cell_type": "markdown",
   "id": "1d72e076-15bf-4ea8-b8f9-8458f1bc11a0",
   "metadata": {},
   "source": [
    "## 减法"
   ]
  },
  {
   "cell_type": "markdown",
   "id": "cf95b3b1-6a97-4786-990d-1cb7336ee412",
   "metadata": {},
   "source": [
    "## 计算两个数字的差值并显示结果"
   ]
  },
  {
   "cell_type": "code",
   "execution_count": 6,
   "id": "72fd9e53-1511-440a-bf98-ed95f02dd76c",
   "metadata": {},
   "outputs": [],
   "source": [
    "num1 = 5\n",
    "num2 = 3"
   ]
  },
  {
   "cell_type": "markdown",
   "id": "8e5cef15-f931-439a-812b-7a17a6cd5016",
   "metadata": {},
   "source": [
    "## 计算两个数字的差值"
   ]
  },
  {
   "cell_type": "code",
   "execution_count": 12,
   "id": "677a102e-8ad6-4354-9c5e-5fc99a8c5355",
   "metadata": {},
   "outputs": [],
   "source": [
    "diff = num1 - num2"
   ]
  },
  {
   "cell_type": "markdown",
   "id": "acb86973-e4a2-4861-9ca9-8f17c5391517",
   "metadata": {},
   "source": [
    "## 显示计算结果"
   ]
  },
  {
   "cell_type": "code",
   "execution_count": 19,
   "id": "55fb97c4-22f9-4108-b87e-05a67da62f9d",
   "metadata": {},
   "outputs": [
    {
     "name": "stdout",
     "output_type": "stream",
     "text": [
      "The difference 5 and 3 is 2\n"
     ]
    }
   ],
   "source": [
    "print(\"The difference {0} and {1} is {2}\".format(num1, num2, diff))"
   ]
  },
  {
   "cell_type": "code",
   "execution_count": null,
   "id": "08097e5d-7320-430b-81b7-33d2418ff246",
   "metadata": {},
   "outputs": [],
   "source": []
  }
 ],
 "metadata": {
  "kernelspec": {
   "display_name": "Python [conda env:base] *",
   "language": "python",
   "name": "conda-base-py"
  },
  "language_info": {
   "codemirror_mode": {
    "name": "ipython",
    "version": 3
   },
   "file_extension": ".py",
   "mimetype": "text/x-python",
   "name": "python",
   "nbconvert_exporter": "python",
   "pygments_lexer": "ipython3",
   "version": "3.12.7"
  }
 },
 "nbformat": 4,
 "nbformat_minor": 5
}
