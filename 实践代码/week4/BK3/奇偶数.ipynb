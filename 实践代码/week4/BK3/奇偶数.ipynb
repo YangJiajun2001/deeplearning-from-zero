{
 "cells": [
  {
   "cell_type": "markdown",
   "id": "39ca91a5-9e70-474a-9b4a-4527d11e54ab",
   "metadata": {},
   "source": [
    "# 判断一个数是否为偶数或奇数"
   ]
  },
  {
   "cell_type": "code",
   "execution_count": 11,
   "id": "29b9cb80-f1bc-4208-88a0-7022f01efcf4",
   "metadata": {},
   "outputs": [
    {
     "name": "stdin",
     "output_type": "stream",
     "text": [
      "Enter a number: 3\n"
     ]
    }
   ],
   "source": [
    "num = float(input(\"Enter a number:\")) # 输入一个数字并转化为浮点数"
   ]
  },
  {
   "cell_type": "code",
   "execution_count": 37,
   "id": "42c19786-2f3d-477a-85d7-f41a11d76bc4",
   "metadata": {},
   "outputs": [
    {
     "name": "stdout",
     "output_type": "stream",
     "text": [
      "3 is add\n"
     ]
    }
   ],
   "source": [
    "if num.is_integer():# 如果数字为整数\n",
    "\n",
    "    ## 判断整数是偶数还是奇数\n",
    "    if(num%2) == 0: # 如果数字除以2的余数为0，则为偶数\n",
    "        print(\"{0} is even\".format(int(num)))# 输出偶数信息\n",
    "    else:# 否则为奇数\n",
    "        print(\"{0} is add\".format(int(num)))\n",
    "else:# 如果数字不是整数\n",
    "    print(\"{0} is not an integer\".format(int(num)))# 输出非整数信息"
   ]
  },
  {
   "cell_type": "code",
   "execution_count": null,
   "id": "8fb602d6-082f-4d39-aef4-fe14c653e311",
   "metadata": {},
   "outputs": [],
   "source": []
  }
 ],
 "metadata": {
  "kernelspec": {
   "display_name": "Python [conda env:base] *",
   "language": "python",
   "name": "conda-base-py"
  },
  "language_info": {
   "codemirror_mode": {
    "name": "ipython",
    "version": 3
   },
   "file_extension": ".py",
   "mimetype": "text/x-python",
   "name": "python",
   "nbconvert_exporter": "python",
   "pygments_lexer": "ipython3",
   "version": "3.12.7"
  }
 },
 "nbformat": 4,
 "nbformat_minor": 5
}
