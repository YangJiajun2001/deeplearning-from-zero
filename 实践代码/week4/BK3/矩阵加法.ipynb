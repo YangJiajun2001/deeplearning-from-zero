{
 "cells": [
  {
   "cell_type": "markdown",
   "id": "63c98c52-8c86-4dbf-876b-06cc9ebec09f",
   "metadata": {},
   "source": [
    "# 定义两个矩阵并计算其逐元素相加"
   ]
  },
  {
   "cell_type": "code",
   "execution_count": 9,
   "id": "1f5d6833-78b7-4fdf-a428-2767c8097792",
   "metadata": {},
   "outputs": [
    {
     "data": {
      "text/plain": [
       "[[1, 2, 3], [4, 5, 6]]"
      ]
     },
     "execution_count": 9,
     "metadata": {},
     "output_type": "execute_result"
    }
   ],
   "source": [
    "A = [[1, 2, 3],\n",
    "    [4, 5, 6]]\n",
    "A"
   ]
  },
  {
   "cell_type": "code",
   "execution_count": 15,
   "id": "1a8ab948-51e4-4f6d-ac4e-b2c0dcf981b6",
   "metadata": {},
   "outputs": [
    {
     "data": {
      "text/plain": [
       "[[1, 0, 0], [0, 1, 0]]"
      ]
     },
     "execution_count": 15,
     "metadata": {},
     "output_type": "execute_result"
    }
   ],
   "source": [
    "B = [[1, 0, 0],\n",
    "    [0, 1, 0]]\n",
    "B"
   ]
  },
  {
   "cell_type": "markdown",
   "id": "723e55bf-5fb8-4c40-9efd-d1e4b3b979ee",
   "metadata": {},
   "source": [
    "# 逐元素相加矩阵A和矩阵B"
   ]
  },
  {
   "cell_type": "code",
   "execution_count": 43,
   "id": "0553897c-3647-415a-9c51-3d90996af1b6",
   "metadata": {},
   "outputs": [],
   "source": [
    "A_plus_B = [[A[i][j] + B[i][j]# 计算矩阵A和B中对应元素的和\n",
    "            for j in range(len(A[0]))]# 遍历矩阵列\n",
    "            for i in range(len(A))]# 遍历矩阵行"
   ]
  },
  {
   "cell_type": "code",
   "execution_count": 48,
   "id": "24d62b04-abfe-45ec-a416-cd4546374edb",
   "metadata": {},
   "outputs": [
    {
     "name": "stdout",
     "output_type": "stream",
     "text": [
      "[[2, 2, 3], [4, 6, 6]]\n"
     ]
    }
   ],
   "source": [
    "print(A_plus_B)# 输出矩阵A和B逐元素相加的结果"
   ]
  },
  {
   "cell_type": "markdown",
   "id": "29eb6b7c-ab44-4fbc-b532-2e8cfa480846",
   "metadata": {},
   "source": [
    "# 使用numpy对两个矩阵进行逐元素相加"
   ]
  },
  {
   "cell_type": "code",
   "execution_count": 56,
   "id": "0051de5f-d630-4743-b95d-02706b1f57ea",
   "metadata": {},
   "outputs": [],
   "source": [
    "import numpy as np"
   ]
  },
  {
   "cell_type": "code",
   "execution_count": 60,
   "id": "18c6bffe-f200-4566-8e7b-a48999f0bd1e",
   "metadata": {},
   "outputs": [],
   "source": [
    "A = [[1, 2, 3],\n",
    "    [4, 5, 6]]"
   ]
  },
  {
   "cell_type": "code",
   "execution_count": 63,
   "id": "68ed44eb-ccae-4df5-8f38-4fdc4db6f7fb",
   "metadata": {},
   "outputs": [],
   "source": [
    "B = [[1, 0, 0],\n",
    "    [0, 1, 0]]"
   ]
  },
  {
   "cell_type": "markdown",
   "id": "410f6c69-dbdb-4832-8e40-04ee1469c463",
   "metadata": {},
   "source": [
    "# 使用numpy的数组相加方法对矩阵A和矩阵B逐元素相加"
   ]
  },
  {
   "cell_type": "code",
   "execution_count": 79,
   "id": "bfc0c5a1-1a6b-4f13-a59a-8a6f60f7d12d",
   "metadata": {},
   "outputs": [
    {
     "name": "stdout",
     "output_type": "stream",
     "text": [
      "[[2 2 3]\n",
      " [4 6 6]]\n"
     ]
    }
   ],
   "source": [
    "print(np.array(A) + np.array(B))# 将A和B转换为numpy数组并逐元素相加"
   ]
  },
  {
   "cell_type": "markdown",
   "id": "362a3569-7a7b-4186-8bdf-7951935be073",
   "metadata": {},
   "source": [
    "# 使用numpy的add函数对矩阵A和矩阵B逐元素相加"
   ]
  },
  {
   "cell_type": "code",
   "execution_count": 76,
   "id": "ef75feaa-c4cb-4436-a5f4-12c110ff87c4",
   "metadata": {},
   "outputs": [
    {
     "name": "stdout",
     "output_type": "stream",
     "text": [
      "[[2 2 3]\n",
      " [4 6 6]]\n"
     ]
    }
   ],
   "source": [
    "print(np.add(A, B))# 使用numpy的add函数逐元素相加并输出结果"
   ]
  },
  {
   "cell_type": "code",
   "execution_count": null,
   "id": "b638b048-239e-4eea-b708-53df6ce6a2d7",
   "metadata": {},
   "outputs": [],
   "source": []
  }
 ],
 "metadata": {
  "kernelspec": {
   "display_name": "Python [conda env:base] *",
   "language": "python",
   "name": "conda-base-py"
  },
  "language_info": {
   "codemirror_mode": {
    "name": "ipython",
    "version": 3
   },
   "file_extension": ".py",
   "mimetype": "text/x-python",
   "name": "python",
   "nbconvert_exporter": "python",
   "pygments_lexer": "ipython3",
   "version": "3.12.7"
  }
 },
 "nbformat": 4,
 "nbformat_minor": 5
}
