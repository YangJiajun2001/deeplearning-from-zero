{
 "cells": [
  {
   "cell_type": "markdown",
   "id": "ca751532-650e-4aab-94f6-58e6bd332b5f",
   "metadata": {},
   "source": [
    "# 累计求和"
   ]
  },
  {
   "cell_type": "markdown",
   "id": "71ba3027-6c37-4961-a015-a94d2bc3c271",
   "metadata": {},
   "source": [
    "## 生成等间距数组并计算其累积和"
   ]
  },
  {
   "cell_type": "code",
   "execution_count": 5,
   "id": "f28d0001-0ed9-4fb9-a72a-b7656d0ae06a",
   "metadata": {},
   "outputs": [],
   "source": [
    "import numpy as np"
   ]
  },
  {
   "cell_type": "markdown",
   "id": "9f801c0e-5f7e-47b8-ba56-01114bfac93a",
   "metadata": {},
   "source": [
    "## 生成一个从1到10的等间距数组"
   ]
  },
  {
   "cell_type": "code",
   "execution_count": 14,
   "id": "49095361-00ae-454c-8014-6d363e34a5f8",
   "metadata": {},
   "outputs": [
    {
     "name": "stdout",
     "output_type": "stream",
     "text": [
      "[ 1.  2.  3.  4.  5.  6.  7.  8.  9. 10.]\n"
     ]
    }
   ],
   "source": [
    "a_i = np.linspace(1, 10, 10)# 创建包含10个数的等间距数组\n",
    "print(a_i)"
   ]
  },
  {
   "cell_type": "markdown",
   "id": "e24b71c9-9c86-4039-90fc-bbf52c380fd9",
   "metadata": {},
   "source": [
    "## 计算数组的累积和"
   ]
  },
  {
   "cell_type": "code",
   "execution_count": 28,
   "id": "970ceb5f-b62f-4b2e-9ca4-df4840c9556e",
   "metadata": {},
   "outputs": [
    {
     "name": "stdout",
     "output_type": "stream",
     "text": [
      "[ 1.  3.  6. 10. 15. 21. 28. 36. 45. 55.]\n"
     ]
    }
   ],
   "source": [
    "a_i_cumsum = np.cumsum(a_i)# 计算a_i的累积和\n",
    "print(a_i_cumsum)"
   ]
  },
  {
   "cell_type": "code",
   "execution_count": null,
   "id": "c57f4254-7c1d-4b3b-9108-028e079316d0",
   "metadata": {},
   "outputs": [],
   "source": []
  },
  {
   "cell_type": "code",
   "execution_count": null,
   "id": "66df4726-8dd6-4182-8f4c-8d76f099fd70",
   "metadata": {},
   "outputs": [],
   "source": []
  },
  {
   "cell_type": "code",
   "execution_count": null,
   "id": "7541e919-20a3-4e5f-bd75-12f7b4d8fcd2",
   "metadata": {},
   "outputs": [],
   "source": []
  }
 ],
 "metadata": {
  "kernelspec": {
   "display_name": "Python [conda env:base] *",
   "language": "python",
   "name": "conda-base-py"
  },
  "language_info": {
   "codemirror_mode": {
    "name": "ipython",
    "version": 3
   },
   "file_extension": ".py",
   "mimetype": "text/x-python",
   "name": "python",
   "nbconvert_exporter": "python",
   "pygments_lexer": "ipython3",
   "version": "3.12.7"
  }
 },
 "nbformat": 4,
 "nbformat_minor": 5
}
