{
 "cells": [
  {
   "cell_type": "markdown",
   "id": "783307b2-b206-4a7b-8453-6d4e165171ab",
   "metadata": {},
   "source": [
    "# 转置行向量和列向量的操作"
   ]
  },
  {
   "cell_type": "code",
   "execution_count": 6,
   "id": "38baac8e-bc9d-4287-837e-fe54906e29ef",
   "metadata": {},
   "outputs": [],
   "source": [
    "import numpy as np"
   ]
  },
  {
   "cell_type": "markdown",
   "id": "242fe615-2f56-41b8-8459-1c10f0399ab9",
   "metadata": {},
   "source": [
    "## 定义一个行向量并转置为列向量"
   ]
  },
  {
   "cell_type": "code",
   "execution_count": 15,
   "id": "66c25cd6-1271-4b96-9a12-b0f28304743f",
   "metadata": {},
   "outputs": [
    {
     "data": {
      "text/plain": [
       "array([[1, 2, 3]])"
      ]
     },
     "execution_count": 15,
     "metadata": {},
     "output_type": "execute_result"
    }
   ],
   "source": [
    "a_row = np.array([[1,2,3]]) # 定义一个行向量\n",
    "a_row"
   ]
  },
  {
   "cell_type": "code",
   "execution_count": 19,
   "id": "df36285e-3630-4fae-843a-7780f9518d47",
   "metadata": {},
   "outputs": [
    {
     "data": {
      "text/plain": [
       "array([[1],\n",
       "       [2],\n",
       "       [3]])"
      ]
     },
     "execution_count": 19,
     "metadata": {},
     "output_type": "execute_result"
    }
   ],
   "source": [
    "b = a_row.T\n",
    "b"
   ]
  },
  {
   "cell_type": "markdown",
   "id": "bb9fa9f8-a5b8-42fc-bfaf-2ab7ed82dbfe",
   "metadata": {},
   "source": [
    "## 定义一个列向量并转置为行向量"
   ]
  },
  {
   "cell_type": "code",
   "execution_count": 25,
   "id": "628cd29a-7eb9-4733-92d5-7f4693c900fd",
   "metadata": {},
   "outputs": [
    {
     "data": {
      "text/plain": [
       "array([[1],\n",
       "       [2],\n",
       "       [3]])"
      ]
     },
     "execution_count": 25,
     "metadata": {},
     "output_type": "execute_result"
    }
   ],
   "source": [
    "b_col = np.array([[1],[2],[3]])\n",
    "b_col"
   ]
  },
  {
   "cell_type": "code",
   "execution_count": 29,
   "id": "bdcb6eda-1109-41bd-98c5-72d066bdb857",
   "metadata": {},
   "outputs": [
    {
     "data": {
      "text/plain": [
       "array([[1, 2, 3]])"
      ]
     },
     "execution_count": 29,
     "metadata": {},
     "output_type": "execute_result"
    }
   ],
   "source": [
    "a = b_col.T\n",
    "a"
   ]
  },
  {
   "cell_type": "code",
   "execution_count": null,
   "id": "8502e49e-d7bf-42bd-84e9-67903d511d4d",
   "metadata": {},
   "outputs": [],
   "source": []
  }
 ],
 "metadata": {
  "kernelspec": {
   "display_name": "Python [conda env:base] *",
   "language": "python",
   "name": "conda-base-py"
  },
  "language_info": {
   "codemirror_mode": {
    "name": "ipython",
    "version": 3
   },
   "file_extension": ".py",
   "mimetype": "text/x-python",
   "name": "python",
   "nbconvert_exporter": "python",
   "pygments_lexer": "ipython3",
   "version": "3.12.7"
  }
 },
 "nbformat": 4,
 "nbformat_minor": 5
}
