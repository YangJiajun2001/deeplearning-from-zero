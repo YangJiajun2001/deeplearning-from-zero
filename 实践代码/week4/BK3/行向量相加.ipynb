{
 "cells": [
  {
   "cell_type": "markdown",
   "id": "ff3c0226-5d3c-4e25-82c6-0fcf99993497",
   "metadata": {},
   "source": [
    "# 使用不同方法对两个列表元素进行逐项相加"
   ]
  },
  {
   "cell_type": "code",
   "execution_count": 6,
   "id": "29a40a30-4ab6-4955-9913-43818495a8e3",
   "metadata": {},
   "outputs": [],
   "source": [
    "list1 = [1, 2, 3]\n",
    "list2 = [4, 5, 6]"
   ]
  },
  {
   "cell_type": "markdown",
   "id": "54db3ea1-e418-4a6e-8e16-febac94a52fb",
   "metadata": {},
   "source": [
    "# 使用列表推导式和zip函数逐项相加"
   ]
  },
  {
   "cell_type": "code",
   "execution_count": 16,
   "id": "55a6e136-bbf3-430e-9615-50a3f3574a04",
   "metadata": {},
   "outputs": [
    {
     "name": "stdout",
     "output_type": "stream",
     "text": [
      "[5, 7, 9]\n"
     ]
    }
   ],
   "source": [
    "print([x+y for x, y in zip(list1, list2)])# 输出列表推导式计算结果"
   ]
  },
  {
   "cell_type": "markdown",
   "id": "560bb789-f000-470b-a515-2c47fdc581f8",
   "metadata": {},
   "source": [
    "# 使用map和lambda函数逐项相加"
   ]
  },
  {
   "cell_type": "code",
   "execution_count": 40,
   "id": "300ffe9e-6a39-49cb-81f0-82f2a4af3ca1",
   "metadata": {},
   "outputs": [
    {
     "name": "stdout",
     "output_type": "stream",
     "text": [
      "[5, 7, 9]\n"
     ]
    }
   ],
   "source": [
    "print(list(map(lambda x, y: x+y, list1, list2)))#输出map和lambda函数计算结果"
   ]
  },
  {
   "cell_type": "markdown",
   "id": "3233f7b5-d0b3-474f-aac2-6947b739fd31",
   "metadata": {},
   "source": [
    "# 使用numpy对两个数组逐项相加"
   ]
  },
  {
   "cell_type": "code",
   "execution_count": 48,
   "id": "76d502e0-7a81-433c-83b1-7bb51c4a59f5",
   "metadata": {},
   "outputs": [
    {
     "name": "stdout",
     "output_type": "stream",
     "text": [
      "[5 7 9]\n"
     ]
    }
   ],
   "source": [
    "import numpy as np\n",
    "\n",
    "x = np.array(list1)\n",
    "y = np.array(list2)\n",
    "\n",
    "print(x + y)"
   ]
  },
  {
   "cell_type": "markdown",
   "id": "e995d744-1c21-47c4-8c06-b37003f9bc01",
   "metadata": {},
   "source": [
    "# 使用numpy的add函数对两个列表逐项相加"
   ]
  },
  {
   "cell_type": "code",
   "execution_count": 53,
   "id": "f1b258b8-2c73-46cd-bb45-7437f50018be",
   "metadata": {},
   "outputs": [
    {
     "name": "stdout",
     "output_type": "stream",
     "text": [
      "[5 7 9]\n"
     ]
    }
   ],
   "source": [
    "print(np.add(list1, list2))"
   ]
  },
  {
   "cell_type": "code",
   "execution_count": null,
   "id": "45ad95e4-c3fd-4bde-b36d-e591d29df41c",
   "metadata": {},
   "outputs": [],
   "source": []
  }
 ],
 "metadata": {
  "kernelspec": {
   "display_name": "Python [conda env:base] *",
   "language": "python",
   "name": "conda-base-py"
  },
  "language_info": {
   "codemirror_mode": {
    "name": "ipython",
    "version": 3
   },
   "file_extension": ".py",
   "mimetype": "text/x-python",
   "name": "python",
   "nbconvert_exporter": "python",
   "pygments_lexer": "ipython3",
   "version": "3.12.7"
  }
 },
 "nbformat": 4,
 "nbformat_minor": 5
}
