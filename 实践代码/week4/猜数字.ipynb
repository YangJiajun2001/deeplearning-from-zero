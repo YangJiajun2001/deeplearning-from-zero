{
 "cells": [
  {
   "cell_type": "code",
   "execution_count": 7,
   "id": "4e98cdfe-3218-40ed-b767-9853b11e6c62",
   "metadata": {},
   "outputs": [
    {
     "name": "stdout",
     "output_type": "stream",
     "text": [
      "Quess the Number, by AI Sweigart al@inventwithpython.com\n",
      "\n",
      "I am thinking of aa number betreen 1 ans 100.\n",
      "You have 9 guesses left. Takke a guess.\n"
     ]
    },
    {
     "name": "stdin",
     "output_type": "stream",
     "text": [
      ">  88\n"
     ]
    },
    {
     "name": "stdout",
     "output_type": "stream",
     "text": [
      "Your guess is too high.\n",
      "You have 9 guesses left. Takke a guess.\n"
     ]
    },
    {
     "name": "stdin",
     "output_type": "stream",
     "text": [
      ">  44\n"
     ]
    },
    {
     "name": "stdout",
     "output_type": "stream",
     "text": [
      "Your guess is too low.\n",
      "You have 9 guesses left. Takke a guess.\n"
     ]
    },
    {
     "name": "stdin",
     "output_type": "stream",
     "text": [
      ">  66\n"
     ]
    },
    {
     "name": "stdout",
     "output_type": "stream",
     "text": [
      "Your guess is too low.\n",
      "You have 9 guesses left. Takke a guess.\n"
     ]
    },
    {
     "name": "stdin",
     "output_type": "stream",
     "text": [
      ">  77\n"
     ]
    },
    {
     "name": "stdout",
     "output_type": "stream",
     "text": [
      "Your guess is too low.\n",
      "You have 9 guesses left. Takke a guess.\n"
     ]
    },
    {
     "name": "stdin",
     "output_type": "stream",
     "text": [
      ">  82\n"
     ]
    },
    {
     "name": "stdout",
     "output_type": "stream",
     "text": [
      "Your guess is too low.\n",
      "You have 9 guesses left. Takke a guess.\n"
     ]
    },
    {
     "name": "stdin",
     "output_type": "stream",
     "text": [
      ">  85\n"
     ]
    },
    {
     "name": "stdout",
     "output_type": "stream",
     "text": [
      "Your guess is too high.\n",
      "You have 9 guesses left. Takke a guess.\n"
     ]
    },
    {
     "name": "stdin",
     "output_type": "stream",
     "text": [
      ">  84\n"
     ]
    },
    {
     "name": "stdout",
     "output_type": "stream",
     "text": [
      "Your guess is too high.\n",
      "You have 9 guesses left. Takke a guess.\n"
     ]
    },
    {
     "name": "stdin",
     "output_type": "stream",
     "text": [
      ">  83\n"
     ]
    },
    {
     "name": "stdout",
     "output_type": "stream",
     "text": [
      "Yay! You guessed my number!\n"
     ]
    }
   ],
   "source": [
    "# 根据提示猜测秘密数字\n",
    "\n",
    "import random\n",
    "\n",
    "def askForGuess():\n",
    "    while True:\n",
    "        guess = input('> ')#输入猜测数字\n",
    "        if guess.isdecimal():\n",
    "            return int(guess) #将输入的字符串转换为整数\n",
    "            print('Please enter a number between 1 and 100.')\n",
    "\n",
    "print('Quess the Number, by AI Sweigart al@inventwithpython.com')\n",
    "print()\n",
    "\n",
    "secretNumber = random.randint(1, 100)\n",
    "print('I am thinking of aa number betreen 1 ans 100.')\n",
    "\n",
    "for i in range(10):#给玩家10茨机会\n",
    "    print('You have {} guesses left. Takke a guess.'.format(10 - 1))\n",
    "\n",
    "    guess = askForGuess()\n",
    "    if guess == secretNumber:\n",
    "        break #如果猜测正确，则结束循环\n",
    "\n",
    "    #给出一个提示\n",
    "    if guess < secretNumber:\n",
    "        print('Your guess is too low.')\n",
    "    if guess > secretNumber:\n",
    "        print('Your guess is too high.')\n",
    "\n",
    "#显示结果\n",
    "if guess == secretNumber:\n",
    "    print('Yay! You guessed my number!')\n",
    "else:\n",
    "    print('Game over. The number Iwas thinking of was', secretNumber)\n",
    "\n",
    "\n",
    "\n"
   ]
  },
  {
   "cell_type": "code",
   "execution_count": null,
   "id": "4e9c0ad4-41a3-4d70-b531-c6427f67b155",
   "metadata": {},
   "outputs": [],
   "source": []
  }
 ],
 "metadata": {
  "kernelspec": {
   "display_name": "Python [conda env:base] *",
   "language": "python",
   "name": "conda-base-py"
  },
  "language_info": {
   "codemirror_mode": {
    "name": "ipython",
    "version": 3
   },
   "file_extension": ".py",
   "mimetype": "text/x-python",
   "name": "python",
   "nbconvert_exporter": "python",
   "pygments_lexer": "ipython3",
   "version": "3.12.7"
  }
 },
 "nbformat": 4,
 "nbformat_minor": 5
}
