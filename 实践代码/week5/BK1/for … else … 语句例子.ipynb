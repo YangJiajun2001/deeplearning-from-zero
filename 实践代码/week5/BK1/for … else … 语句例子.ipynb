{
 "cells": [
  {
   "cell_type": "code",
   "execution_count": 8,
   "id": "5a842c8d-eda1-4d05-8063-c35ba30fb438",
   "metadata": {},
   "outputs": [
    {
     "name": "stdout",
     "output_type": "stream",
     "text": [
      "0\n",
      "1\n",
      "2\n",
      "3\n",
      "4\n",
      "5\n",
      "6\n",
      "7\n",
      "8\n",
      "9\n",
      "For loop finished\n"
     ]
    }
   ],
   "source": [
    "for x in range(10):\n",
    "        print(x)\n",
    "else:# for循环结束后会执行\n",
    "    print('For loop finished')"
   ]
  },
  {
   "cell_type": "code",
   "execution_count": null,
   "id": "02c1310a-429d-4aaa-89f5-0e2132f577d3",
   "metadata": {},
   "outputs": [],
   "source": [
    "\n"
   ]
  }
 ],
 "metadata": {
  "kernelspec": {
   "display_name": "Python [conda env:base] *",
   "language": "python",
   "name": "conda-base-py"
  },
  "language_info": {
   "codemirror_mode": {
    "name": "ipython",
    "version": 3
   },
   "file_extension": ".py",
   "mimetype": "text/x-python",
   "name": "python",
   "nbconvert_exporter": "python",
   "pygments_lexer": "ipython3",
   "version": "3.12.7"
  }
 },
 "nbformat": 4,
 "nbformat_minor": 5
}
