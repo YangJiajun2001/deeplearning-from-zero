{
 "cells": [
  {
   "cell_type": "code",
   "execution_count": 14,
   "id": "ccef37bc-8969-42e4-bdd2-0db316463b9c",
   "metadata": {},
   "outputs": [
    {
     "name": "stdin",
     "output_type": "stream",
     "text": [
      "请输入一个整数 34\n"
     ]
    },
    {
     "name": "stdout",
     "output_type": "stream",
     "text": [
      "num is positive\n"
     ]
    }
   ],
   "source": [
    "num = input(\"请输入一个整数\")\n",
    "num = int(num)\n",
    "\n",
    "if num > 0:\n",
    "    print('num is positive')\n",
    "elif num < 0:\n",
    "    print('num is negative')\n",
    "else:\n",
    "    print('num is zero')"
   ]
  },
  {
   "cell_type": "code",
   "execution_count": null,
   "id": "b4c43070-ea24-4125-abf8-313198ec28fd",
   "metadata": {},
   "outputs": [],
   "source": []
  }
 ],
 "metadata": {
  "kernelspec": {
   "display_name": "Python [conda env:base] *",
   "language": "python",
   "name": "conda-base-py"
  },
  "language_info": {
   "codemirror_mode": {
    "name": "ipython",
    "version": 3
   },
   "file_extension": ".py",
   "mimetype": "text/x-python",
   "name": "python",
   "nbconvert_exporter": "python",
   "pygments_lexer": "ipython3",
   "version": "3.12.7"
  }
 },
 "nbformat": 4,
 "nbformat_minor": 5
}
