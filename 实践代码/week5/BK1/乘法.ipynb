{
 "cells": [
  {
   "cell_type": "code",
   "execution_count": 5,
   "id": "a4297dfb-50ea-469a-85cd-7802fb00b20a",
   "metadata": {},
   "outputs": [],
   "source": [
    "# 数据乘法\n",
    "a = 10\n",
    "b = 20.0"
   ]
  },
  {
   "cell_type": "code",
   "execution_count": 8,
   "id": "9bb2c7f6-2a3c-46a4-835c-aa7080b55e49",
   "metadata": {},
   "outputs": [
    {
     "name": "stdout",
     "output_type": "stream",
     "text": [
      "200.0\n"
     ]
    }
   ],
   "source": [
    "c = a * b\n",
    "print(c)"
   ]
  },
  {
   "cell_type": "code",
   "execution_count": 13,
   "id": "724badd4-209c-4637-a0cd-fb690e2a2e45",
   "metadata": {},
   "outputs": [],
   "source": [
    "# 字符串复制\n",
    "str_a = '10'\n",
    "str_b = '20.0'"
   ]
  },
  {
   "cell_type": "code",
   "execution_count": 21,
   "id": "4aaa0073-4100-4781-8fe6-88f387445e52",
   "metadata": {},
   "outputs": [],
   "source": [
    "str_c = str_a * 3\n",
    "str_d = str_b * 2"
   ]
  },
  {
   "cell_type": "code",
   "execution_count": 24,
   "id": "1e3193a2-ab99-441c-ac0f-b01e070064b4",
   "metadata": {},
   "outputs": [
    {
     "name": "stdout",
     "output_type": "stream",
     "text": [
      "101010\n",
      "20.020.0\n"
     ]
    }
   ],
   "source": [
    "print(str_c)\n",
    "print(str_d)"
   ]
  },
  {
   "cell_type": "code",
   "execution_count": null,
   "id": "c236fcfb-5aa8-417f-9924-65da51248fa9",
   "metadata": {},
   "outputs": [],
   "source": []
  }
 ],
 "metadata": {
  "kernelspec": {
   "display_name": "Python [conda env:base] *",
   "language": "python",
   "name": "conda-base-py"
  },
  "language_info": {
   "codemirror_mode": {
    "name": "ipython",
    "version": 3
   },
   "file_extension": ".py",
   "mimetype": "text/x-python",
   "name": "python",
   "nbconvert_exporter": "python",
   "pygments_lexer": "ipython3",
   "version": "3.12.7"
  }
 },
 "nbformat": 4,
 "nbformat_minor": 5
}
