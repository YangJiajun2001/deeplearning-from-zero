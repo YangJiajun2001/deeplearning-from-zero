{
 "cells": [
  {
   "cell_type": "code",
   "execution_count": 13,
   "id": "ec1ea263-4b66-44c0-a635-603e340076f5",
   "metadata": {},
   "outputs": [],
   "source": [
    "import numpy as np\n",
    "\n",
    "# 定义矩阵 A 和 B\n",
    "A = np.array([[1, 2, 10, 20],\n",
    "            [3, 4, 30, 40]])\n",
    "B = np.array([[1, 3],\n",
    "            [2, 4],\n",
    "            [10, 30],\n",
    "            [20, 40]])"
   ]
  },
  {
   "cell_type": "code",
   "execution_count": 17,
   "id": "bda3f245-274d-4b18-955d-2b268eb71c1e",
   "metadata": {},
   "outputs": [
    {
     "name": "stdout",
     "output_type": "stream",
     "text": [
      "[[ 505 1111]\n",
      " [1111 2525]]\n"
     ]
    }
   ],
   "source": [
    "C = A@B;print(C)"
   ]
  },
  {
   "cell_type": "code",
   "execution_count": 20,
   "id": "0eb43ee2-d8cc-4af4-bfd0-80aa0a92669a",
   "metadata": {},
   "outputs": [
    {
     "name": "stdout",
     "output_type": "stream",
     "text": [
      "[[  10   14  100  140]\n",
      " [  14   20  140  200]\n",
      " [ 100  140 1000 1400]\n",
      " [ 140  200 1400 2000]]\n"
     ]
    }
   ],
   "source": [
    "D = B@A;print(D)"
   ]
  },
  {
   "cell_type": "code",
   "execution_count": null,
   "id": "a87c8173-f4be-47e1-803d-8cb10c940d1f",
   "metadata": {},
   "outputs": [],
   "source": []
  }
 ],
 "metadata": {
  "kernelspec": {
   "display_name": "Python [conda env:base] *",
   "language": "python",
   "name": "conda-base-py"
  },
  "language_info": {
   "codemirror_mode": {
    "name": "ipython",
    "version": 3
   },
   "file_extension": ".py",
   "mimetype": "text/x-python",
   "name": "python",
   "nbconvert_exporter": "python",
   "pygments_lexer": "ipython3",
   "version": "3.12.7"
  }
 },
 "nbformat": 4,
 "nbformat_minor": 5
}
