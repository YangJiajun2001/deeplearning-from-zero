{
 "cells": [
  {
   "cell_type": "code",
   "execution_count": 6,
   "id": "86a81bf0-c2cd-4856-8085-edfe1dc713cc",
   "metadata": {},
   "outputs": [],
   "source": [
    "import numpy as np\n",
    "\n",
    "# 定义向量a和b；准确来说是一维数组\n",
    "a = np.array([1, 2, 3, 4, 5])\n",
    "b = np.array([6, 7, 8, 9, 0])"
   ]
  },
  {
   "cell_type": "code",
   "execution_count": 14,
   "id": "5a532424-c1ca-41ea-a958-f67fea88f694",
   "metadata": {},
   "outputs": [
    {
     "name": "stdout",
     "output_type": "stream",
     "text": [
      "向量内积为： 80\n"
     ]
    }
   ],
   "source": [
    "# 计算向量内积\n",
    "dot_product = np.dot(a, b)\n",
    "# 打印内积\n",
    "print('向量内积为：', dot_product)"
   ]
  },
  {
   "cell_type": "code",
   "execution_count": null,
   "id": "7821f3d7-fbe9-4bf4-8d30-29ed00dbc917",
   "metadata": {},
   "outputs": [],
   "source": []
  }
 ],
 "metadata": {
  "kernelspec": {
   "display_name": "Python [conda env:base] *",
   "language": "python",
   "name": "conda-base-py"
  },
  "language_info": {
   "codemirror_mode": {
    "name": "ipython",
    "version": 3
   },
   "file_extension": ".py",
   "mimetype": "text/x-python",
   "name": "python",
   "nbconvert_exporter": "python",
   "pygments_lexer": "ipython3",
   "version": "3.12.7"
  }
 },
 "nbformat": 4,
 "nbformat_minor": 5
}
