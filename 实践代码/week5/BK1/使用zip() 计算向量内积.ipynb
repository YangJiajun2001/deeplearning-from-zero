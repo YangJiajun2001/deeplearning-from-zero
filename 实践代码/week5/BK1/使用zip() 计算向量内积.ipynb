{
 "cells": [
  {
   "cell_type": "code",
   "execution_count": 7,
   "id": "7fd8c1b1-ba70-426a-aba1-cbf3a93be8e6",
   "metadata": {},
   "outputs": [],
   "source": [
    "# 计算向量内积\n",
    "\n",
    "# 定义向量a和b\n",
    "\n",
    "a = [1, 2, 3, 4, 5]\n",
    "b = [6, 7, 8, 9, 0]"
   ]
  },
  {
   "cell_type": "code",
   "execution_count": 21,
   "id": "396e9cf6-a6b8-4d25-9ab4-815bcacbf1e1",
   "metadata": {},
   "outputs": [],
   "source": [
    "# 初始化内积为0\n",
    "dot_product = 0"
   ]
  },
  {
   "cell_type": "code",
   "execution_count": 23,
   "id": "f3063c0c-c792-4ba7-b9d4-75c2f4b4c6bf",
   "metadata": {},
   "outputs": [
    {
     "name": "stdout",
     "output_type": "stream",
     "text": [
      "向量内积为： 80\n"
     ]
    }
   ],
   "source": [
    "# 使用for循环计算内积\n",
    "for a_i, b_i in zip(a, b):\n",
    "    dot_product += (a_i*b_i)\n",
    "\n",
    "# 打印内积\n",
    "print('向量内积为：', dot_product)"
   ]
  },
  {
   "cell_type": "code",
   "execution_count": null,
   "id": "170eba08-bfb4-4a8a-80c0-a5d20af23678",
   "metadata": {},
   "outputs": [],
   "source": []
  }
 ],
 "metadata": {
  "kernelspec": {
   "display_name": "Python [conda env:base] *",
   "language": "python",
   "name": "conda-base-py"
  },
  "language_info": {
   "codemirror_mode": {
    "name": "ipython",
    "version": 3
   },
   "file_extension": ".py",
   "mimetype": "text/x-python",
   "name": "python",
   "nbconvert_exporter": "python",
   "pygments_lexer": "ipython3",
   "version": "3.12.7"
  }
 },
 "nbformat": 4,
 "nbformat_minor": 5
}
