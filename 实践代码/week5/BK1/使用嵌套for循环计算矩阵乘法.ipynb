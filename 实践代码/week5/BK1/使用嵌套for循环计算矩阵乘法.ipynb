{
 "cells": [
  {
   "cell_type": "code",
   "execution_count": 17,
   "id": "5641ba5e-49bd-4a5d-a1bb-a16e5ff2a343",
   "metadata": {},
   "outputs": [],
   "source": [
    "# 定义矩阵A和B\n",
    "A = [[1, 2, 10, 20],\n",
    "    [3, 4, 30, 40],\n",
    "    [5, 6, 50, 60]]\n",
    "B = [[4, 2],\n",
    "    [3, 1],\n",
    "    [40, 20],\n",
    "    [30, 10]]"
   ]
  },
  {
   "cell_type": "code",
   "execution_count": 21,
   "id": "959d2f73-871a-49dc-a297-080e86cac634",
   "metadata": {},
   "outputs": [],
   "source": [
    "# 定义全 0 矩阵 C 用来存放结果\n",
    "C = [[0, 0],\n",
    "    [0, 0],\n",
    "    [0, 0]]"
   ]
  },
  {
   "cell_type": "code",
   "execution_count": 34,
   "id": "66824154-d160-4a47-b702-3830bc37eaf7",
   "metadata": {},
   "outputs": [],
   "source": [
    "# 矩阵乘法\n",
    "\n",
    "# 遍历 A 的行\n",
    "for i in range(len(A)):# len(A) 给出 A 的行数\n",
    "    # 遍历 B 的列\n",
    "    for j in range(len(B[0])):# len(B[0]) 给出 B 的列数\n",
    "        # 这一层相当于消去 k 所在的维度，即压缩\n",
    "        for k in range(len(B)):\n",
    "            C[i][j] += A[i][k]*B[k][j]# 完成对应元素相乘，再求和"
   ]
  },
  {
   "cell_type": "code",
   "execution_count": 38,
   "id": "016ee3bf-cda8-4570-9e67-307601041f2e",
   "metadata": {},
   "outputs": [
    {
     "name": "stdout",
     "output_type": "stream",
     "text": [
      "[1010, 404]\n",
      "[2424, 1010]\n",
      "[3838, 1616]\n"
     ]
    }
   ],
   "source": [
    "for row in C:\n",
    "    print(row)"
   ]
  },
  {
   "cell_type": "code",
   "execution_count": null,
   "id": "36b01e77-1b39-4970-b3b4-4e47c90cdeb2",
   "metadata": {},
   "outputs": [],
   "source": []
  }
 ],
 "metadata": {
  "kernelspec": {
   "display_name": "Python [conda env:base] *",
   "language": "python",
   "name": "conda-base-py"
  },
  "language_info": {
   "codemirror_mode": {
    "name": "ipython",
    "version": 3
   },
   "file_extension": ".py",
   "mimetype": "text/x-python",
   "name": "python",
   "nbconvert_exporter": "python",
   "pygments_lexer": "ipython3",
   "version": "3.12.7"
  }
 },
 "nbformat": 4,
 "nbformat_minor": 5
}
