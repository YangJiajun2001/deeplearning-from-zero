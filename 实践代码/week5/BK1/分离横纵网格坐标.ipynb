{
 "cells": [
  {
   "cell_type": "code",
   "execution_count": 63,
   "id": "70b061f2-db34-48b7-91f0-67f0e7da921a",
   "metadata": {},
   "outputs": [],
   "source": [
    "# 自定义函数\n",
    "def custom_meshgrid(x, y):\n",
    "    num_x = len(x); num_y = len(y)\n",
    "    X = [];Y = []\n",
    "    # 外层for循环\n",
    "    for i in range(num_y):\n",
    "        X_row = []; Y_row = []\n",
    "        # 内层for循环\n",
    "        for j in range(num_x):\n",
    "            X_row.append(x[j])\n",
    "            Y_row.append(y[i])\n",
    "        # 生成二维数组\n",
    "        X.append(X_row); Y.append(Y_row)\n",
    "\n",
    "    return X, Y"
   ]
  },
  {
   "cell_type": "code",
   "execution_count": 51,
   "id": "0f7f23df-e7a0-4669-bfe4-3362f5ea1333",
   "metadata": {},
   "outputs": [],
   "source": [
    "# 示例用法\n",
    "x = [0, 1, 2, 3, 4, 5]# 横坐标列表\n",
    "y = [0, 1, 2, 3]      # 纵坐标列表"
   ]
  },
  {
   "cell_type": "code",
   "execution_count": 65,
   "id": "2f7442a2-e824-4910-b7d6-27be4b932edf",
   "metadata": {},
   "outputs": [
    {
     "name": "stdout",
     "output_type": "stream",
     "text": [
      "X坐标：\n",
      "[[0, 1, 2, 3, 4, 5], [0, 1, 2, 3, 4, 5], [0, 1, 2, 3, 4, 5], [0, 1, 2, 3, 4, 5]]\n",
      "Y坐标：\n",
      "[[0, 0, 0, 0, 0, 0], [1, 1, 1, 1, 1, 1], [2, 2, 2, 2, 2, 2], [3, 3, 3, 3, 3, 3]]\n"
     ]
    }
   ],
   "source": [
    "# 调用自定义函数\n",
    "X, Y = custom_meshgrid(x, y)\n",
    "print('X坐标：'); print(X)\n",
    "print('Y坐标：');print(Y)"
   ]
  },
  {
   "cell_type": "code",
   "execution_count": null,
   "id": "c750dacc-7436-47cc-bb04-8b171ad5a986",
   "metadata": {},
   "outputs": [],
   "source": []
  }
 ],
 "metadata": {
  "kernelspec": {
   "display_name": "Python [conda env:base] *",
   "language": "python",
   "name": "conda-base-py"
  },
  "language_info": {
   "codemirror_mode": {
    "name": "ipython",
    "version": 3
   },
   "file_extension": ".py",
   "mimetype": "text/x-python",
   "name": "python",
   "nbconvert_exporter": "python",
   "pygments_lexer": "ipython3",
   "version": "3.12.7"
  }
 },
 "nbformat": 4,
 "nbformat_minor": 5
}
