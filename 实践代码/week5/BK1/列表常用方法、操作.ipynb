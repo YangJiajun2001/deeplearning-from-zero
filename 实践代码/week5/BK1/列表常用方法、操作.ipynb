{
 "cells": [
  {
   "cell_type": "code",
   "execution_count": 68,
   "id": "8b24f219-1bc3-44b4-9f39-4f93794ba39d",
   "metadata": {},
   "outputs": [
    {
     "name": "stdout",
     "output_type": "stream",
     "text": [
      "[1, 1.0, '12ab', True, [1, 1.0, '1'], {1}, {1: 1.0}]\n"
     ]
    }
   ],
   "source": [
    "# 创建一个混合列表\n",
    "my_list = [1, 1.0, '12ab', True, [1, 1.0, '1'], {1}, {1:1.0}]\n",
    "print(my_list)"
   ]
  },
  {
   "cell_type": "code",
   "execution_count": 70,
   "id": "3aab0582-e0c1-4c2a-86b9-4eba644bff86",
   "metadata": {},
   "outputs": [
    {
     "name": "stdout",
     "output_type": "stream",
     "text": [
      "[1, 1.0, '123', True, [1, 1.0, '1'], {1}, {1: 1.0}]\n"
     ]
    }
   ],
   "source": [
    "# 修改某个元素\n",
    "my_list[2] = '123'\n",
    "print(my_list)"
   ]
  },
  {
   "cell_type": "code",
   "execution_count": 72,
   "id": "44093986-ba9a-4fd5-80cc-fbc72cb80c23",
   "metadata": {},
   "outputs": [
    {
     "name": "stdout",
     "output_type": "stream",
     "text": [
      "[1, 1.0, 'inserted', '123', True, [1, 1.0, '1'], {1}, {1: 1.0}]\n"
     ]
    }
   ],
   "source": [
    "# 在列表指定位置插入元素\n",
    "my_list.insert(2, 'inserted')\n",
    "print(my_list)"
   ]
  },
  {
   "cell_type": "code",
   "execution_count": 74,
   "id": "3e88b069-1264-45d9-85d6-3322491d2848",
   "metadata": {},
   "outputs": [
    {
     "name": "stdout",
     "output_type": "stream",
     "text": [
      "[1, 1.0, 'inserted', '123', True, [1, 1.0, '1'], {1}, {1: 1.0}, 'tail']\n"
     ]
    }
   ],
   "source": [
    "# 在列表尾部插入元素\n",
    "my_list.append('tail')\n",
    "print(my_list)"
   ]
  },
  {
   "cell_type": "code",
   "execution_count": 76,
   "id": "2d9cb10a-1734-4f9b-8cdd-95f8644396c2",
   "metadata": {},
   "outputs": [
    {
     "name": "stdout",
     "output_type": "stream",
     "text": [
      "[1, 1.0, 'inserted', '123', True, [1, 1.0, '1'], {1}, {1: 1.0}]\n"
     ]
    }
   ],
   "source": [
    "# 通过索引删除\n",
    "del my_list[-1]\n",
    "print(my_list)"
   ]
  },
  {
   "cell_type": "code",
   "execution_count": 78,
   "id": "a7b86ad6-d4c4-4a10-99cd-f4625f9d8e12",
   "metadata": {},
   "outputs": [
    {
     "name": "stdout",
     "output_type": "stream",
     "text": [
      "[1, 1.0, 'inserted', True, [1, 1.0, '1'], {1}, {1: 1.0}]\n"
     ]
    }
   ],
   "source": [
    "# 删除某个元素\n",
    "my_list.remove('123')\n",
    "print(my_list)"
   ]
  },
  {
   "cell_type": "code",
   "execution_count": 86,
   "id": "0f325d79-0a1f-47d8-864f-5ce7f44a3796",
   "metadata": {},
   "outputs": [
    {
     "name": "stdout",
     "output_type": "stream",
     "text": [
      "No\n"
     ]
    }
   ],
   "source": [
    "# 判断一个元素是否在列表中\n",
    "if '123' in my_list:\n",
    "    print('Yes')\n",
    "else:\n",
    "    print('No')"
   ]
  },
  {
   "cell_type": "code",
   "execution_count": 91,
   "id": "d099ec92-d292-4b17-bfdb-10e19d4146cf",
   "metadata": {},
   "outputs": [
    {
     "name": "stdout",
     "output_type": "stream",
     "text": [
      "[{1: 1.0}, {1}, [1, 1.0, '1'], True, 'inserted', 1.0, 1]\n"
     ]
    }
   ],
   "source": [
    "# 列表翻转\n",
    "my_list.reverse()\n",
    "print(my_list)"
   ]
  },
  {
   "cell_type": "code",
   "execution_count": 107,
   "id": "e51e8492-2918-4121-8719-98e65d1b6686",
   "metadata": {},
   "outputs": [
    {
     "name": "stdout",
     "output_type": "stream",
     "text": [
      "j_a_m_e_s\n"
     ]
    }
   ],
   "source": [
    "# 将列表所有字符连接，连接符为下划线_\n",
    "letters = ['j', 'a', 'm', 'e', 's']\n",
    "word = '_'.join(letters)\n",
    "print(word)"
   ]
  },
  {
   "cell_type": "code",
   "execution_count": null,
   "id": "cca56ed8-4688-4d50-a462-996ca0ed9d3b",
   "metadata": {},
   "outputs": [],
   "source": []
  }
 ],
 "metadata": {
  "kernelspec": {
   "display_name": "Python [conda env:base] *",
   "language": "python",
   "name": "conda-base-py"
  },
  "language_info": {
   "codemirror_mode": {
    "name": "ipython",
    "version": 3
   },
   "file_extension": ".py",
   "mimetype": "text/x-python",
   "name": "python",
   "nbconvert_exporter": "python",
   "pygments_lexer": "ipython3",
   "version": "3.12.7"
  }
 },
 "nbformat": 4,
 "nbformat_minor": 5
}
