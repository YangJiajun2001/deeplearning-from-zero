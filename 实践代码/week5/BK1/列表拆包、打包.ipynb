{
 "cells": [
  {
   "cell_type": "code",
   "execution_count": 5,
   "id": "c5d89d81-2e10-4ef3-9891-f682be24d6cf",
   "metadata": {},
   "outputs": [],
   "source": [
    "# 定义列表\n",
    "list_0 = [0, 1, 2, 3, 4, 5, 6, 7, 8]"
   ]
  },
  {
   "cell_type": "code",
   "execution_count": 16,
   "id": "b9277ef8-4a5b-46fb-8e3b-5cd267cac6b4",
   "metadata": {},
   "outputs": [
    {
     "name": "stdout",
     "output_type": "stream",
     "text": [
      "[1, 2, 3, 4, 5, 6, 7, 8]\n"
     ]
    }
   ],
   "source": [
    "first, *list_rest = list_0\n",
    "print(list_rest)"
   ]
  },
  {
   "cell_type": "code",
   "execution_count": 23,
   "id": "721387a7-a252-4e9d-8539-37256fcfa213",
   "metadata": {},
   "outputs": [
    {
     "name": "stdout",
     "output_type": "stream",
     "text": [
      "[2, 3, 4, 5, 6, 7, 8]\n"
     ]
    }
   ],
   "source": [
    "first, second, *list_rest = list_0\n",
    "print(list_rest)"
   ]
  },
  {
   "cell_type": "code",
   "execution_count": 26,
   "id": "d174adff-90b6-41bc-bd75-7ec1fccfa632",
   "metadata": {},
   "outputs": [
    {
     "name": "stdout",
     "output_type": "stream",
     "text": [
      "[2, 3, 4, 5, 6, 7]\n"
     ]
    }
   ],
   "source": [
    "first, second, *list_rest, last = list_0\n",
    "print(list_rest)"
   ]
  },
  {
   "cell_type": "code",
   "execution_count": 29,
   "id": "dfc7525b-a855-4c20-816e-fa1f73f40391",
   "metadata": {},
   "outputs": [
    {
     "name": "stdout",
     "output_type": "stream",
     "text": [
      "[1, 2, 3, 4, 5, 6, 7]\n"
     ]
    }
   ],
   "source": [
    "first, *list_rest, _ = list_0\n",
    "print(list_rest)"
   ]
  },
  {
   "cell_type": "code",
   "execution_count": 38,
   "id": "58a2d9f2-89e0-4ffe-9b83-dcc6a58c50b4",
   "metadata": {},
   "outputs": [
    {
     "name": "stdout",
     "output_type": "stream",
     "text": [
      "[1, 2, 3, 4, 5, 6, 7, 8]\n"
     ]
    }
   ],
   "source": [
    "list1 = [1, 2, 3, 4, 5]\n",
    "list2 = [6, 7, 8]\n",
    "# 合并\n",
    "combined_list = [*list1, *list2]\n",
    "print(combined_list)"
   ]
  },
  {
   "cell_type": "code",
   "execution_count": null,
   "id": "53ba4c22-896a-4247-8a26-48cdf0cafe84",
   "metadata": {},
   "outputs": [],
   "source": []
  }
 ],
 "metadata": {
  "kernelspec": {
   "display_name": "Python [conda env:base] *",
   "language": "python",
   "name": "conda-base-py"
  },
  "language_info": {
   "codemirror_mode": {
    "name": "ipython",
    "version": 3
   },
   "file_extension": ".py",
   "mimetype": "text/x-python",
   "name": "python",
   "nbconvert_exporter": "python",
   "pygments_lexer": "ipython3",
   "version": "3.12.7"
  }
 },
 "nbformat": 4,
 "nbformat_minor": 5
}
