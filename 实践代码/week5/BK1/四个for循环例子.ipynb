{
 "cells": [
  {
   "cell_type": "code",
   "execution_count": 60,
   "id": "a5429bc3-0247-48ba-ab8f-024096ab48ad",
   "metadata": {},
   "outputs": [
    {
     "name": "stdout",
     "output_type": "stream",
     "text": [
      "M\n",
      "a\n",
      "t\n",
      "p\n",
      "l\n",
      "o\n",
      "t\n",
      "l\n",
      "i\n",
      "b\n"
     ]
    }
   ],
   "source": [
    "# 循环字符串内字符\n",
    "\n",
    "str_for_loop = 'Matplotlib'\n",
    "\n",
    "for str_idx in str_for_loop:\n",
    "    print(str_idx)"
   ]
  },
  {
   "cell_type": "code",
   "execution_count": 62,
   "id": "1bbb6346-2233-4c3a-bbce-c0d0b1e49a0b",
   "metadata": {},
   "outputs": [
    {
     "name": "stdout",
     "output_type": "stream",
     "text": [
      "Matplotlib\n",
      "Numpy\n",
      "Seaborn\n",
      "Pandas\n",
      "Plotly\n",
      "SK-learn\n"
     ]
    }
   ],
   "source": [
    "# 循环list中的元素\n",
    "list_for_loop = ['Matplotlib', 'Numpy', 'Seaborn',\n",
    "                'Pandas', 'Plotly', 'SK-learn']\n",
    "\n",
    "for item_idx in list_for_loop:\n",
    "    print(item_idx)"
   ]
  },
  {
   "cell_type": "code",
   "execution_count": 70,
   "id": "5901cb9c-b55d-4343-b401-5f3d41364aed",
   "metadata": {},
   "outputs": [
    {
     "name": "stdout",
     "output_type": "stream",
     "text": [
      "=================\n",
      "Matplotlib\n",
      "A visualization tool\n",
      "=================\n",
      "Numpy\n",
      "=================\n",
      "Seaborn\n",
      "A visualization tool\n",
      "=================\n",
      "Pandas\n",
      "=================\n",
      "Plotly\n",
      "A visualization tool\n",
      "=================\n",
      "SK-learn\n"
     ]
    }
   ],
   "source": [
    "# 循环中嵌入 if 判断\n",
    "packages_visual = ['Matplotlib', 'Seaborn', 'Plotly']\n",
    "for item_idx in list_for_loop:\n",
    "    print('=================')\n",
    "    print(item_idx)\n",
    "    if item_idx in packages_visual:\n",
    "        print('A visualization tool')\n"
   ]
  },
  {
   "cell_type": "code",
   "execution_count": 76,
   "id": "5ebbcf34-6334-44d8-8e2d-71860e1f789a",
   "metadata": {},
   "outputs": [
    {
     "name": "stdout",
     "output_type": "stream",
     "text": [
      "=================\n",
      "Matplotlib\n",
      "M\n",
      "a\n",
      "t\n",
      "p\n",
      "l\n",
      "o\n",
      "t\n",
      "l\n",
      "i\n",
      "b\n",
      "=================\n",
      "Numpy\n",
      "N\n",
      "u\n",
      "m\n",
      "p\n",
      "y\n",
      "=================\n",
      "Seaborn\n",
      "S\n",
      "e\n",
      "a\n",
      "b\n",
      "o\n",
      "r\n",
      "n\n",
      "=================\n",
      "Pandas\n",
      "P\n",
      "a\n",
      "n\n",
      "d\n",
      "a\n",
      "s\n",
      "=================\n",
      "Plotly\n",
      "P\n",
      "l\n",
      "o\n",
      "t\n",
      "l\n",
      "y\n",
      "=================\n",
      "SK-learn\n",
      "S\n",
      "K\n",
      "-\n",
      "l\n",
      "e\n",
      "a\n",
      "r\n",
      "n\n"
     ]
    }
   ],
   "source": [
    "# 嵌套for循环\n",
    "packages_visual = ['Matplotlib', 'Seaborn', 'Plotly']\n",
    "for item_idx in list_for_loop:\n",
    "    print('=================')\n",
    "    print(item_idx)\n",
    "\n",
    "    for item_idx in item_idx:\n",
    "        print(item_idx)"
   ]
  },
  {
   "cell_type": "code",
   "execution_count": null,
   "id": "e7919b66-f167-42c2-965d-0ba7b7c95c75",
   "metadata": {},
   "outputs": [],
   "source": []
  }
 ],
 "metadata": {
  "kernelspec": {
   "display_name": "Python [conda env:base] *",
   "language": "python",
   "name": "conda-base-py"
  },
  "language_info": {
   "codemirror_mode": {
    "name": "ipython",
    "version": 3
   },
   "file_extension": ".py",
   "mimetype": "text/x-python",
   "name": "python",
   "nbconvert_exporter": "python",
   "pygments_lexer": "ipython3",
   "version": "3.12.7"
  }
 },
 "nbformat": 4,
 "nbformat_minor": 5
}
