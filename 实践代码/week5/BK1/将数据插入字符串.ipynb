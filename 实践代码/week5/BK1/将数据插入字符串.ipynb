{
 "cells": [
  {
   "cell_type": "code",
   "execution_count": 7,
   "id": "1f1827ad-0ee8-4306-a5d5-103a5ed55758",
   "metadata": {},
   "outputs": [],
   "source": [
    "name = 'James'\n",
    "height = 181.18"
   ]
  },
  {
   "cell_type": "code",
   "execution_count": 17,
   "id": "f1824456-6e68-4ca4-9222-4c6b3a986c72",
   "metadata": {},
   "outputs": [
    {
     "name": "stdout",
     "output_type": "stream",
     "text": [
      "James has a height of 181.18cm.\n"
     ]
    }
   ],
   "source": [
    "#  使用+运算符\n",
    "str1 = name + ' has a height of ' + str(height)+'cm.'\n",
    "print(str1)"
   ]
  },
  {
   "cell_type": "code",
   "execution_count": 26,
   "id": "47bc2a07-3846-4a2b-afc0-8fc2a5559d07",
   "metadata": {},
   "outputs": [
    {
     "name": "stdout",
     "output_type": "stream",
     "text": [
      "James has a height of 181.180 cm\n"
     ]
    }
   ],
   "source": [
    "# 使用%\n",
    "str2 = '%s has a height of %.3f cm'%(name, height)\n",
    "print(str2)"
   ]
  },
  {
   "cell_type": "code",
   "execution_count": 36,
   "id": "c0283628-20fc-4da0-afba-1556cc9d6875",
   "metadata": {},
   "outputs": [
    {
     "name": "stdout",
     "output_type": "stream",
     "text": [
      "James has a height of 181.180 cm.\n"
     ]
    }
   ],
   "source": [
    "# 使用str.format()\n",
    "str3 = '{} has a height of {:.3f} cm.'.format(name, height)\n",
    "print(str3)"
   ]
  },
  {
   "cell_type": "code",
   "execution_count": 44,
   "id": "c824f0f2-e465-477f-a7e1-4ec9576690ae",
   "metadata": {},
   "outputs": [
    {
     "name": "stdout",
     "output_type": "stream",
     "text": [
      "James has a height of 181.180 cm.\n"
     ]
    }
   ],
   "source": [
    "# 使用f-strings\n",
    "str4 = f'{name} has a height of {height:.3f} cm.'\n",
    "print(str4)"
   ]
  },
  {
   "cell_type": "code",
   "execution_count": null,
   "id": "a5f8d4d4-671e-4811-b5c3-98c2bcd099ae",
   "metadata": {},
   "outputs": [],
   "source": []
  }
 ],
 "metadata": {
  "kernelspec": {
   "display_name": "Python [conda env:base] *",
   "language": "python",
   "name": "conda-base-py"
  },
  "language_info": {
   "codemirror_mode": {
    "name": "ipython",
    "version": 3
   },
   "file_extension": ".py",
   "mimetype": "text/x-python",
   "name": "python",
   "nbconvert_exporter": "python",
   "pygments_lexer": "ipython3",
   "version": "3.12.7"
  }
 },
 "nbformat": 4,
 "nbformat_minor": 5
}
