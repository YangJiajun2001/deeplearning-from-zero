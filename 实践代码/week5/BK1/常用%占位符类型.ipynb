{
 "cells": [
  {
   "cell_type": "code",
   "execution_count": 5,
   "id": "2b8e2430-50f8-44c4-acee-223d3b40954f",
   "metadata": {},
   "outputs": [
    {
     "data": {
      "text/plain": [
       "'The first letter of Python is p'"
      ]
     },
     "execution_count": 5,
     "metadata": {},
     "output_type": "execute_result"
    }
   ],
   "source": [
    "'The first letter of Python is %c'%'p'"
   ]
  },
  {
   "cell_type": "code",
   "execution_count": 10,
   "id": "818f9cb0-bb0f-4cd5-980d-8654acfb603d",
   "metadata": {},
   "outputs": [
    {
     "data": {
      "text/plain": [
       "'Welconme to  the world of Python'"
      ]
     },
     "execution_count": 10,
     "metadata": {},
     "output_type": "execute_result"
    }
   ],
   "source": [
    "'Welconme to  the world of %s'%\"Python\""
   ]
  },
  {
   "cell_type": "code",
   "execution_count": 14,
   "id": "b473779a-3ed8-4262-abb9-d690059a141e",
   "metadata": {},
   "outputs": [
    {
     "data": {
      "text/plain": [
       "'Python has 6 letters'"
      ]
     },
     "execution_count": 14,
     "metadata": {},
     "output_type": "execute_result"
    }
   ],
   "source": [
    "'Python has %i letters'%len('Python')"
   ]
  },
  {
   "cell_type": "code",
   "execution_count": 29,
   "id": "2b0ed80e-e0e5-4cc1-9afc-070c68ebc5bd",
   "metadata": {},
   "outputs": [
    {
     "name": "stdout",
     "output_type": "stream",
     "text": [
      "Rounding 1.8888 to 2 decimal place is 1.89\n"
     ]
    }
   ],
   "source": [
    "number = 1.8888\n",
    "print('Rounding %.4f to 2 decimal place is %.2f'%(number, number))"
   ]
  },
  {
   "cell_type": "code",
   "execution_count": 38,
   "id": "c9841343-50c4-4d51-afe7-b0307427ed5d",
   "metadata": {},
   "outputs": [
    {
     "name": "stdout",
     "output_type": "stream",
     "text": [
      "12 is octal 14\n"
     ]
    }
   ],
   "source": [
    "number = 12\n",
    "print(\"%i is octal %o\"%(number, number))"
   ]
  },
  {
   "cell_type": "code",
   "execution_count": 51,
   "id": "083c68c1-1c27-4e35-a950-63dd9fecd00d",
   "metadata": {},
   "outputs": [
    {
     "name": "stdout",
     "output_type": "stream",
     "text": [
      "12000 is 1.20e+04\n"
     ]
    }
   ],
   "source": [
    "number = 12000\n",
    "print(\"%i is %.2e\"%(number, number))"
   ]
  },
  {
   "cell_type": "code",
   "execution_count": null,
   "id": "0d72bfa7-857a-497c-bfb3-ec4f105ad28d",
   "metadata": {},
   "outputs": [],
   "source": []
  }
 ],
 "metadata": {
  "kernelspec": {
   "display_name": "Python [conda env:base] *",
   "language": "python",
   "name": "conda-base-py"
  },
  "language_info": {
   "codemirror_mode": {
    "name": "ipython",
    "version": 3
   },
   "file_extension": ".py",
   "mimetype": "text/x-python",
   "name": "python",
   "nbconvert_exporter": "python",
   "pygments_lexer": "ipython3",
   "version": "3.12.7"
  }
 },
 "nbformat": 4,
 "nbformat_minor": 5
}
