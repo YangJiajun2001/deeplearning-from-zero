{
 "cells": [
  {
   "cell_type": "code",
   "execution_count": 19,
   "id": "a8758019-0688-4829-a28d-06a0033fd10e",
   "metadata": {},
   "outputs": [
    {
     "name": "stdout",
     "output_type": "stream",
     "text": [
      "2025-04-21 14:31\n",
      "210425 143111\n"
     ]
    }
   ],
   "source": [
    "import datetime\n",
    "now = datetime.datetime.now()\n",
    "print(f'{now:%Y-%m-%d %H:%M}')\n",
    "print(f'{now:%d%m%y %H%M%S}')"
   ]
  },
  {
   "cell_type": "code",
   "execution_count": 26,
   "id": "fcb18132-d621-47f8-bd69-5d6a7cb8fc75",
   "metadata": {},
   "outputs": [
    {
     "data": {
      "text/plain": [
       "'3.14'"
      ]
     },
     "execution_count": 26,
     "metadata": {},
     "output_type": "execute_result"
    }
   ],
   "source": [
    "pi = 3.141592653589793238462643\n",
    "f'{pi:.2f}'"
   ]
  },
  {
   "cell_type": "code",
   "execution_count": 30,
   "id": "5003f13e-99af-4f13-ab63-6e91dfe399fe",
   "metadata": {},
   "outputs": [
    {
     "data": {
      "text/plain": [
       "'3.14e+03'"
      ]
     },
     "execution_count": 30,
     "metadata": {},
     "output_type": "execute_result"
    }
   ],
   "source": [
    "f'{pi*1000:.2e}'"
   ]
  },
  {
   "cell_type": "code",
   "execution_count": 35,
   "id": "2481f2e4-8856-472b-8a52-7ec9f0db0e40",
   "metadata": {},
   "outputs": [
    {
     "name": "stdout",
     "output_type": "stream",
     "text": [
      "10010\n"
     ]
    }
   ],
   "source": [
    "a = 18\n",
    "print(f'{a:b}')"
   ]
  },
  {
   "cell_type": "code",
   "execution_count": 39,
   "id": "f88b00c1-9b30-4571-9c47-6cf4e5fb8602",
   "metadata": {},
   "outputs": [
    {
     "name": "stdout",
     "output_type": "stream",
     "text": [
      "44\n"
     ]
    }
   ],
   "source": [
    "a = 68\n",
    "print(f'{a:x}')"
   ]
  },
  {
   "cell_type": "code",
   "execution_count": 46,
   "id": "89c88ed5-5734-4853-81b2-48f9d56b799b",
   "metadata": {},
   "outputs": [
    {
     "name": "stdout",
     "output_type": "stream",
     "text": [
      "130\n"
     ]
    }
   ],
   "source": [
    "a = 88\n",
    "print(f'{a:o}')"
   ]
  },
  {
   "cell_type": "code",
   "execution_count": null,
   "id": "18f60b04-ef3c-426f-9649-db16bc5278c9",
   "metadata": {},
   "outputs": [],
   "source": []
  }
 ],
 "metadata": {
  "kernelspec": {
   "display_name": "Python [conda env:base] *",
   "language": "python",
   "name": "conda-base-py"
  },
  "language_info": {
   "codemirror_mode": {
    "name": "ipython",
    "version": 3
   },
   "file_extension": ".py",
   "mimetype": "text/x-python",
   "name": "python",
   "nbconvert_exporter": "python",
   "pygments_lexer": "ipython3",
   "version": "3.12.7"
  }
 },
 "nbformat": 4,
 "nbformat_minor": 5
}
