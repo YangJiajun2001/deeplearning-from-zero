{
 "cells": [
  {
   "cell_type": "code",
   "execution_count": 4,
   "id": "24637a6e-700f-4eaf-8a8f-539da4197049",
   "metadata": {},
   "outputs": [],
   "source": [
    "# 定义一个列表\n",
    "my_list = [1, 2, 3, 4, 5]"
   ]
  },
  {
   "cell_type": "code",
   "execution_count": 11,
   "id": "307df66b-26cb-498b-ac5e-c40508ada5b9",
   "metadata": {},
   "outputs": [
    {
     "name": "stdout",
     "output_type": "stream",
     "text": [
      "True\n",
      "False\n"
     ]
    }
   ],
   "source": [
    "# 判断元素是否在列表中\n",
    "print(3 in my_list)\n",
    "print(6 in my_list)"
   ]
  },
  {
   "cell_type": "code",
   "execution_count": 15,
   "id": "42e3571c-1172-4bc2-855c-813418ba505f",
   "metadata": {},
   "outputs": [
    {
     "name": "stdout",
     "output_type": "stream",
     "text": [
      "False\n",
      "True\n"
     ]
    }
   ],
   "source": [
    "# 判断元素是否不在列表中\n",
    "print(3 not in my_list)\n",
    "print(6 not in my_list)"
   ]
  },
  {
   "cell_type": "code",
   "execution_count": null,
   "id": "2f1ab86c-8781-475d-8657-a127eb7b73a9",
   "metadata": {},
   "outputs": [],
   "source": []
  }
 ],
 "metadata": {
  "kernelspec": {
   "display_name": "Python [conda env:base] *",
   "language": "python",
   "name": "conda-base-py"
  },
  "language_info": {
   "codemirror_mode": {
    "name": "ipython",
    "version": 3
   },
   "file_extension": ".py",
   "mimetype": "text/x-python",
   "name": "python",
   "nbconvert_exporter": "python",
   "pygments_lexer": "ipython3",
   "version": "3.12.7"
  }
 },
 "nbformat": 4,
 "nbformat_minor": 5
}
