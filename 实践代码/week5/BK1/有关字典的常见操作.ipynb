{
 "cells": [
  {
   "cell_type": "code",
   "execution_count": 7,
   "id": "60d2b95a-f71f-4600-a1b3-dbf21246da24",
   "metadata": {},
   "outputs": [],
   "source": [
    "# 使用大括号创建字典\n",
    "person = {'name':'James', 'age':88, 'gender':'male'}"
   ]
  },
  {
   "cell_type": "code",
   "execution_count": 15,
   "id": "a69e7456-d4ad-44d9-84b0-a37e2cf02b3b",
   "metadata": {},
   "outputs": [],
   "source": [
    "# 使用dict()函数创建字典\n",
    "fruits = dict(apple = 88, banana = 888, cherry = 8888)"
   ]
  },
  {
   "cell_type": "code",
   "execution_count": 20,
   "id": "c2d683a3-a4cf-4502-92e5-b0a5d88c4946",
   "metadata": {},
   "outputs": [
    {
     "name": "stdout",
     "output_type": "stream",
     "text": [
      "James\n",
      "8888\n"
     ]
    }
   ],
   "source": [
    "# 访问字典中的值\n",
    "print(person['name'])\n",
    "print(fruits['cherry'])"
   ]
  },
  {
   "cell_type": "code",
   "execution_count": 24,
   "id": "ffe2df82-b400-46a4-a97f-5e948621a312",
   "metadata": {},
   "outputs": [
    {
     "name": "stdout",
     "output_type": "stream",
     "text": [
      "{'name': 'James', 'age': 28, 'gender': 'male'}\n"
     ]
    }
   ],
   "source": [
    "# 修改字典中的值\n",
    "person['age'] = 28\n",
    "print(person)"
   ]
  },
  {
   "cell_type": "code",
   "execution_count": 31,
   "id": "9b222b77-09ea-4717-9c28-9a78a697f30c",
   "metadata": {},
   "outputs": [
    {
     "name": "stdout",
     "output_type": "stream",
     "text": [
      "{'name': 'James', 'age': 28, 'gender': 'male', 'city': 'Toronto'}\n"
     ]
    }
   ],
   "source": [
    "# 添加键值对\n",
    "person['city'] = 'Toronto'\n",
    "print(person)"
   ]
  },
  {
   "cell_type": "code",
   "execution_count": 36,
   "id": "b5f6a9e6-e0d9-4ba8-aa45-629aca167e08",
   "metadata": {},
   "outputs": [
    {
     "name": "stdout",
     "output_type": "stream",
     "text": [
      "{'name': 'James', 'age': 28, 'city': 'Toronto'}\n"
     ]
    }
   ],
   "source": [
    "# 删除键值对\n",
    "del person['gender']\n",
    "print(person)"
   ]
  },
  {
   "cell_type": "code",
   "execution_count": 43,
   "id": "462f8038-00fa-4ae6-846c-5a3e9bd600df",
   "metadata": {},
   "outputs": [
    {
     "name": "stdout",
     "output_type": "stream",
     "text": [
      "dict_keys(['name', 'age', 'city'])\n",
      "dict_values(['James', 28, 'Toronto'])\n",
      "dict_items([('name', 'James'), ('age', 28), ('city', 'Toronto')])\n"
     ]
    }
   ],
   "source": [
    "# 获取键、值、键值对列表\n",
    "print(person.keys())\n",
    "print(person.values())\n",
    "print(person.items())"
   ]
  },
  {
   "cell_type": "code",
   "execution_count": null,
   "id": "c1aeb5ea-78d5-4b36-93f2-b7dabf3c726f",
   "metadata": {},
   "outputs": [],
   "source": []
  }
 ],
 "metadata": {
  "kernelspec": {
   "display_name": "Python [conda env:base] *",
   "language": "python",
   "name": "conda-base-py"
  },
  "language_info": {
   "codemirror_mode": {
    "name": "ipython",
    "version": 3
   },
   "file_extension": ".py",
   "mimetype": "text/x-python",
   "name": "python",
   "nbconvert_exporter": "python",
   "pygments_lexer": "ipython3",
   "version": "3.12.7"
  }
 },
 "nbformat": 4,
 "nbformat_minor": 5
}
