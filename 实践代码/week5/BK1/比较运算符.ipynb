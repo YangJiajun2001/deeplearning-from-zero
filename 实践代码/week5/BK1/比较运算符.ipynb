{
 "cells": [
  {
   "cell_type": "code",
   "execution_count": 3,
   "id": "f53e4576-6631-4368-8438-d81414474811",
   "metadata": {},
   "outputs": [],
   "source": [
    "x = 5\n",
    "y = 3"
   ]
  },
  {
   "cell_type": "code",
   "execution_count": 12,
   "id": "37c13476-adc3-43ae-864a-86a06a597f19",
   "metadata": {},
   "outputs": [
    {
     "name": "stdout",
     "output_type": "stream",
     "text": [
      "False\n",
      "True\n",
      "True\n",
      "False\n",
      "False\n"
     ]
    }
   ],
   "source": [
    "print(x == y)\n",
    "print(x == 5)\n",
    "print(x != y)\n",
    "print(x != 5)\n",
    "print(x != 5.0)"
   ]
  },
  {
   "cell_type": "code",
   "execution_count": 25,
   "id": "6b6aef8c-0c3f-4449-9764-1281d9986c16",
   "metadata": {},
   "outputs": [
    {
     "name": "stdout",
     "output_type": "stream",
     "text": [
      "True\n",
      "False\n",
      "True\n",
      "True\n"
     ]
    }
   ],
   "source": [
    "print(x > y)\n",
    "print(x > 10)\n",
    "print(x >= y)\n",
    "print(x >= 5)"
   ]
  },
  {
   "cell_type": "code",
   "execution_count": 30,
   "id": "d14cc4c6-aac1-4b5c-b7f8-019df0c33da2",
   "metadata": {},
   "outputs": [
    {
     "name": "stdout",
     "output_type": "stream",
     "text": [
      "False\n",
      "True\n",
      "False\n",
      "True\n"
     ]
    }
   ],
   "source": [
    "print(x < y)\n",
    "print(x <10)\n",
    "print(x <= y)\n",
    "print(x <= 5)"
   ]
  },
  {
   "cell_type": "code",
   "execution_count": null,
   "id": "ec960c09-295b-4830-aad1-3850b6dd5947",
   "metadata": {},
   "outputs": [],
   "source": []
  }
 ],
 "metadata": {
  "kernelspec": {
   "display_name": "Python [conda env:base] *",
   "language": "python",
   "name": "conda-base-py"
  },
  "language_info": {
   "codemirror_mode": {
    "name": "ipython",
    "version": 3
   },
   "file_extension": ".py",
   "mimetype": "text/x-python",
   "name": "python",
   "nbconvert_exporter": "python",
   "pygments_lexer": "ipython3",
   "version": "3.12.7"
  }
 },
 "nbformat": 4,
 "nbformat_minor": 5
}
