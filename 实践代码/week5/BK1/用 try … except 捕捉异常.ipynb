{
 "cells": [
  {
   "cell_type": "code",
   "execution_count": 17,
   "id": "6df979db-9d42-402b-8041-657e87ac42ee",
   "metadata": {},
   "outputs": [
    {
     "name": "stdout",
     "output_type": "stream",
     "text": [
      "余数不能为零\n"
     ]
    }
   ],
   "source": [
    "try:\n",
    "    x = 1/0\n",
    "\n",
    "except ZeroDivisionError:\n",
    "    print('余数不能为零')"
   ]
  },
  {
   "cell_type": "code",
   "execution_count": null,
   "id": "e7c346ba-09ad-4d58-84c7-3b62fa452223",
   "metadata": {},
   "outputs": [],
   "source": []
  }
 ],
 "metadata": {
  "kernelspec": {
   "display_name": "Python [conda env:base] *",
   "language": "python",
   "name": "conda-base-py"
  },
  "language_info": {
   "codemirror_mode": {
    "name": "ipython",
    "version": 3
   },
   "file_extension": ".py",
   "mimetype": "text/x-python",
   "name": "python",
   "nbconvert_exporter": "python",
   "pygments_lexer": "ipython3",
   "version": "3.12.7"
  }
 },
 "nbformat": 4,
 "nbformat_minor": 5
}
