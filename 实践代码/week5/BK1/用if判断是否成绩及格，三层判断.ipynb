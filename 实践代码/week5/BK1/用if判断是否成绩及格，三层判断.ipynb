{
 "cells": [
  {
   "cell_type": "code",
   "execution_count": 29,
   "id": "9cbc8f18-4546-4a5f-aa2d-a5f4863efdff",
   "metadata": {},
   "outputs": [
    {
     "name": "stdin",
     "output_type": "stream",
     "text": [
      "请输入一个数值： 89\n"
     ]
    },
    {
     "name": "stdout",
     "output_type": "stream",
     "text": [
      "及格\n"
     ]
    }
   ],
   "source": [
    "value = input('请输入一个数值：')\n",
    "\n",
    "# 第一层\n",
    "if value.isdigit():\n",
    "    number = int(value)\n",
    "\n",
    "    # 第二层\n",
    "    if 0 <= number <= 100:\n",
    "\n",
    "        # 第三层\n",
    "        if number < 60:\n",
    "            print('不及格')\n",
    "        else:\n",
    "            print('及格')\n",
    "        # 第三层结束\n",
    "    else:\n",
    "        print('数值不在0~100之间')\n",
    "else:\n",
    "    print('输入的不是一个数值')\n",
    "# 第一层结束"
   ]
  },
  {
   "cell_type": "code",
   "execution_count": null,
   "id": "0537d0ca-0cf9-4a54-ae15-c717768f250b",
   "metadata": {},
   "outputs": [],
   "source": []
  }
 ],
 "metadata": {
  "kernelspec": {
   "display_name": "Python [conda env:base] *",
   "language": "python",
   "name": "conda-base-py"
  },
  "language_info": {
   "codemirror_mode": {
    "name": "ipython",
    "version": 3
   },
   "file_extension": ".py",
   "mimetype": "text/x-python",
   "name": "python",
   "nbconvert_exporter": "python",
   "pygments_lexer": "ipython3",
   "version": "3.12.7"
  }
 },
 "nbformat": 4,
 "nbformat_minor": 5
}
