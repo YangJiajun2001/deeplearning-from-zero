{
 "cells": [
  {
   "cell_type": "code",
   "execution_count": 9,
   "id": "6963c8a2-9b99-4416-a09b-5fd69f6dd17b",
   "metadata": {},
   "outputs": [],
   "source": [
    "# 计算向量内积\n",
    "# 定义向量a 和 b\n",
    "a = [1, 2, 3, 4, 5]\n",
    "b = [6, 7, 8, 9, 0]"
   ]
  },
  {
   "cell_type": "code",
   "execution_count": 15,
   "id": "751dc21a-8b56-4068-a87e-cb8c26bebc90",
   "metadata": {},
   "outputs": [],
   "source": [
    "# 初始化内积为0\n",
    "dot_product = 0\n"
   ]
  },
  {
   "cell_type": "code",
   "execution_count": 34,
   "id": "529d474c-66f2-4af7-8fab-319de95d306b",
   "metadata": {},
   "outputs": [
    {
     "name": "stdout",
     "output_type": "stream",
     "text": [
      "向量内积为： 80\n"
     ]
    }
   ],
   "source": [
    "# 使用for循环计算内积\n",
    "for i in range(len(a)):\n",
    "    dot_product += a[i]*b[i]\n",
    "\n",
    "# 打印内积\n",
    "\n",
    "print('向量内积为：', dot_product)"
   ]
  },
  {
   "cell_type": "code",
   "execution_count": null,
   "id": "7df36201-3802-4366-85cd-16008a7d208c",
   "metadata": {},
   "outputs": [],
   "source": []
  }
 ],
 "metadata": {
  "kernelspec": {
   "display_name": "Python [conda env:base] *",
   "language": "python",
   "name": "conda-base-py"
  },
  "language_info": {
   "codemirror_mode": {
    "name": "ipython",
    "version": 3
   },
   "file_extension": ".py",
   "mimetype": "text/x-python",
   "name": "python",
   "nbconvert_exporter": "python",
   "pygments_lexer": "ipython3",
   "version": "3.12.7"
  }
 },
 "nbformat": 4,
 "nbformat_minor": 5
}
