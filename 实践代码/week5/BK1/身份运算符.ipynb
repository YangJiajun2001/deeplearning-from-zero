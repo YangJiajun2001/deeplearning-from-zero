{
 "cells": [
  {
   "cell_type": "code",
   "execution_count": 4,
   "id": "0d90c7b4-dd0e-472a-8f96-4dc999e2de79",
   "metadata": {},
   "outputs": [],
   "source": [
    "import copy\n",
    "a = [1, 2, 3]\n",
    "b = a"
   ]
  },
  {
   "cell_type": "code",
   "execution_count": 10,
   "id": "da84610c-f266-4182-a63c-7342e98833ae",
   "metadata": {},
   "outputs": [],
   "source": [
    "# 视图 b 引用 a 的内存地址\n",
    "c = [1, 2, 3]\n",
    "d = a.copy()"
   ]
  },
  {
   "cell_type": "code",
   "execution_count": 21,
   "id": "b8b2eec4-5fd2-401a-bb1b-7584368d0cbd",
   "metadata": {},
   "outputs": [
    {
     "name": "stdout",
     "output_type": "stream",
     "text": [
      "True\n"
     ]
    }
   ],
   "source": [
    "print(a is b)# 输出 True，因为 a 和 b 引用同一个内存地址"
   ]
  },
  {
   "cell_type": "code",
   "execution_count": 24,
   "id": "8c74af58-2104-4bf5-8fb1-5e33421d06ca",
   "metadata": {},
   "outputs": [
    {
     "name": "stdout",
     "output_type": "stream",
     "text": [
      "True\n"
     ]
    }
   ],
   "source": [
    "print(a is not c)# 输出 True，因为 a 和 c 引用不同的内存地址"
   ]
  },
  {
   "cell_type": "code",
   "execution_count": 30,
   "id": "c331f98e-a691-4305-94c7-bed4f9b4047e",
   "metadata": {},
   "outputs": [
    {
     "name": "stdout",
     "output_type": "stream",
     "text": [
      "True\n"
     ]
    }
   ],
   "source": [
    "print(a == c)# 输出 True，因为 a 和 c 的值相等"
   ]
  },
  {
   "cell_type": "code",
   "execution_count": 34,
   "id": "a14a374a-1323-4b44-9e7b-aa190e245904",
   "metadata": {},
   "outputs": [
    {
     "name": "stdout",
     "output_type": "stream",
     "text": [
      "True\n"
     ]
    }
   ],
   "source": [
    "print(a is not d)# 输出 True，因为 a 和 d 引用不同的内存地址"
   ]
  },
  {
   "cell_type": "code",
   "execution_count": 38,
   "id": "72b3ea0e-8f84-4bba-b363-7dafce8ae7f2",
   "metadata": {},
   "outputs": [
    {
     "name": "stdout",
     "output_type": "stream",
     "text": [
      "True\n"
     ]
    }
   ],
   "source": [
    "print(a == d)# 输出 True，因为 a 和 d 的值相等"
   ]
  },
  {
   "cell_type": "code",
   "execution_count": 45,
   "id": "2a2b800d-907b-4c7a-807e-33d0848e5c7a",
   "metadata": {},
   "outputs": [
    {
     "data": {
      "text/plain": [
       "[1, 2, [3, 4]]"
      ]
     },
     "execution_count": 45,
     "metadata": {},
     "output_type": "execute_result"
    }
   ],
   "source": [
    "a_2_layers = [1, 2, [3, 4]]\n",
    "a_2_layers"
   ]
  },
  {
   "cell_type": "code",
   "execution_count": 50,
   "id": "ed686bbf-095b-4c35-a9b8-5799fed32576",
   "metadata": {},
   "outputs": [
    {
     "data": {
      "text/plain": [
       "[1, 2, [3, 4]]"
      ]
     },
     "execution_count": 50,
     "metadata": {},
     "output_type": "execute_result"
    }
   ],
   "source": [
    "d_2_layers = a_2_layers.copy()\n",
    "d_2_layers"
   ]
  },
  {
   "cell_type": "code",
   "execution_count": 57,
   "id": "fbfb5162-094f-4be8-87bd-62f3a1cbdf7d",
   "metadata": {},
   "outputs": [
    {
     "data": {
      "text/plain": [
       "[1, 2, [3, 4]]"
      ]
     },
     "execution_count": 57,
     "metadata": {},
     "output_type": "execute_result"
    }
   ],
   "source": [
    "e_2_layers = copy.deepcopy(a_2_layers)\n",
    "e_2_layers"
   ]
  },
  {
   "cell_type": "code",
   "execution_count": 65,
   "id": "67b5c402-6c8c-43fc-bd80-c83b21cdf2b8",
   "metadata": {},
   "outputs": [
    {
     "name": "stdout",
     "output_type": "stream",
     "text": [
      "False\n",
      "True\n"
     ]
    }
   ],
   "source": [
    "print(a_2_layers is d_2_layers)\n",
    "print(a_2_layers[2] is d_2_layers[2])"
   ]
  },
  {
   "cell_type": "code",
   "execution_count": 68,
   "id": "17d898ef-7a37-49b3-8aa2-27f80fc4e72b",
   "metadata": {},
   "outputs": [
    {
     "name": "stdout",
     "output_type": "stream",
     "text": [
      "False\n",
      "False\n"
     ]
    }
   ],
   "source": [
    "print(a_2_layers is e_2_layers)\n",
    "print(a_2_layers[2] is e_2_layers[2])"
   ]
  },
  {
   "cell_type": "code",
   "execution_count": null,
   "id": "5b315f12-6048-4ab6-947e-f91137602592",
   "metadata": {},
   "outputs": [],
   "source": []
  }
 ],
 "metadata": {
  "kernelspec": {
   "display_name": "Python [conda env:base] *",
   "language": "python",
   "name": "conda-base-py"
  },
  "language_info": {
   "codemirror_mode": {
    "name": "ipython",
    "version": 3
   },
   "file_extension": ".py",
   "mimetype": "text/x-python",
   "name": "python",
   "nbconvert_exporter": "python",
   "pygments_lexer": "ipython3",
   "version": "3.12.7"
  }
 },
 "nbformat": 4,
 "nbformat_minor": 5
}
