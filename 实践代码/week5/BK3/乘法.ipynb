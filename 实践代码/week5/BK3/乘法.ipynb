{
 "cells": [
  {
   "cell_type": "markdown",
   "id": "a03baa0c-27fd-4374-9469-16c94d5fecc0",
   "metadata": {},
   "source": [
    "# 计算两个数字的乘积并显示结果"
   ]
  },
  {
   "cell_type": "code",
   "execution_count": 7,
   "id": "eed6c259-9e40-4de0-9827-888dccaa0eb5",
   "metadata": {},
   "outputs": [],
   "source": [
    "num1 = 2 # 定义第一个数字"
   ]
  },
  {
   "cell_type": "code",
   "execution_count": 10,
   "id": "f5feafc6-8c3c-4fd4-a8fb-87ad1d0dc4f0",
   "metadata": {},
   "outputs": [],
   "source": [
    "num2 = 3 # 定义第二个数字"
   ]
  },
  {
   "cell_type": "markdown",
   "id": "c0697f47-8cb2-4bba-8efe-472d46ae55be",
   "metadata": {},
   "source": [
    "# 计算两个数字的乘积"
   ]
  },
  {
   "cell_type": "code",
   "execution_count": 22,
   "id": "61396c19-b776-4edf-80f4-b05c7b072c16",
   "metadata": {},
   "outputs": [],
   "source": [
    "prod = num1 * num2 # 计算num1和num2的乘积"
   ]
  },
  {
   "cell_type": "markdown",
   "id": "38a26fb7-9de8-48a8-b956-2d298c47223d",
   "metadata": {},
   "source": [
    "# 显示计算结果"
   ]
  },
  {
   "cell_type": "code",
   "execution_count": 42,
   "id": "e7f22fe1-ba72-4d01-bd67-a8480130d43b",
   "metadata": {},
   "outputs": [
    {
     "name": "stdout",
     "output_type": "stream",
     "text": [
      "The product of 2 and 3 is 6\n"
     ]
    }
   ],
   "source": [
    "print(\"The product of {0} and {1} is {2}\".format(num1, num2, prod))"
   ]
  },
  {
   "cell_type": "code",
   "execution_count": null,
   "id": "da7d85e1-5461-4ffd-a192-1ab7acad896f",
   "metadata": {},
   "outputs": [],
   "source": []
  }
 ],
 "metadata": {
  "kernelspec": {
   "display_name": "Python [conda env:base] *",
   "language": "python",
   "name": "conda-base-py"
  },
  "language_info": {
   "codemirror_mode": {
    "name": "ipython",
    "version": 3
   },
   "file_extension": ".py",
   "mimetype": "text/x-python",
   "name": "python",
   "nbconvert_exporter": "python",
   "pygments_lexer": "ipython3",
   "version": "3.12.7"
  }
 },
 "nbformat": 4,
 "nbformat_minor": 5
}
