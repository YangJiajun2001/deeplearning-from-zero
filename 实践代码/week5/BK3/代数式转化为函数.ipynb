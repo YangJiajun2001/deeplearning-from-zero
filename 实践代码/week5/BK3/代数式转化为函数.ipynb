{
 "cells": [
  {
   "cell_type": "markdown",
   "id": "ee752d05-2721-437d-80ba-935255c15214",
   "metadata": {},
   "source": [
    "# 定义表达式并创建对应的函数"
   ]
  },
  {
   "cell_type": "code",
   "execution_count": 10,
   "id": "ea18cb3a-f229-4c5d-80af-c139aa9058a9",
   "metadata": {},
   "outputs": [
    {
     "data": {
      "text/latex": [
       "$\\displaystyle x^{3} + 2 x^{2} - x - 2$"
      ],
      "text/plain": [
       "x**3 + 2*x**2 - x - 2"
      ]
     },
     "execution_count": 10,
     "metadata": {},
     "output_type": "execute_result"
    }
   ],
   "source": [
    "from sympy.abc import x, y, z\n",
    "\n",
    "expr = x**3 + 2*x**2 - x - 2\n",
    "expr"
   ]
  },
  {
   "cell_type": "code",
   "execution_count": 26,
   "id": "f398ba0d-323c-41f2-8f93-855640793f50",
   "metadata": {},
   "outputs": [
    {
     "name": "stdout",
     "output_type": "stream",
     "text": [
      "0\n"
     ]
    }
   ],
   "source": [
    "from sympy.utilities.lambdify import lambdify\n",
    "\n",
    "f_x = lambdify(x, expr)# 将表达式转换为可计算的Python函数f_x\n",
    "\n",
    "\n",
    "print(f_x(1))# 计算f_x在x=1时的值"
   ]
  },
  {
   "cell_type": "code",
   "execution_count": null,
   "id": "b07e818c-6b43-4d78-bf8f-463aff8e365e",
   "metadata": {},
   "outputs": [],
   "source": []
  }
 ],
 "metadata": {
  "kernelspec": {
   "display_name": "Python [conda env:base] *",
   "language": "python",
   "name": "conda-base-py"
  },
  "language_info": {
   "codemirror_mode": {
    "name": "ipython",
    "version": 3
   },
   "file_extension": ".py",
   "mimetype": "text/x-python",
   "name": "python",
   "nbconvert_exporter": "python",
   "pygments_lexer": "ipython3",
   "version": "3.12.7"
  }
 },
 "nbformat": 4,
 "nbformat_minor": 5
}
