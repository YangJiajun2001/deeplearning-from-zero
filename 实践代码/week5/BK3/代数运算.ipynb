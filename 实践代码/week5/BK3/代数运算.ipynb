{
 "cells": [
  {
   "cell_type": "markdown",
   "id": "6ff1c1d5-8cd1-450c-9d9f-d3c0c489b1dd",
   "metadata": {},
   "source": [
    "# 定义表达式并进行代入计算"
   ]
  },
  {
   "cell_type": "code",
   "execution_count": 11,
   "id": "b0b65fa0-d0de-4864-a5a4-7a836f8871c5",
   "metadata": {},
   "outputs": [
    {
     "data": {
      "text/latex": [
       "$\\displaystyle x^{3} + 2 x^{2} - x - 2$"
      ],
      "text/plain": [
       "x**3 + 2*x**2 - x - 2"
      ]
     },
     "execution_count": 11,
     "metadata": {},
     "output_type": "execute_result"
    }
   ],
   "source": [
    "from sympy.abc import x, y\n",
    "\n",
    "expr_x = x ** 3 + 2 * x ** 2 - x - 2 # 定义表达式expr_x\n",
    "expr_x"
   ]
  },
  {
   "cell_type": "code",
   "execution_count": 16,
   "id": "33fe17df-cdf2-4036-be1a-7722e5f20b8e",
   "metadata": {},
   "outputs": [
    {
     "name": "stdout",
     "output_type": "stream",
     "text": [
      "0\n"
     ]
    }
   ],
   "source": [
    "print(expr_x.subs(x, 1))# 将x替换为1后计算表达式值"
   ]
  },
  {
   "cell_type": "markdown",
   "id": "660cfd30-5b6a-4df1-807b-2ed6c5f62a2f",
   "metadata": {},
   "source": [
    "# 将表达式中的变量替换为cos(y)"
   ]
  },
  {
   "cell_type": "code",
   "execution_count": 22,
   "id": "a15d1520-bec7-4507-901f-20b16a5bf173",
   "metadata": {},
   "outputs": [],
   "source": [
    "from sympy import cos"
   ]
  },
  {
   "cell_type": "code",
   "execution_count": 29,
   "id": "21aa7a9d-e128-4ea3-b1a3-b758e1b2a71a",
   "metadata": {},
   "outputs": [
    {
     "data": {
      "text/latex": [
       "$\\displaystyle \\cos^{3}{\\left(y \\right)} + 2 \\cos^{2}{\\left(y \\right)} - \\cos{\\left(y \\right)} - 2$"
      ],
      "text/plain": [
       "cos(y)**3 + 2*cos(y)**2 - cos(y) - 2"
      ]
     },
     "execution_count": 29,
     "metadata": {},
     "output_type": "execute_result"
    }
   ],
   "source": [
    "expr_cos_y = expr_x.subs(x, cos(y))\n",
    "expr_cos_y"
   ]
  },
  {
   "cell_type": "markdown",
   "id": "7d582b02-de7e-4a58-b1fa-11b78019f67b",
   "metadata": {},
   "source": [
    "# 定义新符号和表达式"
   ]
  },
  {
   "cell_type": "code",
   "execution_count": 36,
   "id": "52e27fca-4711-427d-b5f6-9f38d82b3a1f",
   "metadata": {},
   "outputs": [],
   "source": [
    "from sympy import symbols"
   ]
  },
  {
   "cell_type": "code",
   "execution_count": 44,
   "id": "9b043e53-2b0c-461f-986c-36f4e97e70f8",
   "metadata": {},
   "outputs": [
    {
     "data": {
      "text/latex": [
       "$\\displaystyle x + y$"
      ],
      "text/plain": [
       "x + y"
      ]
     },
     "execution_count": 44,
     "metadata": {},
     "output_type": "execute_result"
    }
   ],
   "source": [
    "x, y = symbols('x y')# 定义符号x和y\n",
    "expr_1 = x + y# 创建表达式expr_1\n",
    "expr_1# 输出表达式expr_1"
   ]
  },
  {
   "cell_type": "code",
   "execution_count": 49,
   "id": "8ee98a17-bca3-4455-99cf-6f4ae4b2e7cc",
   "metadata": {},
   "outputs": [],
   "source": [
    "x1, x2 = symbols('x1 x2')"
   ]
  },
  {
   "cell_type": "code",
   "execution_count": 51,
   "id": "a4f76075-8cf5-4efa-a626-49fb5bb3ab20",
   "metadata": {},
   "outputs": [
    {
     "data": {
      "text/latex": [
       "$\\displaystyle x_{1} + x_{2}$"
      ],
      "text/plain": [
       "x1 + x2"
      ]
     },
     "execution_count": 51,
     "metadata": {},
     "output_type": "execute_result"
    }
   ],
   "source": [
    "expr_2 = x1 + x2\n",
    "expr_2"
   ]
  },
  {
   "cell_type": "code",
   "execution_count": null,
   "id": "27c075d8-cfa5-4a2e-b804-4e5d5f1bcdc8",
   "metadata": {},
   "outputs": [],
   "source": []
  }
 ],
 "metadata": {
  "kernelspec": {
   "display_name": "Python [conda env:base] *",
   "language": "python",
   "name": "conda-base-py"
  },
  "language_info": {
   "codemirror_mode": {
    "name": "ipython",
    "version": 3
   },
   "file_extension": ".py",
   "mimetype": "text/x-python",
   "name": "python",
   "nbconvert_exporter": "python",
   "pygments_lexer": "ipython3",
   "version": "3.12.7"
  }
 },
 "nbformat": 4,
 "nbformat_minor": 5
}
