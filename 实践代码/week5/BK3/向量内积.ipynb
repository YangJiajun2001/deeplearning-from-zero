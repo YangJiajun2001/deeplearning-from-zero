{
 "cells": [
  {
   "cell_type": "code",
   "execution_count": 3,
   "id": "22165f70-8e70-4405-9b5e-201736225e24",
   "metadata": {},
   "outputs": [],
   "source": [
    "import numpy as np"
   ]
  },
  {
   "cell_type": "markdown",
   "id": "ff8aa1bf-64c6-48a8-bc8d-c080dd0aec61",
   "metadata": {},
   "source": [
    "# 行向量点积"
   ]
  },
  {
   "cell_type": "code",
   "execution_count": 11,
   "id": "8d321bda-5baf-41ef-b590-a1f39dff7731",
   "metadata": {},
   "outputs": [],
   "source": [
    "a_row = np.array([[1, 2, 3]])\n"
   ]
  },
  {
   "cell_type": "code",
   "execution_count": 14,
   "id": "eb3fdc35-7f8e-4b1e-90b9-934e47836651",
   "metadata": {},
   "outputs": [],
   "source": [
    "b_row = np.array([[4, 3, 2]])"
   ]
  },
  {
   "cell_type": "code",
   "execution_count": 20,
   "id": "449de1bc-9e9f-4e57-88d0-c755e9a671dd",
   "metadata": {},
   "outputs": [
    {
     "name": "stdout",
     "output_type": "stream",
     "text": [
      "[[16]]\n"
     ]
    }
   ],
   "source": [
    "a_dot_b = np.inner(a_row, b_row)\n",
    "print(a_dot_b)"
   ]
  },
  {
   "cell_type": "code",
   "execution_count": 26,
   "id": "afb2e6e9-79a8-4cf5-b1d2-7bf995fbc712",
   "metadata": {},
   "outputs": [
    {
     "name": "stdout",
     "output_type": "stream",
     "text": [
      "[[16]]\n"
     ]
    }
   ],
   "source": [
    "print(np.inner(a_row[:], b_row[:]))"
   ]
  },
  {
   "cell_type": "code",
   "execution_count": 33,
   "id": "461ec2ed-572a-49b2-b9f2-f683b067f8cc",
   "metadata": {},
   "outputs": [
    {
     "name": "stdout",
     "output_type": "stream",
     "text": [
      "16\n"
     ]
    }
   ],
   "source": [
    "print(np.sum(a_row * b_row))"
   ]
  },
  {
   "cell_type": "markdown",
   "id": "b22b973e-de73-4863-8879-93434bbc8e3c",
   "metadata": {},
   "source": [
    "# 列向量点积"
   ]
  },
  {
   "cell_type": "code",
   "execution_count": 41,
   "id": "8d9dde1c-de94-4878-8874-c7b1fb22fda8",
   "metadata": {},
   "outputs": [],
   "source": [
    "a_col = np.array([[1], [2], [3]])\n",
    "b_col = np.array([[-1], [0], [1]])"
   ]
  },
  {
   "cell_type": "code",
   "execution_count": 45,
   "id": "575d34c7-af41-4a5b-91b9-21e1b3413c20",
   "metadata": {},
   "outputs": [
    {
     "data": {
      "text/plain": [
       "array([[2]])"
      ]
     },
     "execution_count": 45,
     "metadata": {},
     "output_type": "execute_result"
    }
   ],
   "source": [
    "a_col.T @ b_col"
   ]
  },
  {
   "cell_type": "code",
   "execution_count": 49,
   "id": "f13d4c4f-5f4a-4f0d-a5fa-f7982fe87631",
   "metadata": {},
   "outputs": [
    {
     "name": "stdout",
     "output_type": "stream",
     "text": [
      "2\n"
     ]
    }
   ],
   "source": [
    "print(np.sum(a_col * b_col))"
   ]
  },
  {
   "cell_type": "markdown",
   "id": "5ec1b2d2-6ce2-41d9-a65d-d05785493877",
   "metadata": {},
   "source": [
    "# 向量张量积"
   ]
  },
  {
   "cell_type": "code",
   "execution_count": 59,
   "id": "fd413ada-9390-4f94-be5c-6e3336356462",
   "metadata": {},
   "outputs": [],
   "source": [
    "a_dot_b = np.inner(a_col, b_col)"
   ]
  },
  {
   "cell_type": "code",
   "execution_count": 63,
   "id": "19e1b96e-09d9-43be-987c-abc607458d8a",
   "metadata": {},
   "outputs": [
    {
     "name": "stdout",
     "output_type": "stream",
     "text": [
      "[[-1  0  1]\n",
      " [-2  0  2]\n",
      " [-3  0  3]]\n"
     ]
    }
   ],
   "source": [
    "print(a_dot_b)"
   ]
  },
  {
   "cell_type": "code",
   "execution_count": 67,
   "id": "c3d3a51b-f04a-4940-9002-708d32f8dbf7",
   "metadata": {},
   "outputs": [
    {
     "data": {
      "text/plain": [
       "array([[-1,  0,  1],\n",
       "       [-2,  0,  2],\n",
       "       [-3,  0,  3]])"
      ]
     },
     "execution_count": 67,
     "metadata": {},
     "output_type": "execute_result"
    }
   ],
   "source": [
    "a_col @ b_col.T"
   ]
  },
  {
   "cell_type": "code",
   "execution_count": null,
   "id": "4c906219-3943-4a7f-9ec5-bb517b95e17b",
   "metadata": {},
   "outputs": [],
   "source": []
  }
 ],
 "metadata": {
  "kernelspec": {
   "display_name": "Python [conda env:base] *",
   "language": "python",
   "name": "conda-base-py"
  },
  "language_info": {
   "codemirror_mode": {
    "name": "ipython",
    "version": 3
   },
   "file_extension": ".py",
   "mimetype": "text/x-python",
   "name": "python",
   "nbconvert_exporter": "python",
   "pygments_lexer": "ipython3",
   "version": "3.12.7"
  }
 },
 "nbformat": 4,
 "nbformat_minor": 5
}
