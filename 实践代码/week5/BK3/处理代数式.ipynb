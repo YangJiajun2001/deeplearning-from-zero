{
 "cells": [
  {
   "cell_type": "markdown",
   "id": "4e762ba5-3641-4950-903e-566ba868cede",
   "metadata": {},
   "source": [
    "# 导入所需的库"
   ]
  },
  {
   "cell_type": "code",
   "execution_count": 8,
   "id": "79faf6fb-4e08-41e4-a574-0c8408d2ed38",
   "metadata": {},
   "outputs": [],
   "source": [
    "from sympy import *\n",
    "x, y, z = symbols('x y z')"
   ]
  },
  {
   "cell_type": "markdown",
   "id": "263de177-0bce-4413-8b44-db9b9bc84f50",
   "metadata": {},
   "source": [
    "# 简化数学表达式"
   ]
  },
  {
   "cell_type": "code",
   "execution_count": 17,
   "id": "b188bbfa-2cec-45d4-83c8-831526ca415d",
   "metadata": {},
   "outputs": [
    {
     "data": {
      "text/latex": [
       "$\\displaystyle \\sin^{2}{\\left(x \\right)} - \\cos^{2}{\\left(x \\right)}$"
      ],
      "text/plain": [
       "sin(x)**2 - cos(x)**2"
      ]
     },
     "execution_count": 17,
     "metadata": {},
     "output_type": "execute_result"
    }
   ],
   "source": [
    "# 定义表达式 expr_1 为 sin(x)**2 - cos(x)**2\n",
    "expr_1 = sin(x) ** 2 - cos(x) ** 2# 定义表达式，表示正弦平方减去余弦平方\n",
    "expr_1# 输出表达式，查看原始形式"
   ]
  },
  {
   "cell_type": "markdown",
   "id": "9c0b171a-60a2-4723-af5b-3cef66699822",
   "metadata": {},
   "source": [
    "# 展开多项式表达式"
   ]
  },
  {
   "cell_type": "code",
   "execution_count": 24,
   "id": "0a6be4e1-b73f-4eb6-a14b-407fdd681640",
   "metadata": {},
   "outputs": [
    {
     "data": {
      "text/latex": [
       "$\\displaystyle \\left(x + 1\\right)^{3}$"
      ],
      "text/plain": [
       "(x + 1)**3"
      ]
     },
     "execution_count": 24,
     "metadata": {},
     "output_type": "execute_result"
    }
   ],
   "source": [
    "# 定义表达式 expr_2 为 (x + 1)**3\n",
    "expr_2 = (x + 1) ** 3# 定义表达式，表示 (x+1) 的三次方\n",
    "expr_2# 输出表达式，查看原始形式"
   ]
  },
  {
   "cell_type": "markdown",
   "id": "be4ebeb2-ecf8-4bd6-b51e-e4f43f8d7feb",
   "metadata": {},
   "source": [
    "# 将多项式分解为不可约因子"
   ]
  },
  {
   "cell_type": "code",
   "execution_count": 31,
   "id": "0aa75a09-71f4-435d-bf37-0948469d1008",
   "metadata": {},
   "outputs": [
    {
     "data": {
      "text/latex": [
       "$\\displaystyle x^{3} + 2 x^{2} - x - 2$"
      ],
      "text/plain": [
       "x**3 + 2*x**2 - x - 2"
      ]
     },
     "execution_count": 31,
     "metadata": {},
     "output_type": "execute_result"
    }
   ],
   "source": [
    "# 定义表达式 expr_3 为 x**3 + 2*x**2 - x - 2\n",
    "expr_3 = x**3 + 2 * x ** 2 - x - 2# 定义多项式表达式\n",
    "expr_3# 输出表达式，查看原始形式"
   ]
  },
  {
   "cell_type": "markdown",
   "id": "acd3e4e4-3c2b-4f61-ac05-aa32cadbbb4c",
   "metadata": {},
   "source": [
    "# 收集表达式中公共的幂次项"
   ]
  },
  {
   "cell_type": "code",
   "execution_count": 45,
   "id": "ef255aac-2495-4bfd-bbba-654ee9530700",
   "metadata": {},
   "outputs": [
    {
     "data": {
      "text/latex": [
       "$\\displaystyle x^{3} + x^{2} - 3 x - 2$"
      ],
      "text/plain": [
       "x**3 + x**2 - 3*x - 2"
      ]
     },
     "execution_count": 45,
     "metadata": {},
     "output_type": "execute_result"
    }
   ],
   "source": [
    "# 对 expr_3 - x**2 - 2*x 表达式中的 x 项进行收集\n",
    "expr_collected = collect(expr_3 - x **2 - 2 * x, x)# 使用 collect 函数收集表达式中的 x 项\n",
    "expr_collected# 输出收集后的表达式"
   ]
  },
  {
   "cell_type": "code",
   "execution_count": null,
   "id": "d06543df-22bb-4792-9106-f41097c0a95f",
   "metadata": {},
   "outputs": [],
   "source": []
  }
 ],
 "metadata": {
  "kernelspec": {
   "display_name": "Python [conda env:base] *",
   "language": "python",
   "name": "conda-base-py"
  },
  "language_info": {
   "codemirror_mode": {
    "name": "ipython",
    "version": 3
   },
   "file_extension": ".py",
   "mimetype": "text/x-python",
   "name": "python",
   "nbconvert_exporter": "python",
   "pygments_lexer": "ipython3",
   "version": "3.12.7"
  }
 },
 "nbformat": 4,
 "nbformat_minor": 5
}
