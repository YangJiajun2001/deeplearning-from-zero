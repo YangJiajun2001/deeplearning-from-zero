{
 "cells": [
  {
   "cell_type": "code",
   "execution_count": 9,
   "id": "eed8e3c4-d540-4731-8e15-824d838bd02a",
   "metadata": {},
   "outputs": [
    {
     "name": "stdout",
     "output_type": "stream",
     "text": [
      "('A', 'B')\n",
      "('A', 'C')\n",
      "('B', 'A')\n",
      "('B', 'C')\n",
      "('C', 'A')\n",
      "('C', 'B')\n"
     ]
    }
   ],
   "source": [
    "## 从3个字母中排列出所有包含2个字母的排列\n",
    "import itertools\n",
    "letters = 'ABC'\n",
    "\n",
    "per = itertools.permutations(letters, 2)\n",
    "\n",
    "for val in per:\n",
    "    print(val)"
   ]
  },
  {
   "cell_type": "code",
   "execution_count": null,
   "id": "6b86d28e-d662-4708-8f20-1a809444a94d",
   "metadata": {},
   "outputs": [],
   "source": []
  }
 ],
 "metadata": {
  "kernelspec": {
   "display_name": "Python [conda env:base] *",
   "language": "python",
   "name": "conda-base-py"
  },
  "language_info": {
   "codemirror_mode": {
    "name": "ipython",
    "version": 3
   },
   "file_extension": ".py",
   "mimetype": "text/x-python",
   "name": "python",
   "nbconvert_exporter": "python",
   "pygments_lexer": "ipython3",
   "version": "3.12.7"
  }
 },
 "nbformat": 4,
 "nbformat_minor": 5
}
