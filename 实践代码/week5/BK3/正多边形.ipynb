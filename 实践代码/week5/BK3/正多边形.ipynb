{
 "cells": [
  {
   "cell_type": "markdown",
   "id": "8351600f-7756-4c79-b151-bbb489fc5ecf",
   "metadata": {},
   "source": [
    "# 绘制不同边数的正多边形"
   ]
  },
  {
   "cell_type": "code",
   "execution_count": 14,
   "id": "ca15fd1a-f843-4a07-bb01-b49372c27807",
   "metadata": {},
   "outputs": [],
   "source": [
    "import matplotlib.pyplot as plt\n",
    "from matplotlib.patches import RegularPolygon\n",
    "import numpy as np"
   ]
  },
  {
   "cell_type": "code",
   "execution_count": null,
   "id": "b30895b9-dd22-421c-97a8-6813f1c18100",
   "metadata": {},
   "outputs": [],
   "source": [
    "for num_vertices in [3, 4, 5, 6, 7, 8]:\n",
    "\n",
    "    fig, ax = plt.subplot()\n",
    "    ax.set_aspect('equal')\n",
    "\n",
    "    hexagon_inner = Rugularpolygon((0, 0), numVertices = num_vertices,\n",
    "                                  radius = 1, alpha = 0.2, edgecolor = 'k')\n",
    "    ax.add_patch(hexagon_inner)\n",
    "\n",
    "    plt.axis('off')\n",
    "\n",
    "    plt.xlim(-1.5, 1.5)\n",
    "    plt.ylim(-1.5, 1.5)\n",
    "    "
   ]
  }
 ],
 "metadata": {
  "kernelspec": {
   "display_name": "Python [conda env:base] *",
   "language": "python",
   "name": "conda-base-py"
  },
  "language_info": {
   "codemirror_mode": {
    "name": "ipython",
    "version": 3
   },
   "file_extension": ".py",
   "mimetype": "text/x-python",
   "name": "python",
   "nbconvert_exporter": "python",
   "pygments_lexer": "ipython3",
   "version": "3.12.7"
  }
 },
 "nbformat": 4,
 "nbformat_minor": 5
}
