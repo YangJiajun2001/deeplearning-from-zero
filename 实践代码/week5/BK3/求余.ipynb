{
 "cells": [
  {
   "cell_type": "markdown",
   "id": "6497781c-10cc-4327-976a-0c59239ca4b0",
   "metadata": {},
   "source": [
    "# 计算两个数字的余数并显示结果"
   ]
  },
  {
   "cell_type": "code",
   "execution_count": 7,
   "id": "89f49692-5d5c-4537-a129-70049c71aa66",
   "metadata": {},
   "outputs": [],
   "source": [
    "num1 = 7\n",
    "num2 = 2"
   ]
  },
  {
   "cell_type": "markdown",
   "id": "8923f7bf-7add-48f2-8c20-77b23eb71066",
   "metadata": {},
   "source": [
    "# 计算两个数字的余数"
   ]
  },
  {
   "cell_type": "code",
   "execution_count": 14,
   "id": "dc9f9264-50bb-43f8-baf7-ee8b0a5c0e97",
   "metadata": {},
   "outputs": [],
   "source": [
    "remainder = num1 % num2"
   ]
  },
  {
   "cell_type": "markdown",
   "id": "085353e1-c003-4ce0-94b8-fef610ba56c0",
   "metadata": {},
   "source": [
    "# 显示计算结果"
   ]
  },
  {
   "cell_type": "code",
   "execution_count": 23,
   "id": "b9e7e4d1-0780-4788-af18-61fb1e6dcd81",
   "metadata": {},
   "outputs": [
    {
     "name": "stdout",
     "output_type": "stream",
     "text": [
      "The remainder of 7 over 2 is 1.\n"
     ]
    }
   ],
   "source": [
    "print(\"The remainder of {0} over {1} is {2}.\".format(num1, num2, remainder))"
   ]
  },
  {
   "cell_type": "code",
   "execution_count": null,
   "id": "51993fa0-ba0c-48d3-b746-3abd6461694d",
   "metadata": {},
   "outputs": [],
   "source": []
  }
 ],
 "metadata": {
  "kernelspec": {
   "display_name": "Python [conda env:base] *",
   "language": "python",
   "name": "conda-base-py"
  },
  "language_info": {
   "codemirror_mode": {
    "name": "ipython",
    "version": 3
   },
   "file_extension": ".py",
   "mimetype": "text/x-python",
   "name": "python",
   "nbconvert_exporter": "python",
   "pygments_lexer": "ipython3",
   "version": "3.12.7"
  }
 },
 "nbformat": 4,
 "nbformat_minor": 5
}
