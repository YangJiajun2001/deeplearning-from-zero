{
 "cells": [
  {
   "cell_type": "markdown",
   "id": "04588cf3-6242-4e36-baf0-95b90a558f3b",
   "metadata": {},
   "source": [
    "# 使用 sympy 求解方程"
   ]
  },
  {
   "cell_type": "code",
   "execution_count": 15,
   "id": "02e0cdc3-023f-43fb-976d-52cde7c8f9e4",
   "metadata": {},
   "outputs": [
    {
     "data": {
      "text/plain": [
       "[-1, 0, 1]"
      ]
     },
     "execution_count": 15,
     "metadata": {},
     "output_type": "execute_result"
    }
   ],
   "source": [
    "from sympy.solvers import solve\n",
    "from sympy import Symbol\n",
    "\n",
    "x = Symbol('x')\n",
    "\n",
    "roots = solve(-x**3 + x, x)\n",
    "roots"
   ]
  },
  {
   "cell_type": "markdown",
   "id": "e6783ae4-fc59-4683-ab9d-f10bb8a470d1",
   "metadata": {},
   "source": [
    "# 使用 numpy 求解方程"
   ]
  },
  {
   "cell_type": "code",
   "execution_count": 31,
   "id": "b6410dd2-3f19-43b9-8fa1-cd011535e32f",
   "metadata": {},
   "outputs": [
    {
     "data": {
      "text/plain": [
       "array([ 1., -1.,  0.])"
      ]
     },
     "execution_count": 31,
     "metadata": {},
     "output_type": "execute_result"
    }
   ],
   "source": [
    "import numpy as np\n",
    "\n",
    "coeff = [-1, 0, 1, 0]# 定义方程的系数\n",
    "\n",
    "roots_V2 = np.roots(coeff)# 使用 numpy 求解多项式的根\n",
    "roots_V2 # 输出方程的根"
   ]
  },
  {
   "cell_type": "code",
   "execution_count": null,
   "id": "609e4d4c-853d-49ba-b923-1378b48db894",
   "metadata": {},
   "outputs": [],
   "source": []
  }
 ],
 "metadata": {
  "kernelspec": {
   "display_name": "Python [conda env:base] *",
   "language": "python",
   "name": "conda-base-py"
  },
  "language_info": {
   "codemirror_mode": {
    "name": "ipython",
    "version": 3
   },
   "file_extension": ".py",
   "mimetype": "text/x-python",
   "name": "python",
   "nbconvert_exporter": "python",
   "pygments_lexer": "ipython3",
   "version": "3.12.7"
  }
 },
 "nbformat": 4,
 "nbformat_minor": 5
}
