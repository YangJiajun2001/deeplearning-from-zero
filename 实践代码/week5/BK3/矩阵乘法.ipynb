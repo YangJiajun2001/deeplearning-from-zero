{
 "cells": [
  {
   "cell_type": "markdown",
   "id": "87f0517e-f2d0-4b72-89ab-2516071cb5e4",
   "metadata": {},
   "source": [
    "# 定义矩阵并计算矩阵乘积"
   ]
  },
  {
   "cell_type": "code",
   "execution_count": 10,
   "id": "5db6edfd-b65a-4ed9-8fc5-09ae0b542b91",
   "metadata": {},
   "outputs": [
    {
     "data": {
      "text/plain": [
       "array([[1, 2],\n",
       "       [3, 4]])"
      ]
     },
     "execution_count": 10,
     "metadata": {},
     "output_type": "execute_result"
    }
   ],
   "source": [
    "import numpy as np\n",
    "\n",
    "A = np.array([[1, 2],\n",
    "             [3, 4]])\n",
    "A"
   ]
  },
  {
   "cell_type": "code",
   "execution_count": 14,
   "id": "50608abb-fee2-4627-8328-1f8065f06421",
   "metadata": {},
   "outputs": [
    {
     "data": {
      "text/plain": [
       "array([[4, 2],\n",
       "       [3, 1]])"
      ]
     },
     "execution_count": 14,
     "metadata": {},
     "output_type": "execute_result"
    }
   ],
   "source": [
    "B = np.array([[4, 2],\n",
    "            [3, 1]])\n",
    "B"
   ]
  },
  {
   "cell_type": "code",
   "execution_count": 19,
   "id": "3bec433d-318b-4f89-af2b-089ff743433d",
   "metadata": {},
   "outputs": [
    {
     "data": {
      "text/plain": [
       "array([[10,  4],\n",
       "       [24, 10]])"
      ]
     },
     "execution_count": 19,
     "metadata": {},
     "output_type": "execute_result"
    }
   ],
   "source": [
    "c = A @ B\n",
    "c"
   ]
  },
  {
   "cell_type": "markdown",
   "id": "943d5108-207e-409f-b1db-4557ac510ba8",
   "metadata": {},
   "source": [
    "# 逐元素计算矩阵乘法的结果"
   ]
  },
  {
   "cell_type": "code",
   "execution_count": null,
   "id": "9b5457bf-209d-4492-81ea-50ee22a72160",
   "metadata": {},
   "outputs": [],
   "source": [
    "A[[0]] @ B[:, [0]]"
   ]
  }
 ],
 "metadata": {
  "kernelspec": {
   "display_name": "Python [conda env:base] *",
   "language": "python",
   "name": "conda-base-py"
  },
  "language_info": {
   "codemirror_mode": {
    "name": "ipython",
    "version": 3
   },
   "file_extension": ".py",
   "mimetype": "text/x-python",
   "name": "python",
   "nbconvert_exporter": "python",
   "pygments_lexer": "ipython3",
   "version": "3.12.7"
  }
 },
 "nbformat": 4,
 "nbformat_minor": 5
}
