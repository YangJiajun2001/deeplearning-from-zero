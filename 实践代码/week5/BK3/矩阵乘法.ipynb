{
 "cells": [
  {
   "cell_type": "markdown",
   "id": "87f0517e-f2d0-4b72-89ab-2516071cb5e4",
   "metadata": {},
   "source": [
    "# 定义矩阵并计算矩阵乘积"
   ]
  },
  {
   "cell_type": "code",
   "execution_count": 10,
   "id": "5db6edfd-b65a-4ed9-8fc5-09ae0b542b91",
   "metadata": {},
   "outputs": [
    {
     "data": {
      "text/plain": [
       "array([[1, 2],\n",
       "       [3, 4]])"
      ]
     },
     "execution_count": 10,
     "metadata": {},
     "output_type": "execute_result"
    }
   ],
   "source": [
    "import numpy as np\n",
    "\n",
    "A = np.array([[1, 2],\n",
    "             [3, 4]])\n",
    "A"
   ]
  },
  {
   "cell_type": "code",
   "execution_count": 14,
   "id": "50608abb-fee2-4627-8328-1f8065f06421",
   "metadata": {},
   "outputs": [
    {
     "data": {
      "text/plain": [
       "array([[4, 2],\n",
       "       [3, 1]])"
      ]
     },
     "execution_count": 14,
     "metadata": {},
     "output_type": "execute_result"
    }
   ],
   "source": [
    "B = np.array([[4, 2],\n",
    "            [3, 1]])\n",
    "B"
   ]
  },
  {
   "cell_type": "code",
   "execution_count": 19,
   "id": "3bec433d-318b-4f89-af2b-089ff743433d",
   "metadata": {},
   "outputs": [
    {
     "data": {
      "text/plain": [
       "array([[10,  4],\n",
       "       [24, 10]])"
      ]
     },
     "execution_count": 19,
     "metadata": {},
     "output_type": "execute_result"
    }
   ],
   "source": [
    "c = A @ B\n",
    "c"
   ]
  },
  {
   "cell_type": "markdown",
   "id": "943d5108-207e-409f-b1db-4557ac510ba8",
   "metadata": {},
   "source": [
    "# 逐元素计算矩阵乘法的结果"
   ]
  },
  {
   "cell_type": "code",
   "execution_count": 29,
   "id": "9b5457bf-209d-4492-81ea-50ee22a72160",
   "metadata": {},
   "outputs": [
    {
     "data": {
      "text/plain": [
       "array([[10]])"
      ]
     },
     "execution_count": 29,
     "metadata": {},
     "output_type": "execute_result"
    }
   ],
   "source": [
    "A[[0]] @ B[:, [0]]"
   ]
  },
  {
   "cell_type": "code",
   "execution_count": 32,
   "id": "f86b2ffc-2501-4004-93e5-fa90c21ef51b",
   "metadata": {},
   "outputs": [
    {
     "data": {
      "text/plain": [
       "array([[4]])"
      ]
     },
     "execution_count": 32,
     "metadata": {},
     "output_type": "execute_result"
    }
   ],
   "source": [
    "A[[0]] @ B[:, [1]]"
   ]
  },
  {
   "cell_type": "code",
   "execution_count": 36,
   "id": "788cc0f7-bc29-4c70-b25b-9cd90b31673d",
   "metadata": {},
   "outputs": [
    {
     "data": {
      "text/plain": [
       "array([[24]])"
      ]
     },
     "execution_count": 36,
     "metadata": {},
     "output_type": "execute_result"
    }
   ],
   "source": [
    "A[[1]] @ B[:, [0]]"
   ]
  },
  {
   "cell_type": "code",
   "execution_count": 40,
   "id": "75b0c84a-c138-41c0-ac5e-350cfe9f3558",
   "metadata": {},
   "outputs": [
    {
     "data": {
      "text/plain": [
       "array([[10]])"
      ]
     },
     "execution_count": 40,
     "metadata": {},
     "output_type": "execute_result"
    }
   ],
   "source": [
    "A[[1]] @ B[:, [1]]"
   ]
  },
  {
   "cell_type": "code",
   "execution_count": null,
   "id": "e978461f-a0ce-4342-83a7-ab802d3d61a0",
   "metadata": {},
   "outputs": [],
   "source": []
  }
 ],
 "metadata": {
  "kernelspec": {
   "display_name": "Python [conda env:base] *",
   "language": "python",
   "name": "conda-base-py"
  },
  "language_info": {
   "codemirror_mode": {
    "name": "ipython",
    "version": 3
   },
   "file_extension": ".py",
   "mimetype": "text/x-python",
   "name": "python",
   "nbconvert_exporter": "python",
   "pygments_lexer": "ipython3",
   "version": "3.12.7"
  }
 },
 "nbformat": 4,
 "nbformat_minor": 5
}
