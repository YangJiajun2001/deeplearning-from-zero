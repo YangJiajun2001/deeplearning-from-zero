{
 "cells": [
  {
   "cell_type": "markdown",
   "id": "437d4624-b195-4d26-8a3a-a6aaf7c38378",
   "metadata": {},
   "source": [
    "# 定义并操作列向量"
   ]
  },
  {
   "cell_type": "code",
   "execution_count": 5,
   "id": "2d4376c8-6fc7-4148-87b7-a0a09237fac1",
   "metadata": {},
   "outputs": [],
   "source": [
    "import numpy as np"
   ]
  },
  {
   "cell_type": "code",
   "execution_count": 10,
   "id": "3d2f55aa-d5ec-421e-aff6-4786bb8fc21f",
   "metadata": {},
   "outputs": [
    {
     "data": {
      "text/plain": [
       "array([[1],\n",
       "       [2],\n",
       "       [3]])"
      ]
     },
     "execution_count": 10,
     "metadata": {},
     "output_type": "execute_result"
    }
   ],
   "source": [
    "a_col = np.array([[1], [2], [3]])\n",
    "a_col"
   ]
  },
  {
   "cell_type": "code",
   "execution_count": 16,
   "id": "9f22fd71-90aa-4f87-831c-ed25deeb9edb",
   "metadata": {},
   "outputs": [
    {
     "data": {
      "text/plain": [
       "array([[2],\n",
       "       [4],\n",
       "       [6]])"
      ]
     },
     "execution_count": 16,
     "metadata": {},
     "output_type": "execute_result"
    }
   ],
   "source": [
    "b_col = 2 * a_col\n",
    "b_col"
   ]
  },
  {
   "cell_type": "markdown",
   "id": "065f4e94-6634-4f83-967c-5d1a6e70c88d",
   "metadata": {},
   "source": [
    "# 定义并操作行向量"
   ]
  },
  {
   "cell_type": "code",
   "execution_count": 24,
   "id": "932fce6b-540a-45ff-8ee2-ecc97e29ecc2",
   "metadata": {},
   "outputs": [
    {
     "data": {
      "text/plain": [
       "array([[1, 2, 3]])"
      ]
     },
     "execution_count": 24,
     "metadata": {},
     "output_type": "execute_result"
    }
   ],
   "source": [
    "a_row = np.array([[1, 2, 3]])\n",
    "a_row"
   ]
  },
  {
   "cell_type": "code",
   "execution_count": 27,
   "id": "1c21d558-e02b-4d3d-b96b-6a6e5885d8d6",
   "metadata": {},
   "outputs": [
    {
     "data": {
      "text/plain": [
       "array([[2, 4, 6]])"
      ]
     },
     "execution_count": 27,
     "metadata": {},
     "output_type": "execute_result"
    }
   ],
   "source": [
    "b_row = 2 * a_row\n",
    "b_row"
   ]
  },
  {
   "cell_type": "markdown",
   "id": "cf9687f4-dac5-458a-9286-303bfffd9c59",
   "metadata": {},
   "source": [
    "# 定义并操作矩阵"
   ]
  },
  {
   "cell_type": "code",
   "execution_count": 35,
   "id": "e45c8cdb-13f6-49b6-9d7f-754eb215a590",
   "metadata": {},
   "outputs": [
    {
     "data": {
      "text/plain": [
       "array([[1, 2, 3],\n",
       "       [4, 5, 6]])"
      ]
     },
     "execution_count": 35,
     "metadata": {},
     "output_type": "execute_result"
    }
   ],
   "source": [
    "A = np.array([[1, 2, 3],\n",
    "             [4, 5, 6]])\n",
    "A"
   ]
  },
  {
   "cell_type": "code",
   "execution_count": 38,
   "id": "6f2f5230-56ab-47d7-9210-db26e5fc57ee",
   "metadata": {},
   "outputs": [
    {
     "data": {
      "text/plain": [
       "array([[ 2,  4,  6],\n",
       "       [ 8, 10, 12]])"
      ]
     },
     "execution_count": 38,
     "metadata": {},
     "output_type": "execute_result"
    }
   ],
   "source": [
    "B = 2 * A\n",
    "B"
   ]
  },
  {
   "cell_type": "code",
   "execution_count": null,
   "id": "5ee82eff-1a3c-406c-b317-1ed60c280339",
   "metadata": {},
   "outputs": [],
   "source": []
  }
 ],
 "metadata": {
  "kernelspec": {
   "display_name": "Python [conda env:base] *",
   "language": "python",
   "name": "conda-base-py"
  },
  "language_info": {
   "codemirror_mode": {
    "name": "ipython",
    "version": 3
   },
   "file_extension": ".py",
   "mimetype": "text/x-python",
   "name": "python",
   "nbconvert_exporter": "python",
   "pygments_lexer": "ipython3",
   "version": "3.12.7"
  }
 },
 "nbformat": 4,
 "nbformat_minor": 5
}
