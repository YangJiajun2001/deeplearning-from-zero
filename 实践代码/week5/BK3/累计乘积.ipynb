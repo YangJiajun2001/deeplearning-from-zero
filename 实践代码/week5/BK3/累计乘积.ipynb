{
 "cells": [
  {
   "cell_type": "markdown",
   "id": "e59d0d0a-b787-4605-8eb7-829e2f2bed24",
   "metadata": {},
   "source": [
    "# 生成等间距数组并计算其累计乘积"
   ]
  },
  {
   "cell_type": "code",
   "execution_count": 4,
   "id": "0a826651-85db-434c-8e67-3d6a3c76e027",
   "metadata": {},
   "outputs": [],
   "source": [
    "import numpy as np"
   ]
  },
  {
   "cell_type": "code",
   "execution_count": 11,
   "id": "7cba8972-a376-4f27-b45e-50904dc1ab01",
   "metadata": {},
   "outputs": [
    {
     "name": "stdout",
     "output_type": "stream",
     "text": [
      "[ 1.  2.  3.  4.  5.  6.  7.  8.  9. 10.]\n"
     ]
    }
   ],
   "source": [
    "a_i = np.linspace(1, 10, 10)\n",
    "print(a_i)"
   ]
  },
  {
   "cell_type": "code",
   "execution_count": 25,
   "id": "cebaef47-e10a-4a9c-b9e1-f5c2360ce766",
   "metadata": {},
   "outputs": [
    {
     "name": "stdout",
     "output_type": "stream",
     "text": [
      "[      1.       2.       6.      24.     120.     720.    5040.   40320.\n",
      "  362880. 3628800.]\n"
     ]
    }
   ],
   "source": [
    "a_i_cumprod = np.cumprod(a_i)\n",
    "np.set_printoptions(suppress = True)\n",
    "print(a_i_cumprod)"
   ]
  },
  {
   "cell_type": "code",
   "execution_count": null,
   "id": "3660f21c-06f2-48db-af91-b7f33cf77842",
   "metadata": {},
   "outputs": [],
   "source": []
  }
 ],
 "metadata": {
  "kernelspec": {
   "display_name": "Python [conda env:base] *",
   "language": "python",
   "name": "conda-base-py"
  },
  "language_info": {
   "codemirror_mode": {
    "name": "ipython",
    "version": 3
   },
   "file_extension": ".py",
   "mimetype": "text/x-python",
   "name": "python",
   "nbconvert_exporter": "python",
   "pygments_lexer": "ipython3",
   "version": "3.12.7"
  }
 },
 "nbformat": 4,
 "nbformat_minor": 5
}
