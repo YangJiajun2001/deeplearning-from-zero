{
 "cells": [
  {
   "cell_type": "markdown",
   "id": "f582de48-d5f9-4148-a84b-58bc85e1a13a",
   "metadata": {},
   "source": [
    "# 行向量的逐元素乘积"
   ]
  },
  {
   "cell_type": "code",
   "execution_count": 4,
   "id": "c852732d-a7f5-4a0c-bcc3-4d68619bddc5",
   "metadata": {},
   "outputs": [],
   "source": [
    "import numpy as np"
   ]
  },
  {
   "cell_type": "code",
   "execution_count": 12,
   "id": "ee39bbae-5452-4690-909a-74639ac32889",
   "metadata": {},
   "outputs": [
    {
     "data": {
      "text/plain": [
       "array([[1, 2, 3]])"
      ]
     },
     "execution_count": 12,
     "metadata": {},
     "output_type": "execute_result"
    }
   ],
   "source": [
    "a = np.array([[1, 2, 3]])\n",
    "a"
   ]
  },
  {
   "cell_type": "code",
   "execution_count": 16,
   "id": "1fc9d101-5b41-4106-9670-0935b6e8f83f",
   "metadata": {},
   "outputs": [
    {
     "data": {
      "text/plain": [
       "array([[4, 5, 6]])"
      ]
     },
     "execution_count": 16,
     "metadata": {},
     "output_type": "execute_result"
    }
   ],
   "source": [
    "b = np.array([[4, 5, 6]])\n",
    "b"
   ]
  },
  {
   "cell_type": "code",
   "execution_count": 20,
   "id": "38540549-56d3-43c5-822e-9dc71e78eaf6",
   "metadata": {},
   "outputs": [
    {
     "data": {
      "text/plain": [
       "array([[ 4, 10, 18]])"
      ]
     },
     "execution_count": 20,
     "metadata": {},
     "output_type": "execute_result"
    }
   ],
   "source": [
    "a_times_b = a * b\n",
    "a_times_b"
   ]
  },
  {
   "cell_type": "markdown",
   "id": "1e7321cb-cb35-4fe4-9775-069243b7c3df",
   "metadata": {},
   "source": [
    "# 矩阵的逐元素乘积"
   ]
  },
  {
   "cell_type": "code",
   "execution_count": 27,
   "id": "683f5ba1-dfee-48da-a9e9-3efd0322a49a",
   "metadata": {},
   "outputs": [
    {
     "data": {
      "text/plain": [
       "array([[1, 2, 3],\n",
       "       [4, 5, 6]])"
      ]
     },
     "execution_count": 27,
     "metadata": {},
     "output_type": "execute_result"
    }
   ],
   "source": [
    "A = np.array([[1, 2, 3],\n",
    "             [4, 5, 6]])\n",
    "A"
   ]
  },
  {
   "cell_type": "code",
   "execution_count": 32,
   "id": "519c73cc-40c9-4e67-bb52-88a35e17f1e9",
   "metadata": {},
   "outputs": [
    {
     "data": {
      "text/plain": [
       "array([[ 1,  2,  3],\n",
       "       [-1,  0,  1]])"
      ]
     },
     "execution_count": 32,
     "metadata": {},
     "output_type": "execute_result"
    }
   ],
   "source": [
    "B = np.array([[1, 2, 3],\n",
    "             [-1, 0, 1]])\n",
    "B"
   ]
  },
  {
   "cell_type": "code",
   "execution_count": 36,
   "id": "ccb99bdc-9474-496c-9bd7-3707926f14eb",
   "metadata": {},
   "outputs": [
    {
     "data": {
      "text/plain": [
       "array([[ 1,  4,  9],\n",
       "       [-4,  0,  6]])"
      ]
     },
     "execution_count": 36,
     "metadata": {},
     "output_type": "execute_result"
    }
   ],
   "source": [
    "A_times_B = A * B\n",
    "A_times_B"
   ]
  },
  {
   "cell_type": "code",
   "execution_count": null,
   "id": "69f95654-05ff-49a6-91f2-1e3b6a4a74a1",
   "metadata": {},
   "outputs": [],
   "source": []
  }
 ],
 "metadata": {
  "kernelspec": {
   "display_name": "Python [conda env:base] *",
   "language": "python",
   "name": "conda-base-py"
  },
  "language_info": {
   "codemirror_mode": {
    "name": "ipython",
    "version": 3
   },
   "file_extension": ".py",
   "mimetype": "text/x-python",
   "name": "python",
   "nbconvert_exporter": "python",
   "pygments_lexer": "ipython3",
   "version": "3.12.7"
  }
 },
 "nbformat": 4,
 "nbformat_minor": 5
}
