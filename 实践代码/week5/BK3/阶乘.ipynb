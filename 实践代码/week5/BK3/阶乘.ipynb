{
 "cells": [
  {
   "cell_type": "markdown",
   "id": "c8591692-bab6-4d78-ad1b-f1db3ac85ac5",
   "metadata": {},
   "source": [
    "# 计算阶乘的函数"
   ]
  },
  {
   "cell_type": "code",
   "execution_count": 10,
   "id": "dcc21c6a-4c4b-47f8-a480-07e2c6628153",
   "metadata": {},
   "outputs": [
    {
     "name": "stdin",
     "output_type": "stream",
     "text": [
      "Enter an integer: 10\n"
     ]
    }
   ],
   "source": [
    "num = int(input(\"Enter an integer:\")) #输入一个整数"
   ]
  },
  {
   "cell_type": "code",
   "execution_count": 57,
   "id": "a7eefd40-17ba-40d4-849d-08e0c1827942",
   "metadata": {},
   "outputs": [],
   "source": [
    "factorial = 1 #初始化阶乘结果为1"
   ]
  },
  {
   "cell_type": "markdown",
   "id": "28e2a26d-0d28-4823-8655-05a9eeff217d",
   "metadata": {},
   "source": [
    "# 检查输入的整数是负数、零还是正数并计算阶乘"
   ]
  },
  {
   "cell_type": "code",
   "execution_count": 59,
   "id": "8bf14204-1765-4502-a137-15beb94e77da",
   "metadata": {},
   "outputs": [
    {
     "name": "stdout",
     "output_type": "stream",
     "text": [
      "The factorial of 10 is 3628800\n"
     ]
    }
   ],
   "source": [
    "if num < 0:\n",
    "    print(\"Factorial does not exist for negative numbers\")\n",
    "elif num == 0:\n",
    "    print(\"The factorial of 0 is\", factorial)\n",
    "else:\n",
    "    for i in range(1, num + 1):\n",
    "        factorial = factorial * i\n",
    "    print(\"The factorial of\", num, \"is\", factorial)"
   ]
  },
  {
   "cell_type": "code",
   "execution_count": null,
   "id": "04604c96-d8c3-499a-9961-eb7223a0befc",
   "metadata": {},
   "outputs": [],
   "source": []
  }
 ],
 "metadata": {
  "kernelspec": {
   "display_name": "Python [conda env:base] *",
   "language": "python",
   "name": "conda-base-py"
  },
  "language_info": {
   "codemirror_mode": {
    "name": "ipython",
    "version": 3
   },
   "file_extension": ".py",
   "mimetype": "text/x-python",
   "name": "python",
   "nbconvert_exporter": "python",
   "pygments_lexer": "ipython3",
   "version": "3.12.7"
  }
 },
 "nbformat": 4,
 "nbformat_minor": 5
}
