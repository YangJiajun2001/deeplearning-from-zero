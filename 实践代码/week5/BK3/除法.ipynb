{
 "cells": [
  {
   "cell_type": "markdown",
   "id": "39be884a-25e2-43e6-b190-feb727d00f1f",
   "metadata": {},
   "source": [
    "# 计算两个数字的除法并显示结果"
   ]
  },
  {
   "cell_type": "code",
   "execution_count": 4,
   "id": "41086baf-ebce-4a45-916e-62fbcdd8f6b2",
   "metadata": {},
   "outputs": [],
   "source": [
    "num1 = 6\n",
    "num2 = 3"
   ]
  },
  {
   "cell_type": "markdown",
   "id": "53f378ce-b344-414c-b34b-f0c51e9d0a47",
   "metadata": {},
   "source": [
    "# 计算两个数字的除法结果"
   ]
  },
  {
   "cell_type": "code",
   "execution_count": 11,
   "id": "a22886df-26ec-4a91-bbbb-6f2d1761d356",
   "metadata": {},
   "outputs": [],
   "source": [
    "division = num1 / num2"
   ]
  },
  {
   "cell_type": "markdown",
   "id": "f7159a2a-9323-4a72-9691-5b020037bb1c",
   "metadata": {},
   "source": [
    "# 显示计算结果"
   ]
  },
  {
   "cell_type": "code",
   "execution_count": 22,
   "id": "54e6bc43-8be7-4a12-9d7c-0c9f9eb00327",
   "metadata": {},
   "outputs": [
    {
     "name": "stdout",
     "output_type": "stream",
     "text": [
      "The division of 6 over 3 is 2.0.\n"
     ]
    }
   ],
   "source": [
    "print(\"The division of {0} over {1} is {2}.\".format(num1, num2, division))"
   ]
  },
  {
   "cell_type": "code",
   "execution_count": null,
   "id": "3aef05cf-0ecc-486d-b6cd-69cece51c50f",
   "metadata": {},
   "outputs": [],
   "source": []
  }
 ],
 "metadata": {
  "kernelspec": {
   "display_name": "Python [conda env:base] *",
   "language": "python",
   "name": "conda-base-py"
  },
  "language_info": {
   "codemirror_mode": {
    "name": "ipython",
    "version": 3
   },
   "file_extension": ".py",
   "mimetype": "text/x-python",
   "name": "python",
   "nbconvert_exporter": "python",
   "pygments_lexer": "ipython3",
   "version": "3.12.7"
  }
 },
 "nbformat": 4,
 "nbformat_minor": 5
}
