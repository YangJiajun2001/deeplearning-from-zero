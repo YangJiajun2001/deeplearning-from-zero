{
 "cells": [
  {
   "cell_type": "markdown",
   "id": "98d01636-af1e-4dff-8d73-f84eb566d8dd",
   "metadata": {},
   "source": [
    "# 定义集合A：奇数集合"
   ]
  },
  {
   "cell_type": "code",
   "execution_count": 6,
   "id": "ad07dfc5-0610-4587-83c9-fcf69fbfe7e7",
   "metadata": {},
   "outputs": [
    {
     "data": {
      "text/plain": [
       "{1, 3, 5}"
      ]
     },
     "execution_count": 6,
     "metadata": {},
     "output_type": "execute_result"
    }
   ],
   "source": [
    "A = set([1, 3, 5])\n",
    "A"
   ]
  },
  {
   "cell_type": "markdown",
   "id": "7cd27e84-7562-4b6a-b1b3-2f2aab8b4e6a",
   "metadata": {},
   "source": [
    "# 定义集合B：偶数集合"
   ]
  },
  {
   "cell_type": "code",
   "execution_count": 10,
   "id": "4f5a7563-09f2-432c-a01c-a53f57264322",
   "metadata": {},
   "outputs": [
    {
     "data": {
      "text/plain": [
       "{2, 4, 6}"
      ]
     },
     "execution_count": 10,
     "metadata": {},
     "output_type": "execute_result"
    }
   ],
   "source": [
    "B = set([2, 4, 6])\n",
    "B"
   ]
  },
  {
   "cell_type": "markdown",
   "id": "77e0a596-576a-4360-a280-75e7aa9fa993",
   "metadata": {},
   "source": [
    "# 定义集合C：小于4的数"
   ]
  },
  {
   "cell_type": "code",
   "execution_count": 14,
   "id": "65a469e0-601d-4ace-bdd7-755222931e61",
   "metadata": {},
   "outputs": [
    {
     "data": {
      "text/plain": [
       "{1, 2, 3}"
      ]
     },
     "execution_count": 14,
     "metadata": {},
     "output_type": "execute_result"
    }
   ],
   "source": [
    "C = set([1, 2, 3])\n",
    "C"
   ]
  },
  {
   "cell_type": "markdown",
   "id": "600b23f5-5422-4c1e-8d37-779c9c23a102",
   "metadata": {},
   "source": [
    "# 集合A与B的并集¶"
   ]
  },
  {
   "cell_type": "code",
   "execution_count": 20,
   "id": "397b5e20-2002-44ef-944e-0d00f8b073b2",
   "metadata": {},
   "outputs": [
    {
     "data": {
      "text/plain": [
       "{1, 2, 3, 4, 5, 6}"
      ]
     },
     "execution_count": 20,
     "metadata": {},
     "output_type": "execute_result"
    }
   ],
   "source": [
    "A_union_B = A.union(B)\n",
    "A_union_B"
   ]
  },
  {
   "cell_type": "markdown",
   "id": "4c9c0495-7dec-40f7-a40e-872b783877b5",
   "metadata": {},
   "source": [
    "# 集合A与B的交集"
   ]
  },
  {
   "cell_type": "code",
   "execution_count": 26,
   "id": "2d2d99fa-61b7-4bb5-89eb-5e4e29fab5b6",
   "metadata": {},
   "outputs": [
    {
     "data": {
      "text/plain": [
       "set()"
      ]
     },
     "execution_count": 26,
     "metadata": {},
     "output_type": "execute_result"
    }
   ],
   "source": [
    "A_meet_B = A.intersection(B)\n",
    "A_meet_B"
   ]
  },
  {
   "cell_type": "markdown",
   "id": "8dc9d75a-da88-43aa-96d3-70dac146fc25",
   "metadata": {},
   "source": [
    "# 集合A减去集合B"
   ]
  },
  {
   "cell_type": "code",
   "execution_count": 35,
   "id": "bc47c39b-05a2-4c43-baba-14a3c71bebfc",
   "metadata": {},
   "outputs": [
    {
     "data": {
      "text/plain": [
       "{1, 3, 5}"
      ]
     },
     "execution_count": 35,
     "metadata": {},
     "output_type": "execute_result"
    }
   ],
   "source": [
    "A_minus_B = A.difference(B)\n",
    "A_minus_B"
   ]
  },
  {
   "cell_type": "markdown",
   "id": "aa5b6fc5-4c32-46a8-9289-a191669318e6",
   "metadata": {},
   "source": [
    "# 集合A与C的并集"
   ]
  },
  {
   "cell_type": "code",
   "execution_count": 42,
   "id": "2746a599-c2b7-4e8c-8b47-a0d7ed5150ef",
   "metadata": {},
   "outputs": [
    {
     "data": {
      "text/plain": [
       "{1, 2, 3, 5}"
      ]
     },
     "execution_count": 42,
     "metadata": {},
     "output_type": "execute_result"
    }
   ],
   "source": [
    "A_union_C = A.union(C)\n",
    "A_union_C"
   ]
  },
  {
   "cell_type": "markdown",
   "id": "a9043de9-901d-472f-ae21-5a7437f9e369",
   "metadata": {},
   "source": [
    "# 集合A与C的交集"
   ]
  },
  {
   "cell_type": "code",
   "execution_count": 47,
   "id": "5936f11a-b84d-4a4b-9c3d-b45d76e0079c",
   "metadata": {},
   "outputs": [
    {
     "data": {
      "text/plain": [
       "{1, 3}"
      ]
     },
     "execution_count": 47,
     "metadata": {},
     "output_type": "execute_result"
    }
   ],
   "source": [
    "A_meet_C = A.intersection(C)\n",
    "A_meet_C"
   ]
  },
  {
   "cell_type": "markdown",
   "id": "7dad4fb7-ab67-44ad-bdfd-541c26f52bb7",
   "metadata": {},
   "source": [
    "# 集合A减去集合C"
   ]
  },
  {
   "cell_type": "code",
   "execution_count": 51,
   "id": "59c1a031-9de6-4ed8-9ac9-b7e45e830765",
   "metadata": {},
   "outputs": [
    {
     "data": {
      "text/plain": [
       "{5}"
      ]
     },
     "execution_count": 51,
     "metadata": {},
     "output_type": "execute_result"
    }
   ],
   "source": [
    "A_minus_C = A.difference(C)\n",
    "A_minus_C"
   ]
  },
  {
   "cell_type": "markdown",
   "id": "539fbd3e-1476-491e-8f37-e7e9478eba11",
   "metadata": {},
   "source": [
    "# 集合C减去集合A"
   ]
  },
  {
   "cell_type": "code",
   "execution_count": null,
   "id": "2928454e-65f9-4c0b-9434-cfdff0ffd7c0",
   "metadata": {},
   "outputs": [],
   "source": [
    "_cminus_A = "
   ]
  }
 ],
 "metadata": {
  "kernelspec": {
   "display_name": "Python [conda env:base] *",
   "language": "python",
   "name": "conda-base-py"
  },
  "language_info": {
   "codemirror_mode": {
    "name": "ipython",
    "version": 3
   },
   "file_extension": ".py",
   "mimetype": "text/x-python",
   "name": "python",
   "nbconvert_exporter": "python",
   "pygments_lexer": "ipython3",
   "version": "3.12.7"
  }
 },
 "nbformat": 4,
 "nbformat_minor": 5
}
