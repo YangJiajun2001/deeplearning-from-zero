{
 "cells": [
  {
   "cell_type": "markdown",
   "id": "b31fac30-a7a1-462a-9e88-85b56abf04fd",
   "metadata": {},
   "source": [
    "# 1.Sort Numbers\n",
    "完成解决方案，使其对传入的数字数组进行排序。如果函数传入空数组或 null/nil 值，则它应返回空数组。"
   ]
  },
  {
   "cell_type": "markdown",
   "id": "d520ac72-fd37-4462-9edb-d02e63a9c543",
   "metadata": {},
   "source": [
    "更好的解决方案"
   ]
  },
  {
   "cell_type": "code",
   "execution_count": null,
   "id": "5ff695a3-9195-49b4-a35f-d0c35f498463",
   "metadata": {},
   "outputs": [],
   "source": [
    "def solution(nums):\n",
    "    return sorted(nums) if nums else []"
   ]
  },
  {
   "cell_type": "markdown",
   "id": "71685129-2c81-4af9-8950-dab6e02988ec",
   "metadata": {},
   "source": [
    "# 2.The highest profit wins!\n",
    "编写一个函数，同时返回给定列表/数组的最小和最大数量。"
   ]
  },
  {
   "cell_type": "code",
   "execution_count": null,
   "id": "56cb965d-d783-44a6-baa8-263ec0dca262",
   "metadata": {},
   "outputs": [],
   "source": [
    "def min_max(lst):\n",
    "  return [min(lst), max(lst)]"
   ]
  },
  {
   "cell_type": "markdown",
   "id": "91e0ef56-3ae6-4d24-8997-a5ff8b4cd831",
   "metadata": {},
   "source": [
    "更好的解决方案"
   ]
  },
  {
   "cell_type": "markdown",
   "id": "fad88616-86ec-4196-8873-ea30b42b83fc",
   "metadata": {},
   "source": [
    "无"
   ]
  },
  {
   "cell_type": "markdown",
   "id": "5544de7a-324b-4a74-b233-3ca3023e0547",
   "metadata": {},
   "source": [
    "# 3.Small enough? - Beginner\n",
    "您将获得一个数组和限制值值。您必须检查数组中的所有值是否都小于或等于限制值。如果是，则返回真。否则，返回假。 \n",
    "您可以假设数组中的所有值都是数字。"
   ]
  },
  {
   "cell_type": "markdown",
   "id": "783ef654-0914-47e4-a073-7367d49d742a",
   "metadata": {},
   "source": [
    "更好的解决方案"
   ]
  },
  {
   "cell_type": "code",
   "execution_count": null,
   "id": "c07a9b6f-b974-48e9-a068-041633fec93e",
   "metadata": {},
   "outputs": [],
   "source": [
    "def small_enough(array, limit):\n",
    "    return max(array)<=limit"
   ]
  },
  {
   "cell_type": "markdown",
   "id": "ed135a17-31e3-40d8-91cb-e12b7e5038ad",
   "metadata": {},
   "source": [
    "# 4.Sum of Minimums!\n",
    "Given a 2D ( nested ) list ( array, vector, .. ) of size m * n, your task is to find the sum of the minimum values in each row.\n",
    "给定一个大小为m*n的 2D（嵌套）列表 （ array， vector， .. ） ，您的任务是查找每行中最小值的总和。"
   ]
  },
  {
   "cell_type": "markdown",
   "id": "496faf48-0407-453e-a8f1-f2663542ec29",
   "metadata": {},
   "source": [
    "更好的解决方案"
   ]
  },
  {
   "cell_type": "code",
   "execution_count": null,
   "id": "7f308c80-eef3-46c8-bbd6-c3caed686071",
   "metadata": {},
   "outputs": [],
   "source": [
    "def sum_of_minimums(numbers):\n",
    "    return sum(map(min, numbers))"
   ]
  },
  {
   "cell_type": "markdown",
   "id": "0d056829-8b27-4aef-a5df-8f93cfe04376",
   "metadata": {},
   "source": [
    "# 5.List Filtering\n",
    "在这个 kata 中，你将创建一个函数，它接受一个非负整数和字符串的列表，并返回一个过滤掉字符串的新列表。"
   ]
  },
  {
   "cell_type": "markdown",
   "id": "30ff13ed-9a3f-4cb3-9219-e769ccb20db0",
   "metadata": {},
   "source": [
    "更好的解决方案"
   ]
  },
  {
   "cell_type": "code",
   "execution_count": null,
   "id": "bbed3f71-3944-45a6-ad7f-568228b455b9",
   "metadata": {},
   "outputs": [],
   "source": [
    "def filter_list(l):\n",
    "  'return a new list with the strings filtered out'\n",
    "  return [i for i in l if not isinstance(i, str)]"
   ]
  }
 ],
 "metadata": {
  "kernelspec": {
   "display_name": "Python [conda env:base] *",
   "language": "python",
   "name": "conda-base-py"
  },
  "language_info": {
   "codemirror_mode": {
    "name": "ipython",
    "version": 3
   },
   "file_extension": ".py",
   "mimetype": "text/x-python",
   "name": "python",
   "nbconvert_exporter": "python",
   "pygments_lexer": "ipython3",
   "version": "3.12.7"
  }
 },
 "nbformat": 4,
 "nbformat_minor": 5
}
