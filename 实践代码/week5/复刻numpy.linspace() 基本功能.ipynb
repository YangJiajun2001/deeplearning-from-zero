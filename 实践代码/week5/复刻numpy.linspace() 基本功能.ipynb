{
 "cells": [
  {
   "cell_type": "code",
   "execution_count": 33,
   "id": "066f4a5e-424d-44f3-85df-465ec049c724",
   "metadata": {},
   "outputs": [],
   "source": [
    "# 自定义函数模仿 numpy.linspace()\n",
    "def linspace(start, stop, num = 50, endpoint = True):\n",
    "    if num <2:\n",
    "        # 报错\n",
    "        raise ValueError(\"Number of samples must be at least 2\")\n",
    "    # 是否包括右端点\n",
    "    if endpoint:\n",
    "        step = (stop - start)/(num-1)\n",
    "        return [start + i*step for i in range(num)]\n",
    "    else:\n",
    "        step = (stop - start)/num\n",
    "        return [start +i*step for i in range(num)]\n",
    "        "
   ]
  },
  {
   "cell_type": "code",
   "execution_count": 43,
   "id": "9cb6b613-971a-4fc2-9786-b2b81a597722",
   "metadata": {},
   "outputs": [],
   "source": [
    "# 示例用法\n",
    "start = 0\n",
    "stop = 10\n",
    "num = 21\n",
    "endpoint = True"
   ]
  },
  {
   "cell_type": "code",
   "execution_count": 50,
   "id": "f3827578-8458-41d8-8a13-942c9410b6f1",
   "metadata": {},
   "outputs": [],
   "source": [
    "# 调用自定义函数生成等差数列\n",
    "values = linspace(start, stop, num, endpoint)"
   ]
  },
  {
   "cell_type": "code",
   "execution_count": null,
   "id": "4c13d785-6b35-4b4c-8d66-9fcbf23503f6",
   "metadata": {},
   "outputs": [],
   "source": []
  }
 ],
 "metadata": {
  "kernelspec": {
   "display_name": "Python [conda env:base] *",
   "language": "python",
   "name": "conda-base-py"
  },
  "language_info": {
   "codemirror_mode": {
    "name": "ipython",
    "version": 3
   },
   "file_extension": ".py",
   "mimetype": "text/x-python",
   "name": "python",
   "nbconvert_exporter": "python",
   "pygments_lexer": "ipython3",
   "version": "3.12.7"
  }
 },
 "nbformat": 4,
 "nbformat_minor": 5
}
