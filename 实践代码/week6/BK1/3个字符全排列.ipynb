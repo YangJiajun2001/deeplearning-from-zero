{
 "cells": [
  {
   "cell_type": "code",
   "execution_count": 9,
   "id": "0f99aa36-7b86-4591-9db1-fb18e7f2354e",
   "metadata": {},
   "outputs": [],
   "source": [
    "import itertools\n",
    "string = \"abc\"\n",
    "perms_all = itertools.permutations(string)"
   ]
  },
  {
   "cell_type": "code",
   "execution_count": 14,
   "id": "d9e8028e-8311-4853-a127-cc967c26acd1",
   "metadata": {},
   "outputs": [
    {
     "name": "stdout",
     "output_type": "stream",
     "text": [
      "abc\n",
      "acb\n",
      "bac\n",
      "bca\n",
      "cab\n",
      "cba\n"
     ]
    }
   ],
   "source": [
    "for perms_idx in perms_all:\n",
    "    print(''.join(perms_idx))"
   ]
  },
  {
   "cell_type": "code",
   "execution_count": null,
   "id": "f518cd19-2956-4173-a9fa-ff92c45efa82",
   "metadata": {},
   "outputs": [],
   "source": []
  }
 ],
 "metadata": {
  "kernelspec": {
   "display_name": "Python [conda env:base] *",
   "language": "python",
   "name": "conda-base-py"
  },
  "language_info": {
   "codemirror_mode": {
    "name": "ipython",
    "version": 3
   },
   "file_extension": ".py",
   "mimetype": "text/x-python",
   "name": "python",
   "nbconvert_exporter": "python",
   "pygments_lexer": "ipython3",
   "version": "3.12.7"
  }
 },
 "nbformat": 4,
 "nbformat_minor": 5
}
