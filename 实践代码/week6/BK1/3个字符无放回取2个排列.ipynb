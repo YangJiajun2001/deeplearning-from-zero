{
 "cells": [
  {
   "cell_type": "code",
   "execution_count": 9,
   "id": "426dcfb2-d8ea-4a38-b5af-1566f0ce4b62",
   "metadata": {},
   "outputs": [
    {
     "name": "stdout",
     "output_type": "stream",
     "text": [
      "ab\n",
      "ac\n",
      "ba\n",
      "bc\n",
      "ca\n",
      "cb\n"
     ]
    }
   ],
   "source": [
    "import itertools\n",
    "string = 'abc'\n",
    "\n",
    "# 3个不放回取2个的排列\n",
    "perms_2 = itertools.permutations(string, 2)\n",
    "\n",
    "for perm_idx in perms_2:\n",
    "    print(''.join(perm_idx))"
   ]
  },
  {
   "cell_type": "code",
   "execution_count": null,
   "id": "e587f557-1d74-43f2-9c60-ab98a52aa943",
   "metadata": {},
   "outputs": [],
   "source": []
  }
 ],
 "metadata": {
  "kernelspec": {
   "display_name": "Python [conda env:base] *",
   "language": "python",
   "name": "conda-base-py"
  },
  "language_info": {
   "codemirror_mode": {
    "name": "ipython",
    "version": 3
   },
   "file_extension": ".py",
   "mimetype": "text/x-python",
   "name": "python",
   "nbconvert_exporter": "python",
   "pygments_lexer": "ipython3",
   "version": "3.12.7"
  }
 },
 "nbformat": 4,
 "nbformat_minor": 5
}
