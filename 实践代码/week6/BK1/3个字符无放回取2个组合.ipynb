{
 "cells": [
  {
   "cell_type": "code",
   "execution_count": 18,
   "id": "c83bc3ff-17dc-4de5-a3e9-493e38af4c6b",
   "metadata": {},
   "outputs": [
    {
     "name": "stdout",
     "output_type": "stream",
     "text": [
      "ab\n",
      "ac\n",
      "bc\n"
     ]
    }
   ],
   "source": [
    "import itertools\n",
    "string = \"abc\"\n",
    "\n",
    "# 3个取2个的组合\n",
    "combs_2 = itertools.combinations(string, 2)\n",
    "# 返回一个包含所有长度为2的组合的可迭代对象combs_2\n",
    "\n",
    "for comb_idx in combs_2:\n",
    "    print(''.join(comb_idx))\n"
   ]
  },
  {
   "cell_type": "code",
   "execution_count": null,
   "id": "2b77e89c-05f7-4a18-9cf9-68addc55f2b1",
   "metadata": {},
   "outputs": [],
   "source": []
  }
 ],
 "metadata": {
  "kernelspec": {
   "display_name": "Python [conda env:base] *",
   "language": "python",
   "name": "conda-base-py"
  },
  "language_info": {
   "codemirror_mode": {
    "name": "ipython",
    "version": 3
   },
   "file_extension": ".py",
   "mimetype": "text/x-python",
   "name": "python",
   "nbconvert_exporter": "python",
   "pygments_lexer": "ipython3",
   "version": "3.12.7"
  }
 },
 "nbformat": 4,
 "nbformat_minor": 5
}
