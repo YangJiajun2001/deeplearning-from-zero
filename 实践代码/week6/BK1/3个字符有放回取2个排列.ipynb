{
 "cells": [
  {
   "cell_type": "code",
   "execution_count": 39,
   "id": "f241bc45-5369-4c77-a8f2-dde07e062770",
   "metadata": {},
   "outputs": [],
   "source": [
    "import itertools\n",
    "\n",
    "string = \"abc\"\n",
    "# 定义元素列表\n",
    "elements = list(string)\n",
    "# 指定重复次数\n",
    "repeat = 2"
   ]
  },
  {
   "cell_type": "code",
   "execution_count": 41,
   "id": "8af71c1c-df4c-47a6-836d-d6e01fc451f1",
   "metadata": {},
   "outputs": [],
   "source": [
    "# 生成有放回排列\n",
    "permutations = itertools.product(elements, repeat = repeat)"
   ]
  },
  {
   "cell_type": "code",
   "execution_count": 43,
   "id": "763005a7-2638-4965-9f12-83cfe2f82dbc",
   "metadata": {},
   "outputs": [
    {
     "name": "stdout",
     "output_type": "stream",
     "text": [
      "aa\n",
      "ab\n",
      "ac\n",
      "ba\n",
      "bb\n",
      "bc\n",
      "ca\n",
      "cb\n",
      "cc\n"
     ]
    }
   ],
   "source": [
    "# 遍历并打印所有排列\n",
    "for permutation_idx in permutations:\n",
    "    print(''.join(permutation_idx))"
   ]
  },
  {
   "cell_type": "code",
   "execution_count": null,
   "id": "2b6bd1e2-54ef-4ee4-ab01-b5adb6b5f0f1",
   "metadata": {},
   "outputs": [],
   "source": []
  },
  {
   "cell_type": "code",
   "execution_count": null,
   "id": "1d932ef7-1e85-4326-ade8-ef5c5747d426",
   "metadata": {},
   "outputs": [],
   "source": []
  },
  {
   "cell_type": "code",
   "execution_count": null,
   "id": "af9c03cd-d441-4373-94e3-0e9efb12e653",
   "metadata": {},
   "outputs": [],
   "source": []
  }
 ],
 "metadata": {
  "kernelspec": {
   "display_name": "Python [conda env:base] *",
   "language": "python",
   "name": "conda-base-py"
  },
  "language_info": {
   "codemirror_mode": {
    "name": "ipython",
    "version": 3
   },
   "file_extension": ".py",
   "mimetype": "text/x-python",
   "name": "python",
   "nbconvert_exporter": "python",
   "pygments_lexer": "ipython3",
   "version": "3.12.7"
  }
 },
 "nbformat": 4,
 "nbformat_minor": 5
}
