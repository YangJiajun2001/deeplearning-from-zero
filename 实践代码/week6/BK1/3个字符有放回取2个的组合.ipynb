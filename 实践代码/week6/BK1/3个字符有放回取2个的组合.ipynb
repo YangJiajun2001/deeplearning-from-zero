{
 "cells": [
  {
   "cell_type": "code",
   "execution_count": 6,
   "id": "e9731584-116c-407b-a347-01243fa3a9c7",
   "metadata": {},
   "outputs": [],
   "source": [
    "import itertools\n",
    "\n",
    "string = 'abc'\n",
    "# 定义元素列表\n",
    "elements = list(string)\n"
   ]
  },
  {
   "cell_type": "code",
   "execution_count": 18,
   "id": "0c167355-1e3d-46b0-b6ae-92e23a5dfb80",
   "metadata": {},
   "outputs": [],
   "source": [
    "# 指定组合长度\n",
    "length = 2\n",
    "\n",
    "# 生成有放回组合\n",
    "combos = itertools.combinations_with_replacement(elements, length)"
   ]
  },
  {
   "cell_type": "code",
   "execution_count": 27,
   "id": "43f06be5-951b-4ab1-a043-a135d17b4e77",
   "metadata": {},
   "outputs": [
    {
     "name": "stdout",
     "output_type": "stream",
     "text": [
      "aa\n",
      "ab\n",
      "ac\n",
      "bb\n",
      "bc\n",
      "cc\n"
     ]
    }
   ],
   "source": [
    "# 遍历并打印所有组合\n",
    "for combination_idx in combos:\n",
    "    print(''.join(combination_idx))"
   ]
  },
  {
   "cell_type": "code",
   "execution_count": null,
   "id": "ac35576f-0ae1-4a0e-82df-c77e9c40d5c0",
   "metadata": {},
   "outputs": [],
   "source": []
  }
 ],
 "metadata": {
  "kernelspec": {
   "display_name": "Python [conda env:base] *",
   "language": "python",
   "name": "conda-base-py"
  },
  "language_info": {
   "codemirror_mode": {
    "name": "ipython",
    "version": 3
   },
   "file_extension": ".py",
   "mimetype": "text/x-python",
   "name": "python",
   "nbconvert_exporter": "python",
   "pygments_lexer": "ipython3",
   "version": "3.12.7"
  }
 },
 "nbformat": 4,
 "nbformat_minor": 5
}
