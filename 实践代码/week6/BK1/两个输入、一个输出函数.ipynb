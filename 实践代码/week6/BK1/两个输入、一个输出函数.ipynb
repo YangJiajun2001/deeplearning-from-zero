{
 "cells": [
  {
   "cell_type": "code",
   "execution_count": 9,
   "id": "285c8bc5-16d1-43c6-81fb-cfa11fa4dd38",
   "metadata": {},
   "outputs": [],
   "source": [
    "# 自定义函数\n",
    "def add_numbers(a, b):\n",
    "    result = a+b\n",
    "    return result"
   ]
  },
  {
   "cell_type": "code",
   "execution_count": 17,
   "id": "8f6e01b5-ab6d-4e75-8ad4-daefb93df15d",
   "metadata": {},
   "outputs": [
    {
     "name": "stdout",
     "output_type": "stream",
     "text": [
      "8\n"
     ]
    }
   ],
   "source": [
    "sum = add_numbers(3, 5)# 调用函数\n",
    "print(sum)# 输出8"
   ]
  },
  {
   "cell_type": "code",
   "execution_count": null,
   "id": "ac769c98-3a63-4074-aa0c-dac6f9d2857f",
   "metadata": {},
   "outputs": [],
   "source": []
  }
 ],
 "metadata": {
  "kernelspec": {
   "display_name": "Python [conda env:base] *",
   "language": "python",
   "name": "conda-base-py"
  },
  "language_info": {
   "codemirror_mode": {
    "name": "ipython",
    "version": 3
   },
   "file_extension": ".py",
   "mimetype": "text/x-python",
   "name": "python",
   "nbconvert_exporter": "python",
   "pygments_lexer": "ipython3",
   "version": "3.12.7"
  }
 },
 "nbformat": 4,
 "nbformat_minor": 5
}
