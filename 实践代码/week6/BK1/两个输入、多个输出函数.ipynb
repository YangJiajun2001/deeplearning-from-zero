{
 "cells": [
  {
   "cell_type": "code",
   "execution_count": 13,
   "id": "f9c949b2-8b26-454a-a77a-3b3faac49034",
   "metadata": {},
   "outputs": [],
   "source": [
    "# 自定义函数\n",
    "def arithemic_operations(a, b):\n",
    "    add = a+b\n",
    "    sub = a-b\n",
    "    mul = a*b\n",
    "    div = a/b\n",
    "    return add, sub, mul, div"
   ]
  },
  {
   "cell_type": "code",
   "execution_count": 19,
   "id": "cfe8e96a-8a9a-438b-a4e9-f0b529106da5",
   "metadata": {},
   "outputs": [],
   "source": [
    "# 调用函数并输出结果\n",
    "a, b = 10, 5\n",
    "result = arithemic_operations(a, b)"
   ]
  },
  {
   "cell_type": "code",
   "execution_count": 32,
   "id": "58ce7656-9ef1-48f7-893e-a41bf7dc5171",
   "metadata": {},
   "outputs": [
    {
     "name": "stdout",
     "output_type": "stream",
     "text": [
      "Addition:  15\n",
      "Subtraction:  5\n",
      "Multiplication:  50\n",
      "Division:  2.0\n"
     ]
    }
   ],
   "source": [
    "print('Addition: ', result[0])\n",
    "print('Subtraction: ', result[1])\n",
    "print('Multiplication: ', result[2])\n",
    "print('Division: ', result[3])"
   ]
  },
  {
   "cell_type": "code",
   "execution_count": null,
   "id": "3e70c12f-a4ec-4b65-aab8-1eee64f37771",
   "metadata": {},
   "outputs": [],
   "source": []
  }
 ],
 "metadata": {
  "kernelspec": {
   "display_name": "Python [conda env:base] *",
   "language": "python",
   "name": "conda-base-py"
  },
  "language_info": {
   "codemirror_mode": {
    "name": "ipython",
    "version": 3
   },
   "file_extension": ".py",
   "mimetype": "text/x-python",
   "name": "python",
   "nbconvert_exporter": "python",
   "pygments_lexer": "ipython3",
   "version": "3.12.7"
  }
 },
 "nbformat": 4,
 "nbformat_minor": 5
}
