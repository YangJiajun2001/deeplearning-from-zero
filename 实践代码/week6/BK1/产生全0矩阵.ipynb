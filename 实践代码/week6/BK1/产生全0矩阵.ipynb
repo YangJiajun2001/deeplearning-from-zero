{
 "cells": [
  {
   "cell_type": "code",
   "execution_count": 19,
   "id": "a4f1b98a-5f3f-4c0f-9c5a-5a5ee646c721",
   "metadata": {},
   "outputs": [],
   "source": [
    "# 自定义函数产生全0矩阵\n",
    "def create_zeros_matrix(rows, cols):\n",
    "    matrix=[]\n",
    "    for _ in range(rows):\n",
    "        row_idx = [0]*cols\n",
    "        matrix.append(row_idx)\n",
    "    return matrix"
   ]
  },
  {
   "cell_type": "code",
   "execution_count": 21,
   "id": "4049332b-4bd9-46f6-957c-90e4fec05f1e",
   "metadata": {},
   "outputs": [
    {
     "data": {
      "text/plain": [
       "[[0, 0, 0, 0], [0, 0, 0, 0], [0, 0, 0, 0]]"
      ]
     },
     "execution_count": 21,
     "metadata": {},
     "output_type": "execute_result"
    }
   ],
   "source": [
    "# 调用自定义函数\n",
    "create_zeros_matrix(3, 4)"
   ]
  },
  {
   "cell_type": "code",
   "execution_count": null,
   "id": "223e4240-1adc-47e7-91b3-869f89fe5ba4",
   "metadata": {},
   "outputs": [],
   "source": []
  }
 ],
 "metadata": {
  "kernelspec": {
   "display_name": "Python [conda env:base] *",
   "language": "python",
   "name": "conda-base-py"
  },
  "language_info": {
   "codemirror_mode": {
    "name": "ipython",
    "version": 3
   },
   "file_extension": ".py",
   "mimetype": "text/x-python",
   "name": "python",
   "nbconvert_exporter": "python",
   "pygments_lexer": "ipython3",
   "version": "3.12.7"
  }
 },
 "nbformat": 4,
 "nbformat_minor": 5
}
