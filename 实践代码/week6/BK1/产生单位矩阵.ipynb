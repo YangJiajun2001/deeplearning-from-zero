{
 "cells": [
  {
   "cell_type": "code",
   "execution_count": 45,
   "id": "ad307f65-90d2-4771-938c-8f7707e32000",
   "metadata": {},
   "outputs": [],
   "source": [
    "# 自定义函数产生单位矩阵\n",
    "def identity_matrix(size):\n",
    "    matrix = []\n",
    "    for i in range(size):\n",
    "        row = [0]*size\n",
    "        row[i] = 1\n",
    "        matrix.append(row)\n",
    "    return matrix"
   ]
  },
  {
   "cell_type": "code",
   "execution_count": 47,
   "id": "d65f8b93-920f-4c9c-8530-270e0be70332",
   "metadata": {},
   "outputs": [
    {
     "data": {
      "text/plain": [
       "[[1, 0, 0, 0], [0, 1, 0, 0], [0, 0, 1, 0], [0, 0, 0, 1]]"
      ]
     },
     "execution_count": 47,
     "metadata": {},
     "output_type": "execute_result"
    }
   ],
   "source": [
    "# 调用自定函数\n",
    "identity_matrix = identity_matrix(4)\n",
    "identity_matrix"
   ]
  },
  {
   "cell_type": "code",
   "execution_count": null,
   "id": "47da3510-191e-4834-a5c5-65aeefc3720e",
   "metadata": {},
   "outputs": [],
   "source": []
  }
 ],
 "metadata": {
  "kernelspec": {
   "display_name": "Python [conda env:base] *",
   "language": "python",
   "name": "conda-base-py"
  },
  "language_info": {
   "codemirror_mode": {
    "name": "ipython",
    "version": 3
   },
   "file_extension": ".py",
   "mimetype": "text/x-python",
   "name": "python",
   "nbconvert_exporter": "python",
   "pygments_lexer": "ipython3",
   "version": "3.12.7"
  }
 },
 "nbformat": 4,
 "nbformat_minor": 5
}
