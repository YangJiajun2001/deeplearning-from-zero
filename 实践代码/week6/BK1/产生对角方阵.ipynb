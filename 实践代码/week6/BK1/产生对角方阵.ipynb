{
 "cells": [
  {
   "cell_type": "code",
   "execution_count": 41,
   "id": "bbe574e2-d705-46b2-9191-b3903644a902",
   "metadata": {},
   "outputs": [],
   "source": [
    "# 自定义函数产生对角方阵\n",
    "def diagonal_matrix(values):\n",
    "    size = len(values);matrix = []\n",
    "    for i in range(size):\n",
    "        row = [0]*size\n",
    "        matrix.append(row)\n",
    "        matrix[i][i] = values[i]\n",
    "    return matrix"
   ]
  },
  {
   "cell_type": "code",
   "execution_count": 43,
   "id": "0641d573-2d55-4656-9798-18c9ee686cab",
   "metadata": {},
   "outputs": [],
   "source": [
    "# 对角线元素\n",
    "diagonal_values = [4, 3, 2, 1]"
   ]
  },
  {
   "cell_type": "code",
   "execution_count": 45,
   "id": "90d80188-d63f-4c2a-94be-1ebfbccaf0b9",
   "metadata": {},
   "outputs": [],
   "source": [
    "# 调用自定义函数\n",
    "diagonal_matrix = diagonal_matrix(diagonal_values)"
   ]
  },
  {
   "cell_type": "code",
   "execution_count": 47,
   "id": "80f4142b-198f-4827-9acd-455cdd2657f8",
   "metadata": {},
   "outputs": [
    {
     "data": {
      "text/plain": [
       "[[4, 0, 0, 0], [0, 3, 0, 0], [0, 0, 2, 0], [0, 0, 0, 1]]"
      ]
     },
     "execution_count": 47,
     "metadata": {},
     "output_type": "execute_result"
    }
   ],
   "source": [
    "diagonal_matrix"
   ]
  },
  {
   "cell_type": "code",
   "execution_count": null,
   "id": "59997f99-1059-4679-b949-0da761f31e74",
   "metadata": {},
   "outputs": [],
   "source": []
  }
 ],
 "metadata": {
  "kernelspec": {
   "display_name": "Python [conda env:base] *",
   "language": "python",
   "name": "conda-base-py"
  },
  "language_info": {
   "codemirror_mode": {
    "name": "ipython",
    "version": 3
   },
   "file_extension": ".py",
   "mimetype": "text/x-python",
   "name": "python",
   "nbconvert_exporter": "python",
   "pygments_lexer": "ipython3",
   "version": "3.12.7"
  }
 },
 "nbformat": 4,
 "nbformat_minor": 5
}
