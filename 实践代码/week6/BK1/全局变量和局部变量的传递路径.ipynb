{
 "cells": [
  {
   "cell_type": "code",
   "execution_count": 5,
   "id": "32aeb32d-b7a8-4461-ba89-cdae229c41a6",
   "metadata": {},
   "outputs": [
    {
     "name": "stdout",
     "output_type": "stream",
     "text": [
      "global_x: 8\n"
     ]
    }
   ],
   "source": [
    "# 全局变量\n",
    "global_x = 8\n",
    "print('global_x:', global_x)# global_x: 8"
   ]
  },
  {
   "cell_type": "code",
   "execution_count": 29,
   "id": "774e9825-1f7b-410a-a439-9dcc5ee34a2e",
   "metadata": {},
   "outputs": [],
   "source": [
    "# 自定义函数\n",
    "def my_function(local_x):\n",
    "    # local_x 局部变量\n",
    "    print('local_x:', local_x)# local_x: 38\n",
    "\n",
    "    # 创建一个同名的局部变量\n",
    "    global_X = 88# global_x: 88\n",
    "    print('global_x:', global_X)"
   ]
  },
  {
   "cell_type": "code",
   "execution_count": 31,
   "id": "ba7f9287-e9e8-4ce6-8e91-7dad288a13f6",
   "metadata": {},
   "outputs": [
    {
     "name": "stdout",
     "output_type": "stream",
     "text": [
      "local_x: 38\n",
      "global_x: 88\n"
     ]
    }
   ],
   "source": [
    "# 调用函数\n",
    "my_function(38)"
   ]
  },
  {
   "cell_type": "code",
   "execution_count": 38,
   "id": "41d6cf6c-9b66-484d-adde-fe5cda510105",
   "metadata": {},
   "outputs": [
    {
     "name": "stdout",
     "output_type": "stream",
     "text": [
      "global_x: 8\n"
     ]
    }
   ],
   "source": [
    "# 在函数外部访问全局变量\n",
    "print('global_x:', global_x)# global_x: 88"
   ]
  },
  {
   "cell_type": "code",
   "execution_count": 42,
   "id": "8b9cb269-f60b-4794-87c7-6bd04f6eb580",
   "metadata": {},
   "outputs": [
    {
     "ename": "NameError",
     "evalue": "name 'local_x' is not defined",
     "output_type": "error",
     "traceback": [
      "\u001b[1;31m---------------------------------------------------------------------------\u001b[0m",
      "\u001b[1;31mNameError\u001b[0m                                 Traceback (most recent call last)",
      "Cell \u001b[1;32mIn[42], line 1\u001b[0m\n\u001b[1;32m----> 1\u001b[0m \u001b[38;5;28mprint\u001b[39m(\u001b[38;5;124m'\u001b[39m\u001b[38;5;124mlocal_x\u001b[39m\u001b[38;5;124m'\u001b[39m, local_x)\n",
      "\u001b[1;31mNameError\u001b[0m: name 'local_x' is not defined"
     ]
    }
   ],
   "source": [
    "print('local_x', local_x)\n",
    "# 报错，NameError: name 'local_x' is not defined"
   ]
  },
  {
   "cell_type": "code",
   "execution_count": null,
   "id": "e7bb1c70-5bff-47d4-9d51-b462674a19ae",
   "metadata": {},
   "outputs": [],
   "source": []
  }
 ],
 "metadata": {
  "kernelspec": {
   "display_name": "Python [conda env:base] *",
   "language": "python",
   "name": "conda-base-py"
  },
  "language_info": {
   "codemirror_mode": {
    "name": "ipython",
    "version": 3
   },
   "file_extension": ".py",
   "mimetype": "text/x-python",
   "name": "python",
   "nbconvert_exporter": "python",
   "pygments_lexer": "ipython3",
   "version": "3.12.7"
  }
 },
 "nbformat": 4,
 "nbformat_minor": 5
}
