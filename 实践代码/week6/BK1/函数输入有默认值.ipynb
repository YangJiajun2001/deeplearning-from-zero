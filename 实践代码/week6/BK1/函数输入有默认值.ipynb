{
 "cells": [
  {
   "cell_type": "code",
   "execution_count": 9,
   "id": "29bfe081-8574-42c5-b832-4f3c23a478f9",
   "metadata": {},
   "outputs": [],
   "source": [
    "# 自定义函数\n",
    "def greet(name, greeting = 'Hello'):\n",
    "    print(f'{greeting},{name}!')"
   ]
  },
  {
   "cell_type": "code",
   "execution_count": 15,
   "id": "d70d7080-8b96-437f-be64-d9c64651b7f7",
   "metadata": {},
   "outputs": [
    {
     "name": "stdout",
     "output_type": "stream",
     "text": [
      "Hello,James!\n"
     ]
    }
   ],
   "source": [
    "# 使用默认的问候语调用函数\n",
    "greet('James')# 输出 \"Hello, James!\""
   ]
  },
  {
   "cell_type": "code",
   "execution_count": 22,
   "id": "7ab41171-2758-4559-8323-0b6aae05c8e1",
   "metadata": {},
   "outputs": [
    {
     "name": "stdout",
     "output_type": "stream",
     "text": [
      "Good morning,James!\n"
     ]
    }
   ],
   "source": [
    "# 指定自定义的问候语调用函数\n",
    "greet('James', 'Good morning')\n",
    "# 输出 \"Good morning, James!\""
   ]
  },
  {
   "cell_type": "code",
   "execution_count": null,
   "id": "acc3b0dc-978b-4a57-9718-6242385d5d6e",
   "metadata": {},
   "outputs": [],
   "source": []
  }
 ],
 "metadata": {
  "kernelspec": {
   "display_name": "Python [conda env:base] *",
   "language": "python",
   "name": "conda-base-py"
  },
  "language_info": {
   "codemirror_mode": {
    "name": "ipython",
    "version": 3
   },
   "file_extension": ".py",
   "mimetype": "text/x-python",
   "name": "python",
   "nbconvert_exporter": "python",
   "pygments_lexer": "ipython3",
   "version": "3.12.7"
  }
 },
 "nbformat": 4,
 "nbformat_minor": 5
}
