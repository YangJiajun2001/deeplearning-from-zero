{
 "cells": [
  {
   "cell_type": "code",
   "execution_count": 9,
   "id": "6440e900-e1fb-49a2-96d9-04656b9a35a0",
   "metadata": {},
   "outputs": [
    {
     "name": "stdout",
     "output_type": "stream",
     "text": [
      "global:  8\n"
     ]
    }
   ],
   "source": [
    "# 全局变量\n",
    "global_x = 8# global_x: 8\n",
    "print('global: ', global_x)"
   ]
  },
  {
   "cell_type": "code",
   "execution_count": 38,
   "id": "c4d22415-0734-4f75-9708-c3883f0c3b0e",
   "metadata": {},
   "outputs": [],
   "source": [
    "# 自定义函数\n",
    "def my_function(local_x):\n",
    "    # 局部变量\n",
    "    print('local_x:', local_x)\n",
    "    # 声明变量是全局变量\n",
    "    global global_x\n",
    "    global_x = 88\n",
    "    print(\"global_x:\", global_x)"
   ]
  },
  {
   "cell_type": "code",
   "execution_count": 40,
   "id": "2e183d6a-e8ba-4953-9a7e-fa9a072dc4c9",
   "metadata": {},
   "outputs": [
    {
     "name": "stdout",
     "output_type": "stream",
     "text": [
      "local_x: 38\n",
      "global_x: 88\n"
     ]
    }
   ],
   "source": [
    "# 调用函数\n",
    "my_function(38)"
   ]
  },
  {
   "cell_type": "code",
   "execution_count": 44,
   "id": "5fedf09e-e129-431a-a21b-967c150edf0a",
   "metadata": {},
   "outputs": [
    {
     "name": "stdout",
     "output_type": "stream",
     "text": [
      "global_x: 88\n"
     ]
    }
   ],
   "source": [
    "# 在函数外部访问全局变量\n",
    "print(\"global_x:\", global_x)"
   ]
  },
  {
   "cell_type": "code",
   "execution_count": null,
   "id": "d18ae025-8ae6-4145-a776-ff803490b3c7",
   "metadata": {},
   "outputs": [],
   "source": []
  }
 ],
 "metadata": {
  "kernelspec": {
   "display_name": "Python [conda env:base] *",
   "language": "python",
   "name": "conda-base-py"
  },
  "language_info": {
   "codemirror_mode": {
    "name": "ipython",
    "version": 3
   },
   "file_extension": ".py",
   "mimetype": "text/x-python",
   "name": "python",
   "nbconvert_exporter": "python",
   "pygments_lexer": "ipython3",
   "version": "3.12.7"
  }
 },
 "nbformat": 4,
 "nbformat_minor": 5
}
