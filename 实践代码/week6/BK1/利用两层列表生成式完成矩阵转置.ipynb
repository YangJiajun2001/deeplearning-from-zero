{
 "cells": [
  {
   "cell_type": "code",
   "execution_count": 25,
   "id": "3aa084c2-b4ee-4807-9855-55c61f98c6db",
   "metadata": {},
   "outputs": [],
   "source": [
    "def transpose_2(matrix):\n",
    "    transposed = []\n",
    "    rows = len(matrix)\n",
    "    cols = len(matrix[0])\n",
    "    transposed = [[matrix[j][i]\n",
    "                  for j in range(rows)]\n",
    "                 for i in range(cols)]\n",
    "    return transposed"
   ]
  },
  {
   "cell_type": "code",
   "execution_count": 27,
   "id": "fbb6d79c-66f8-449b-b97f-401bf3925856",
   "metadata": {},
   "outputs": [
    {
     "data": {
      "text/plain": [
       "[[1, 2, 3], [4, 5, 6]]"
      ]
     },
     "execution_count": 27,
     "metadata": {},
     "output_type": "execute_result"
    }
   ],
   "source": [
    "A = [[1, 2, 3],\n",
    "    [4, 5, 6]]\n",
    "A"
   ]
  },
  {
   "cell_type": "code",
   "execution_count": 29,
   "id": "e0aada60-bb42-467b-8671-6a232cbc5f1c",
   "metadata": {},
   "outputs": [
    {
     "data": {
      "text/plain": [
       "[[1, 4], [2, 5], [3, 6]]"
      ]
     },
     "execution_count": 29,
     "metadata": {},
     "output_type": "execute_result"
    }
   ],
   "source": [
    "B = transpose_2(A)\n",
    "B"
   ]
  },
  {
   "cell_type": "code",
   "execution_count": null,
   "id": "539003da-ce89-4ba1-ab26-e11cf00d1961",
   "metadata": {},
   "outputs": [],
   "source": []
  }
 ],
 "metadata": {
  "kernelspec": {
   "display_name": "Python [conda env:base] *",
   "language": "python",
   "name": "conda-base-py"
  },
  "language_info": {
   "codemirror_mode": {
    "name": "ipython",
    "version": 3
   },
   "file_extension": ".py",
   "mimetype": "text/x-python",
   "name": "python",
   "nbconvert_exporter": "python",
   "pygments_lexer": "ipython3",
   "version": "3.12.7"
  }
 },
 "nbformat": 4,
 "nbformat_minor": 5
}
