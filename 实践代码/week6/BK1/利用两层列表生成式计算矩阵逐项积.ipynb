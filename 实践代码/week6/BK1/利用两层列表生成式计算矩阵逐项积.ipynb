{
 "cells": [
  {
   "cell_type": "code",
   "execution_count": 26,
   "id": "dcc52e2f-7168-4993-bb74-327f29283827",
   "metadata": {},
   "outputs": [],
   "source": [
    "def hadamard_prod(M1, M2):\n",
    "    if (len(M1) != len(M2) or\n",
    "       len(M1[0]) != len(M2[0])):\n",
    "        raise ValueError('Mareices must have the same shape')\n",
    "\n",
    "    result = [[M1[i][j] * M2[i][j]\n",
    "              for j in range(len(M1[0]))]\n",
    "             for i in range(len(M1))]\n",
    "    return result"
   ]
  },
  {
   "cell_type": "code",
   "execution_count": 29,
   "id": "01243f70-71af-4f76-a365-4324c98f09dc",
   "metadata": {},
   "outputs": [],
   "source": [
    "A = [[1, 2],\n",
    "    [3, 4]]\n",
    "B = [[2,3],\n",
    "    [4, 5]]"
   ]
  },
  {
   "cell_type": "code",
   "execution_count": 32,
   "id": "dd59147e-d820-4590-b331-81dfcfcf3d67",
   "metadata": {},
   "outputs": [],
   "source": [
    "# 计算矩阵逐项积\n",
    "C = hadamard_prod(A, B)"
   ]
  },
  {
   "cell_type": "code",
   "execution_count": 34,
   "id": "3da8a472-d135-4a61-84bb-5efe3ed57c34",
   "metadata": {},
   "outputs": [
    {
     "data": {
      "text/plain": [
       "[[2, 6], [12, 20]]"
      ]
     },
     "execution_count": 34,
     "metadata": {},
     "output_type": "execute_result"
    }
   ],
   "source": [
    "C"
   ]
  },
  {
   "cell_type": "code",
   "execution_count": null,
   "id": "2905ab36-6483-4151-abaf-a7fac4ffd43b",
   "metadata": {},
   "outputs": [],
   "source": []
  }
 ],
 "metadata": {
  "kernelspec": {
   "display_name": "Python [conda env:base] *",
   "language": "python",
   "name": "conda-base-py"
  },
  "language_info": {
   "codemirror_mode": {
    "name": "ipython",
    "version": 3
   },
   "file_extension": ".py",
   "mimetype": "text/x-python",
   "name": "python",
   "nbconvert_exporter": "python",
   "pygments_lexer": "ipython3",
   "version": "3.12.7"
  }
 },
 "nbformat": 4,
 "nbformat_minor": 5
}
