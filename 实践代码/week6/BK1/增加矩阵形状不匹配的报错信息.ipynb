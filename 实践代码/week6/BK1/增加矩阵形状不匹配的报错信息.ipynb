{
 "cells": [
  {
   "cell_type": "code",
   "execution_count": 32,
   "id": "9551cb93-d97d-4978-a402-ca3564a355c4",
   "metadata": {},
   "outputs": [],
   "source": [
    "# 自定义函数\n",
    "def matrix_multiplication(A, B):\n",
    "     # 检查两个矩阵形状是否匹配\n",
    "    if len(A[0]) != len(B):\n",
    "        raise ValueError('Error: check matrix size')\n",
    "    else:\n",
    "        # 定义全 0 矩阵 C 用来存放结果\n",
    "        C = [[0]*len(B[0]) for i in range(len(A))]\n",
    "        # 遍历 A 的行\n",
    "        for i in range(len(A)):# len(A) 给出 A 的行数\n",
    "            # 遍历 B 的列\n",
    "            for j in range(len(B[0])):\n",
    "                # len(B[0]) 给出 B 的列数\n",
    "                    # 这一层相当于消去 p 所在的维度，即压缩\n",
    "                    for k in range(len(B)):\n",
    "                        C[i][j] += A[i][k]*B[k][j]\n",
    "                        # 完成对应元素相乘，再求和\n",
    "        return C"
   ]
  },
  {
   "cell_type": "code",
   "execution_count": 36,
   "id": "83128df8-418f-466d-9d75-367b175bdaf4",
   "metadata": {},
   "outputs": [],
   "source": [
    "# 定义矩阵 A 和 B\n",
    "A = [[1], [2], [3], [4]]\n",
    "B = [[1, 2, 3]]"
   ]
  },
  {
   "cell_type": "code",
   "execution_count": 41,
   "id": "c0948d84-93fd-4d14-9913-5ced21b2315d",
   "metadata": {},
   "outputs": [
    {
     "name": "stdout",
     "output_type": "stream",
     "text": [
      "A @ B = \n",
      "[1, 2, 3]\n",
      "[2, 4, 6]\n",
      "[3, 6, 9]\n",
      "[4, 8, 12]\n"
     ]
    }
   ],
   "source": [
    "print('A @ B = ')\n",
    "C = matrix_multiplication(A, B)\n",
    "for row in C:\n",
    "    print(row)"
   ]
  },
  {
   "cell_type": "code",
   "execution_count": 47,
   "id": "8fec0ea3-3fb2-497a-a5ca-e88a8d088fbe",
   "metadata": {},
   "outputs": [
    {
     "name": "stdout",
     "output_type": "stream",
     "text": [
      "B @ A = \n"
     ]
    },
    {
     "ename": "ValueError",
     "evalue": "Error: check matrix size",
     "output_type": "error",
     "traceback": [
      "\u001b[1;31m---------------------------------------------------------------------------\u001b[0m",
      "\u001b[1;31mValueError\u001b[0m                                Traceback (most recent call last)",
      "Cell \u001b[1;32mIn[47], line 2\u001b[0m\n\u001b[0;32m      1\u001b[0m \u001b[38;5;28mprint\u001b[39m(\u001b[38;5;124m'\u001b[39m\u001b[38;5;124mB @ A = \u001b[39m\u001b[38;5;124m'\u001b[39m)\n\u001b[1;32m----> 2\u001b[0m D \u001b[38;5;241m=\u001b[39m matrix_multiplication(B, A)\n",
      "Cell \u001b[1;32mIn[32], line 5\u001b[0m, in \u001b[0;36mmatrix_multiplication\u001b[1;34m(A, B)\u001b[0m\n\u001b[0;32m      2\u001b[0m \u001b[38;5;28;01mdef\u001b[39;00m \u001b[38;5;21mmatrix_multiplication\u001b[39m(A, B):\n\u001b[0;32m      3\u001b[0m      \u001b[38;5;66;03m# 检查两个矩阵形状是否匹配\u001b[39;00m\n\u001b[0;32m      4\u001b[0m     \u001b[38;5;28;01mif\u001b[39;00m \u001b[38;5;28mlen\u001b[39m(A[\u001b[38;5;241m0\u001b[39m]) \u001b[38;5;241m!=\u001b[39m \u001b[38;5;28mlen\u001b[39m(B):\n\u001b[1;32m----> 5\u001b[0m         \u001b[38;5;28;01mraise\u001b[39;00m \u001b[38;5;167;01mValueError\u001b[39;00m(\u001b[38;5;124m'\u001b[39m\u001b[38;5;124mError: check matrix size\u001b[39m\u001b[38;5;124m'\u001b[39m)\n\u001b[0;32m      6\u001b[0m     \u001b[38;5;28;01melse\u001b[39;00m:\n\u001b[0;32m      7\u001b[0m         \u001b[38;5;66;03m# 定义全 0 矩阵 C 用来存放结果\u001b[39;00m\n\u001b[0;32m      8\u001b[0m         C \u001b[38;5;241m=\u001b[39m [[\u001b[38;5;241m0\u001b[39m]\u001b[38;5;241m*\u001b[39m\u001b[38;5;28mlen\u001b[39m(B[\u001b[38;5;241m0\u001b[39m]) \u001b[38;5;28;01mfor\u001b[39;00m i \u001b[38;5;129;01min\u001b[39;00m \u001b[38;5;28mrange\u001b[39m(\u001b[38;5;28mlen\u001b[39m(A))]\n",
      "\u001b[1;31mValueError\u001b[0m: Error: check matrix size"
     ]
    }
   ],
   "source": [
    "print('B @ A = ')\n",
    "D = matrix_multiplication(B, A)"
   ]
  },
  {
   "cell_type": "code",
   "execution_count": null,
   "id": "6b66e45a-dce3-43e5-9b65-3552009a1325",
   "metadata": {},
   "outputs": [],
   "source": []
  }
 ],
 "metadata": {
  "kernelspec": {
   "display_name": "Python [conda env:base] *",
   "language": "python",
   "name": "conda-base-py"
  },
  "language_info": {
   "codemirror_mode": {
    "name": "ipython",
    "version": 3
   },
   "file_extension": ".py",
   "mimetype": "text/x-python",
   "name": "python",
   "nbconvert_exporter": "python",
   "pygments_lexer": "ipython3",
   "version": "3.12.7"
  }
 },
 "nbformat": 4,
 "nbformat_minor": 5
}
