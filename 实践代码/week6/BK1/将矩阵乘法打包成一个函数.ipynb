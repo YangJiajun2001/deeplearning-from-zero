{
 "cells": [
  {
   "cell_type": "code",
   "execution_count": 32,
   "id": "678ba1c4-772a-46aa-8f22-a9aeb134d0f2",
   "metadata": {},
   "outputs": [],
   "source": [
    "# 自定义函数\n",
    "def matrix_multiplication(A, B):\n",
    "     # 定义全 0 矩阵 C 用来存放结果\n",
    "    C = [[0]*len(B[0]) for i in range(len(A))]\n",
    "    # 遍历 A 的行\n",
    "    for i in range(len(A)):# len(A) 给出 A 的行数\n",
    "        # 遍历 B 的列\n",
    "        for j in range(len(B[0])):\n",
    "        # len(B[0]) 给出 B 的列数\n",
    "            # 这一层相当于消去 k 所在的维度，即压缩\n",
    "            for k in range(len(B)):\n",
    "                C[i][j]+=A[i][k]*B[k][j]\n",
    "    return C"
   ]
  },
  {
   "cell_type": "code",
   "execution_count": 37,
   "id": "3eec382c-7c41-4233-af15-1109616d399b",
   "metadata": {},
   "outputs": [],
   "source": [
    "# 定义矩阵 A 和 B\n",
    "A = [[1], [2], [3]]\n",
    "B = [[1, 2, 3]]"
   ]
  },
  {
   "cell_type": "code",
   "execution_count": 44,
   "id": "258530f3-638d-4b9f-959f-727879fc188f",
   "metadata": {},
   "outputs": [
    {
     "name": "stdout",
     "output_type": "stream",
     "text": [
      "A @ B = \n",
      "[1, 2, 3]\n",
      "[2, 4, 6]\n",
      "[3, 6, 9]\n"
     ]
    }
   ],
   "source": [
    "print('A @ B = ')\n",
    "C = matrix_multiplication(A, B)\n",
    "for row in C:\n",
    "    print(row)"
   ]
  },
  {
   "cell_type": "code",
   "execution_count": 49,
   "id": "e092a315-e460-4b94-87a3-7ca9a0d74e58",
   "metadata": {},
   "outputs": [
    {
     "name": "stdout",
     "output_type": "stream",
     "text": [
      "B @ A = \n",
      "[14]\n"
     ]
    }
   ],
   "source": [
    "print('B @ A = ')\n",
    "D = matrix_multiplication(B, A)\n",
    "for row in D:\n",
    "    print(row)"
   ]
  },
  {
   "cell_type": "code",
   "execution_count": null,
   "id": "7daeae00-9151-40fe-a7b3-c22371d64ba3",
   "metadata": {},
   "outputs": [],
   "source": []
  }
 ],
 "metadata": {
  "kernelspec": {
   "display_name": "Python [conda env:base] *",
   "language": "python",
   "name": "conda-base-py"
  },
  "language_info": {
   "codemirror_mode": {
    "name": "ipython",
    "version": 3
   },
   "file_extension": ".py",
   "mimetype": "text/x-python",
   "name": "python",
   "nbconvert_exporter": "python",
   "pygments_lexer": "ipython3",
   "version": "3.12.7"
  }
 },
 "nbformat": 4,
 "nbformat_minor": 5
}
