{
 "cells": [
  {
   "cell_type": "code",
   "execution_count": 16,
   "id": "0444d04e-28e0-4b0b-9988-6d315e65638a",
   "metadata": {},
   "outputs": [],
   "source": [
    "def extract_main_diagonal(matrix):\n",
    "    rows = len(matrix);cols = len(matrix[0])\n",
    "    size = min(rows, cols)\n",
    "    diagonal = [matrix[i][i] for i in range(size)]\n",
    "    return diagonal"
   ]
  },
  {
   "cell_type": "code",
   "execution_count": 19,
   "id": "a7775854-45cd-4055-9cd7-425ea139008a",
   "metadata": {},
   "outputs": [],
   "source": [
    "matrix = [[1, 2, 3],\n",
    "         [4, 5, 6]]"
   ]
  },
  {
   "cell_type": "code",
   "execution_count": 23,
   "id": "b78e50ca-6d13-4101-9343-825374c0d275",
   "metadata": {},
   "outputs": [
    {
     "data": {
      "text/plain": [
       "[1, 5]"
      ]
     },
     "execution_count": 23,
     "metadata": {},
     "output_type": "execute_result"
    }
   ],
   "source": [
    "main_diagonal = extract_main_diagonal(matrix)\n",
    "main_diagonal"
   ]
  },
  {
   "cell_type": "code",
   "execution_count": null,
   "id": "219794c6-84a1-41a8-a2bf-d5f8429644bd",
   "metadata": {},
   "outputs": [],
   "source": []
  }
 ],
 "metadata": {
  "kernelspec": {
   "display_name": "Python [conda env:base] *",
   "language": "python",
   "name": "conda-base-py"
  },
  "language_info": {
   "codemirror_mode": {
    "name": "ipython",
    "version": 3
   },
   "file_extension": ".py",
   "mimetype": "text/x-python",
   "name": "python",
   "nbconvert_exporter": "python",
   "pygments_lexer": "ipython3",
   "version": "3.12.7"
  }
 },
 "nbformat": 4,
 "nbformat_minor": 5
}
