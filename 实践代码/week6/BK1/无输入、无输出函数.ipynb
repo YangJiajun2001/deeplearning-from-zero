{
 "cells": [
  {
   "cell_type": "code",
   "execution_count": 14,
   "id": "29151ddc-895b-44f1-b2ea-4326209f15a1",
   "metadata": {},
   "outputs": [],
   "source": [
    "def say_hello():\n",
    "    # 自定义函数：打印问候\n",
    "    # 输入：无\n",
    "    # 输出：无\n",
    "    print('Hello!')"
   ]
  },
  {
   "cell_type": "code",
   "execution_count": 24,
   "id": "20adebb2-d279-410b-9715-bbc2693d9422",
   "metadata": {},
   "outputs": [
    {
     "name": "stdout",
     "output_type": "stream",
     "text": [
      "Hello!\n"
     ]
    }
   ],
   "source": [
    "# 调用自定义函数\n",
    "say_hello()"
   ]
  },
  {
   "cell_type": "code",
   "execution_count": null,
   "id": "2f40e7f7-1ebd-45f1-8560-d6dc6d241e53",
   "metadata": {},
   "outputs": [],
   "source": []
  }
 ],
 "metadata": {
  "kernelspec": {
   "display_name": "Python [conda env:base] *",
   "language": "python",
   "name": "conda-base-py"
  },
  "language_info": {
   "codemirror_mode": {
    "name": "ipython",
    "version": 3
   },
   "file_extension": ".py",
   "mimetype": "text/x-python",
   "name": "python",
   "nbconvert_exporter": "python",
   "pygments_lexer": "ipython3",
   "version": "3.12.7"
  }
 },
 "nbformat": 4,
 "nbformat_minor": 5
}
