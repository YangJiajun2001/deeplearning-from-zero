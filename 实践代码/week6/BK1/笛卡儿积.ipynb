{
 "cells": [
  {
   "cell_type": "code",
   "execution_count": 4,
   "id": "6d3c9306-59f7-4183-929a-9d583eb50894",
   "metadata": {},
   "outputs": [],
   "source": [
    "column1 = [1, 2, 3, 4]\n",
    "column2 = ['a', 'b', 'c']"
   ]
  },
  {
   "cell_type": "code",
   "execution_count": 16,
   "id": "c9c3d642-e624-4674-905c-2eaadaa75897",
   "metadata": {},
   "outputs": [
    {
     "name": "stdout",
     "output_type": "stream",
     "text": [
      "[(1, 'a'), (1, 'b'), (1, 'c'), (2, 'a'), (2, 'b'), (2, 'c'), (3, 'a'), (3, 'b'), (3, 'c'), (4, 'a'), (4, 'b'), (4, 'c')]\n"
     ]
    }
   ],
   "source": [
    "cartesian_product = [(x, y) for x in column1 for y in column2]\n",
    "print(cartesian_product)"
   ]
  },
  {
   "cell_type": "code",
   "execution_count": 30,
   "id": "c62bd46a-49d9-41a9-bac6-db1a399eb4af",
   "metadata": {},
   "outputs": [
    {
     "name": "stdout",
     "output_type": "stream",
     "text": [
      "[(1, 'a'), (2, 'a'), (3, 'a'), (4, 'a')]\n",
      "[(1, 'b'), (2, 'b'), (3, 'b'), (4, 'b')]\n",
      "[(1, 'c'), (2, 'c'), (3, 'c'), (4, 'c')]\n"
     ]
    }
   ],
   "source": [
    "cartesian_product = [[(x, y) for x in column1] for y in column2]\n",
    "for prod_idx in cartesian_product:\n",
    "    print(prod_idx)"
   ]
  },
  {
   "cell_type": "code",
   "execution_count": 32,
   "id": "c53582a7-dc6f-4f66-aabf-faeaaac31b6b",
   "metadata": {},
   "outputs": [
    {
     "data": {
      "text/plain": [
       "[[(1, 'a'), (2, 'a'), (3, 'a'), (4, 'a')],\n",
       " [(1, 'b'), (2, 'b'), (3, 'b'), (4, 'b')],\n",
       " [(1, 'c'), (2, 'c'), (3, 'c'), (4, 'c')]]"
      ]
     },
     "execution_count": 32,
     "metadata": {},
     "output_type": "execute_result"
    }
   ],
   "source": [
    "cartesian_product"
   ]
  },
  {
   "cell_type": "code",
   "execution_count": 44,
   "id": "ab654a9f-3a69-48c8-aa07-b3c07269b1e5",
   "metadata": {},
   "outputs": [
    {
     "name": "stdout",
     "output_type": "stream",
     "text": [
      "[(1, 'a'), (1, 'b'), (1, 'c'), (2, 'a'), (2, 'b'), (2, 'c'), (3, 'a'), (3, 'b'), (3, 'c'), (4, 'a'), (4, 'b'), (4, 'c')]\n"
     ]
    }
   ],
   "source": [
    "from itertools import product\n",
    "cartesian_product = list(product(column1, column2))\n",
    "print(cartesian_product)"
   ]
  },
  {
   "cell_type": "code",
   "execution_count": null,
   "id": "581d9a28-6ea9-44de-9844-377a85249470",
   "metadata": {},
   "outputs": [],
   "source": []
  }
 ],
 "metadata": {
  "kernelspec": {
   "display_name": "Python [conda env:base] *",
   "language": "python",
   "name": "conda-base-py"
  },
  "language_info": {
   "codemirror_mode": {
    "name": "ipython",
    "version": 3
   },
   "file_extension": ".py",
   "mimetype": "text/x-python",
   "name": "python",
   "nbconvert_exporter": "python",
   "pygments_lexer": "ipython3",
   "version": "3.12.7"
  }
 },
 "nbformat": 4,
 "nbformat_minor": 5
}
