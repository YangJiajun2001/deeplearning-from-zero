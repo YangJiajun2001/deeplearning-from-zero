{
 "cells": [
  {
   "cell_type": "code",
   "execution_count": 23,
   "id": "5a402fcf-07af-4e49-8ffd-09a5e744a903",
   "metadata": {},
   "outputs": [],
   "source": [
    "# 计算向量内积\n",
    "def inner_prod(a, b):\n",
    "    '''\n",
    "    自定义函数计算两个向量内积\n",
    "    输入：\n",
    "    a：向量，类型为数据列表\n",
    "    b：向量，类型为数据列表\n",
    "    输出：\n",
    "    c：标量\n",
    "    参考：\n",
    "    https://mathworld.wolfram.com/InnerProduct.html\n",
    "    '''\n",
    "    # 检查两个向量元素数量是否相同\n",
    "    if len(a) != len(b):\n",
    "        raise ValueError('Error:check a/b lengths')\n",
    "\n",
    "    # 初始化内积为0\n",
    "    dot_prod = 0\n",
    "    # 使用for循环计算内积\n",
    "    for i in range(len(a)):\n",
    "        dot_prod += a[i]*b[i]\n",
    "    return dot_prod"
   ]
  },
  {
   "cell_type": "code",
   "execution_count": 27,
   "id": "9a785a06-7e2d-4ea8-bca0-dc7657612300",
   "metadata": {},
   "outputs": [
    {
     "name": "stdout",
     "output_type": "stream",
     "text": [
      "Help on function inner_prod in module __main__:\n",
      "\n",
      "inner_prod(a, b)\n",
      "    自定义函数计算两个向量内积\n",
      "    输入：\n",
      "    a：向量，类型为数据列表\n",
      "    b：向量，类型为数据列表\n",
      "    输出：\n",
      "    c：标量\n",
      "    参考：\n",
      "    https://mathworld.wolfram.com/InnerProduct.html\n",
      "\n"
     ]
    }
   ],
   "source": [
    "# 查询自定义函数文档，两种办法\n",
    "help(inner_prod)"
   ]
  },
  {
   "cell_type": "code",
   "execution_count": 32,
   "id": "df62a2eb-e084-47d1-b0e2-684c3446d563",
   "metadata": {},
   "outputs": [
    {
     "name": "stdout",
     "output_type": "stream",
     "text": [
      "\n",
      "    自定义函数计算两个向量内积\n",
      "    输入：\n",
      "    a：向量，类型为数据列表\n",
      "    b：向量，类型为数据列表\n",
      "    输出：\n",
      "    c：标量\n",
      "    参考：\n",
      "    https://mathworld.wolfram.com/InnerProduct.html\n",
      "    \n"
     ]
    }
   ],
   "source": [
    "print(inner_prod.__doc__)"
   ]
  },
  {
   "cell_type": "code",
   "execution_count": 39,
   "id": "8a8d8b90-cb27-48e4-a2b5-b42c580a874b",
   "metadata": {},
   "outputs": [],
   "source": [
    "# 定义向量a和b\n",
    "a = [1, 2, 3, 4, 5, 6, 7, 8, 9]\n",
    "b = a[::-1]"
   ]
  },
  {
   "cell_type": "code",
   "execution_count": 43,
   "id": "9b75d608-92e9-4c06-93d3-065d06be4c23",
   "metadata": {},
   "outputs": [],
   "source": [
    "# 调用函数\n",
    "c = inner_prod(a, b)"
   ]
  },
  {
   "cell_type": "code",
   "execution_count": 48,
   "id": "aa6e289f-9c37-4a6b-ab23-43aead95306a",
   "metadata": {},
   "outputs": [
    {
     "name": "stdout",
     "output_type": "stream",
     "text": [
      "向量内积为： 165\n"
     ]
    }
   ],
   "source": [
    "# 打印内积\n",
    "print('向量内积为：', c)"
   ]
  },
  {
   "cell_type": "code",
   "execution_count": null,
   "id": "283ca5b5-5c78-436d-94cf-5ef8322931c4",
   "metadata": {},
   "outputs": [],
   "source": []
  }
 ],
 "metadata": {
  "kernelspec": {
   "display_name": "Python [conda env:base] *",
   "language": "python",
   "name": "conda-base-py"
  },
  "language_info": {
   "codemirror_mode": {
    "name": "ipython",
    "version": 3
   },
   "file_extension": ".py",
   "mimetype": "text/x-python",
   "name": "python",
   "nbconvert_exporter": "python",
   "pygments_lexer": "ipython3",
   "version": "3.12.7"
  }
 },
 "nbformat": 4,
 "nbformat_minor": 5
}
