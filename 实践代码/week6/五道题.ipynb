{
 "cells": [
  {
   "cell_type": "markdown",
   "id": "2834715f-2d32-4644-a9f6-80a0c48c6c0e",
   "metadata": {},
   "source": [
    "# 1.从 URL 中删除锚点"
   ]
  },
  {
   "cell_type": "markdown",
   "id": "f865c331-ab84-4d0c-a895-13f4d7e0ef14",
   "metadata": {},
   "source": [
    "更好的解决方案"
   ]
  },
  {
   "cell_type": "code",
   "execution_count": null,
   "id": "0ebd28b7-737d-42ee-a7e0-92fa3e3857ac",
   "metadata": {},
   "outputs": [],
   "source": [
    "def remove_url_anchor(url):\n",
    "  return url.split('#')[0]"
   ]
  },
  {
   "cell_type": "markdown",
   "id": "c84045d4-e90b-4ac5-8b12-90996c2f9085",
   "metadata": {},
   "source": [
    "# 2.Sum of angles\n",
    "求 n 边简单多边形中内角的总和（以度为单位）。N 将大于 2。"
   ]
  },
  {
   "cell_type": "code",
   "execution_count": null,
   "id": "9fe2b6bc-8afc-4de2-9622-1b23569f0f7f",
   "metadata": {},
   "outputs": [],
   "source": [
    "def angle(n):\n",
    "    return 180 * (n - 2)"
   ]
  },
  {
   "cell_type": "markdown",
   "id": "0012d53a-5db4-4e45-bf6b-16d90ed60f9c",
   "metadata": {},
   "source": [
    "# 3.展平数组并排序\n",
    "给定一个二维整数数组，返回数组的扁平化版本，其中所有整数都按排序（升序）顺序排列。"
   ]
  },
  {
   "cell_type": "markdown",
   "id": "2a0e31a1-e466-4da0-959f-8ed3c17cd147",
   "metadata": {},
   "source": [
    "更好的解决方案"
   ]
  },
  {
   "cell_type": "code",
   "execution_count": null,
   "id": "61ec0384-e5ae-40f6-b367-7713450da5db",
   "metadata": {},
   "outputs": [],
   "source": [
    "def flatten_and_sort(array):\n",
    "    return sorted([j for i in array for j in i])"
   ]
  },
  {
   "cell_type": "markdown",
   "id": "9cf832de-068c-4fe3-9a70-ddac4334e898",
   "metadata": {},
   "source": [
    "# 4.删除重复的单词\n",
    "您的任务是从字符串中删除所有重复的单词，只留下单个 （第一个） 单词条目。"
   ]
  },
  {
   "cell_type": "markdown",
   "id": "9e6ea61a-1b24-4f33-b96c-18ef075e5dd9",
   "metadata": {},
   "source": [
    "更好的解决方案"
   ]
  },
  {
   "cell_type": "code",
   "execution_count": null,
   "id": "4a3af84e-9048-4fb1-ae93-b841b159e7e2",
   "metadata": {},
   "outputs": [],
   "source": [
    "def remove_duplicate_words(s):\n",
    "    return ' '.join(dict.fromkeys(s.split()))"
   ]
  },
  {
   "cell_type": "markdown",
   "id": "6dbdc336-f7ae-4a6c-8767-45e29a07394e",
   "metadata": {},
   "source": [
    "# 5.反转单词\n",
    "完成接受 string 参数的函数，并反转字符串中的每个单词。字符串中的所有空格都应保留。"
   ]
  },
  {
   "cell_type": "markdown",
   "id": "e782af25-c133-44b1-8521-ab30bcf33cff",
   "metadata": {},
   "source": [
    "更好的解决方案"
   ]
  },
  {
   "cell_type": "code",
   "execution_count": null,
   "id": "61434a24-b283-4348-bd68-0b6e7398988c",
   "metadata": {},
   "outputs": [],
   "source": [
    "def reverse_words(str):\n",
    "    return ' '.join(s[::-1] for s in str.split(' '))"
   ]
  }
 ],
 "metadata": {
  "kernelspec": {
   "display_name": "Python [conda env:base] *",
   "language": "python",
   "name": "conda-base-py"
  },
  "language_info": {
   "codemirror_mode": {
    "name": "ipython",
    "version": 3
   },
   "file_extension": ".py",
   "mimetype": "text/x-python",
   "name": "python",
   "nbconvert_exporter": "python",
   "pygments_lexer": "ipython3",
   "version": "3.12.7"
  }
 },
 "nbformat": 4,
 "nbformat_minor": 5
}
