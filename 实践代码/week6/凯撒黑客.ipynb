{
 "cells": [
  {
   "cell_type": "code",
   "execution_count": 5,
   "id": "5e7319d9-d827-49ac-8ba7-3d38e26c4af3",
   "metadata": {},
   "outputs": [
    {
     "name": "stdout",
     "output_type": "stream",
     "text": [
      "Enter the encrypted Caesar cipher message to hack.\n"
     ]
    },
    {
     "name": "stdin",
     "output_type": "stream",
     "text": [
      ">  yu\n"
     ]
    },
    {
     "name": "stdout",
     "output_type": "stream",
     "text": [
      "Key #0: yu\n",
      "Key #1: yu\n",
      "Key #2: yu\n",
      "Key #3: yu\n",
      "Key #4: yu\n",
      "Key #5: yu\n",
      "Key #6: yu\n",
      "Key #7: yu\n",
      "Key #8: yu\n",
      "Key #9: yu\n",
      "Key #10: yu\n",
      "Key #11: yu\n",
      "Key #12: yu\n",
      "Key #13: yu\n",
      "Key #14: yu\n",
      "Key #15: yu\n",
      "Key #16: yu\n",
      "Key #17: yu\n",
      "Key #18: yu\n",
      "Key #19: yu\n",
      "Key #20: yu\n",
      "Key #21: yu\n",
      "Key #22: yu\n",
      "Key #23: yu\n",
      "Key #24: yu\n",
      "Key #25: yu\n"
     ]
    }
   ],
   "source": [
    "# 让玩家输入要解密的消息\n",
    "print('Enter the encrypted Caesar cipher message to hack.')\n",
    "message = input('> ')\n",
    "\n",
    "\n",
    "# SYMBOLS包含所有可能被加密/解密的符号\n",
    "# （这必须与加密消息时使用的SYMNOLS匹配）\n",
    "\n",
    "SYMBOLS = 'ABCDEFGHIJKLMNOPQRSTUVWXYZ'\n",
    "\n",
    "for key in range(len(SYMBOLS)):\n",
    "    translated = ''\n",
    "\n",
    "    # 解密消息中的每个符号\n",
    "    for symbol in message:\n",
    "        if symbol in SYMBOLS:\n",
    "            num = SYMBOLS.find(symbol) # 获取符号的索引num\n",
    "            num = num - key # 解密索引num\n",
    "            # 如果num小于0，则进行环绕处理\n",
    "            if num < 0:\n",
    "                num = num +len(SYMBOLS)\n",
    "            # 将解密索引对应的符号添加到translated中\n",
    "            translated = translated + SYMBOLS[num]\n",
    "        else:\n",
    "            # 只需添加符号而不解密\n",
    "            translated = translated +symbol\n",
    "    # 显示正在测试的密钥及解密后的文本\n",
    "    print('Key #{}: {}'.format(key, translated))"
   ]
  },
  {
   "cell_type": "code",
   "execution_count": null,
   "id": "6e4263a7-6733-46ba-9a36-aaf615509db8",
   "metadata": {},
   "outputs": [],
   "source": []
  }
 ],
 "metadata": {
  "kernelspec": {
   "display_name": "Python [conda env:base] *",
   "language": "python",
   "name": "conda-base-py"
  },
  "language_info": {
   "codemirror_mode": {
    "name": "ipython",
    "version": 3
   },
   "file_extension": ".py",
   "mimetype": "text/x-python",
   "name": "python",
   "nbconvert_exporter": "python",
   "pygments_lexer": "ipython3",
   "version": "3.12.7"
  }
 },
 "nbformat": 4,
 "nbformat_minor": 5
}
